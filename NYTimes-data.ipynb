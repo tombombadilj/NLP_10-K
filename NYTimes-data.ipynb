{
 "cells": [
  {
   "cell_type": "code",
   "execution_count": 28,
   "metadata": {
    "collapsed": true
   },
   "outputs": [],
   "source": [
    "from nytimesarticle import articleAPI\n",
    "import urllib\n",
    "import pandas as pd\n",
    "import struct\n",
    "import numpy as np\n",
    "from bs4 import BeautifulSoup\n",
    "import requests\n",
    "import regex as re\n",
    "import pickle\n",
    "import os.path\n",
    "import datetime\n",
    "import spacy\n",
    "import string\n",
    "import bs4"
   ]
  },
  {
   "cell_type": "markdown",
   "metadata": {},
   "source": [
    "Attmping to use NYTimes API to extract news article headlines"
   ]
  },
  {
   "cell_type": "code",
   "execution_count": 2,
   "metadata": {
    "collapsed": true
   },
   "outputs": [],
   "source": [
    "api = articleAPI('463d99253be74952a9db54b4242df9b2')"
   ]
  },
  {
   "cell_type": "code",
   "execution_count": null,
   "metadata": {
    "collapsed": true
   },
   "outputs": [],
   "source": [
    "articles = api.search( q = 'Obama', \n",
    "                      fq = {'headline':'Obama', 'source':['Reuters','AP', 'The New York Times']}, \n",
    "                      begin_date = 20111231, \n",
    "                      end_date\n",
    "                      facet_field = ['source','day_of_week'], \n",
    "                      facet_filter = True )"
   ]
  },
  {
   "cell_type": "code",
   "execution_count": 8,
   "metadata": {
    "collapsed": false
   },
   "outputs": [],
   "source": [
    "articles = api.search(q = 'alpha industries inc', \n",
    "                      begin_date = 20111231, end_date = 20161231,\n",
    "                      fl = [\"web_url\", \"snippet\", \"headline\", \"keywords\", \"pub_date\", \"word_count\"])"
   ]
  },
  {
   "cell_type": "code",
   "execution_count": 10,
   "metadata": {
    "collapsed": false
   },
   "outputs": [
    {
     "data": {
      "text/plain": [
       "{u'copyright': u'Copyright (c) 2013 The New York Times Company.  All Rights Reserved.',\n",
       " u'response': {u'docs': [{u'headline': {u'content_kicker': u'Common Sense',\n",
       "     u'kicker': u'Common Sense',\n",
       "     u'main': u'King Coal, Long Besieged, Is Deposed by the Market',\n",
       "     u'print_headline': u'The Markets Dig a Grave for Big Coal'},\n",
       "    u'keywords': [{u'is_major': u'Y',\n",
       "      u'name': u'subject',\n",
       "      u'rank': u'1',\n",
       "      u'value': u'Coal'},\n",
       "     {u'is_major': u'N',\n",
       "      u'name': u'subject',\n",
       "      u'rank': u'11',\n",
       "      u'value': u'Carbon Dioxide'},\n",
       "     {u'is_major': u'N',\n",
       "      u'name': u'subject',\n",
       "      u'rank': u'12',\n",
       "      u'value': u'Energy and Power'},\n",
       "     {u'is_major': u'Y',\n",
       "      u'name': u'subject',\n",
       "      u'rank': u'2',\n",
       "      u'value': u'Greenhouse Gas Emissions'},\n",
       "     {u'is_major': u'Y',\n",
       "      u'name': u'subject',\n",
       "      u'rank': u'3',\n",
       "      u'value': u'Alternative and Renewable Energy'},\n",
       "     {u'is_major': u'Y',\n",
       "      u'name': u'subject',\n",
       "      u'rank': u'4',\n",
       "      u'value': u'Bankruptcies'},\n",
       "     {u'is_major': u'N',\n",
       "      u'name': u'organizations',\n",
       "      u'rank': u'5',\n",
       "      u'value': u'Alpha Natural Resources Inc'},\n",
       "     {u'is_major': u'N',\n",
       "      u'name': u'organizations',\n",
       "      u'rank': u'6',\n",
       "      u'value': u'Patriot Coal Corp'},\n",
       "     {u'is_major': u'N',\n",
       "      u'name': u'organizations',\n",
       "      u'rank': u'7',\n",
       "      u'value': u'Walter Industries Inc'},\n",
       "     {u'is_major': u'N',\n",
       "      u'name': u'subject',\n",
       "      u'rank': u'8',\n",
       "      u'value': u'Global Warming'},\n",
       "     {u'is_major': u'N',\n",
       "      u'name': u'persons',\n",
       "      u'rank': u'9',\n",
       "      u'value': u'Obama, Barack'},\n",
       "     {u'is_major': u'N',\n",
       "      u'name': u'organizations',\n",
       "      u'rank': u'10',\n",
       "      u'value': u'Environmental Protection Agency'}],\n",
       "    u'pub_date': u'2015-08-07T00:00:00Z',\n",
       "    u'snippet': u'In a few short years, market forces have accomplished what environmentalists struggled to do for decades: curtail America\\u2019s coal consumption....',\n",
       "    u'web_url': u'https://www.nytimes.com/2015/08/07/business/energy-environment/coal-industry-wobbles-as-market-forces-slug-away.html',\n",
       "    u'word_count': u'1199'},\n",
       "   {u'headline': {u'main': u'Coal Miners Struggle to Survive in an Industry Battered by Layoffs and Bankruptcy',\n",
       "     u'print_headline': u'Miners Bracing for a Future of Ever-Dwindling Demand for Coal '},\n",
       "    u'keywords': [{u'is_major': u'Y',\n",
       "      u'name': u'subject',\n",
       "      u'rank': u'1',\n",
       "      u'value': u'Coal'},\n",
       "     {u'is_major': u'N',\n",
       "      u'name': u'organizations',\n",
       "      u'rank': u'11',\n",
       "      u'value': u'Murray Energy Corp'},\n",
       "     {u'is_major': u'Y',\n",
       "      u'name': u'glocations',\n",
       "      u'rank': u'2',\n",
       "      u'value': u'West Virginia'},\n",
       "     {u'is_major': u'Y',\n",
       "      u'name': u'subject',\n",
       "      u'rank': u'3',\n",
       "      u'value': u'Shutdowns (Institutional)'},\n",
       "     {u'is_major': u'N',\n",
       "      u'name': u'subject',\n",
       "      u'rank': u'4',\n",
       "      u'value': u'Mines and Mining'},\n",
       "     {u'is_major': u'N',\n",
       "      u'name': u'subject',\n",
       "      u'rank': u'5',\n",
       "      u'value': u'Layoffs and Job Reductions'},\n",
       "     {u'is_major': u'N',\n",
       "      u'name': u'subject',\n",
       "      u'rank': u'6',\n",
       "      u'value': u'Natural Gas'},\n",
       "     {u'is_major': u'N',\n",
       "      u'name': u'subject',\n",
       "      u'rank': u'7',\n",
       "      u'value': u'Electric Light and Power'},\n",
       "     {u'is_major': u'N',\n",
       "      u'name': u'subject',\n",
       "      u'rank': u'8',\n",
       "      u'value': u'Bankruptcies'},\n",
       "     {u'is_major': u'N',\n",
       "      u'name': u'organizations',\n",
       "      u'rank': u'9',\n",
       "      u'value': u'Alpha Natural Resources Inc'},\n",
       "     {u'is_major': u'N',\n",
       "      u'name': u'organizations',\n",
       "      u'rank': u'10',\n",
       "      u'value': u'Patriot Coal Corp'}],\n",
       "    u'pub_date': u'2015-07-18T00:00:00Z',\n",
       "    u'snippet': u'Shrinking exports and America\\u2019s growing reliance on hydraulic fracturing and renewable energy have left coal producers in deep trouble....',\n",
       "    u'web_url': u'https://www.nytimes.com/2015/07/18/business/energy-environment/coal-miners-struggle-to-survive-in-an-industry-battered-by-layoffs-and-bankruptcy.html',\n",
       "    u'word_count': u'1300'},\n",
       "   {u'headline': {u'kicker': u'News',\n",
       "     u'main': u'Morning Agenda: Anheuser-Busch InBev and SABMiller Get More Time'},\n",
       "    u'keywords': [{u'name': u'organizations',\n",
       "      u'rank': u'1',\n",
       "      u'value': u'Anheuser-Busch InBev NV'},\n",
       "     {u'name': u'organizations', u'rank': u'11', u'value': u'Theranos Inc'},\n",
       "     {u'name': u'organizations', u'rank': u'12', u'value': u'Walgreen Co.'},\n",
       "     {u'name': u'organizations',\n",
       "      u'rank': u'2',\n",
       "      u'value': u'Cablevision Systems Corporation'},\n",
       "     {u'name': u'organizations',\n",
       "      u'rank': u'3',\n",
       "      u'value': u'Credit Suisse Group AG'},\n",
       "     {u'name': u'organizations',\n",
       "      u'rank': u'4',\n",
       "      u'value': u'Goldman Sachs Group Inc'},\n",
       "     {u'name': u'organizations', u'rank': u'5', u'value': u'KKR & Co LP'},\n",
       "     {u'name': u'organizations',\n",
       "      u'rank': u'6',\n",
       "      u'value': u'Molson Coors Brewing Company'},\n",
       "     {u'name': u'organizations',\n",
       "      u'rank': u'7',\n",
       "      u'value': u'Rite Aid Corporation'},\n",
       "     {u'name': u'organizations',\n",
       "      u'rank': u'8',\n",
       "      u'value': u'Securities and Exchange Commission'},\n",
       "     {u'name': u'organizations', u'rank': u'9', u'value': u'St. Joe Company'},\n",
       "     {u'name': u'organizations',\n",
       "      u'rank': u'10',\n",
       "      u'value': u'Starwood Hotels &amp; Resorts Worldwide Inc'},\n",
       "     {u'name': u'subject', u'rank': u'1', u'value': u'Art'},\n",
       "     {u'name': u'subject', u'rank': u'11', u'value': u'Soros, George'},\n",
       "     {u'name': u'subject',\n",
       "      u'rank': u'12',\n",
       "      u'value': u'Valeant Pharmaceuticals International Inc'},\n",
       "     {u'name': u'subject', u'rank': u'13', u'value': u'Whistle-Blowers'},\n",
       "     {u'name': u'subject', u'rank': u'2', u'value': u'Barclays PLC'},\n",
       "     {u'name': u'subject',\n",
       "      u'rank': u'3',\n",
       "      u'value': u'Drugs (Pharmaceuticals)'},\n",
       "     {u'name': u'subject', u'rank': u'4', u'value': u'Federal Reserve System'},\n",
       "     {u'name': u'subject', u'rank': u'5', u'value': u'Hedge Funds'},\n",
       "     {u'name': u'subject',\n",
       "      u'rank': u'6',\n",
       "      u'value': u'Initial Public Offerings'},\n",
       "     {u'name': u'subject', u'rank': u'7', u'value': u'Interest Rates'},\n",
       "     {u'name': u'subject',\n",
       "      u'rank': u'8',\n",
       "      u'value': u'International Business Machines Corporation'},\n",
       "     {u'name': u'subject',\n",
       "      u'rank': u'9',\n",
       "      u'value': u'Libor (London Interbank Offered Rate)'},\n",
       "     {u'name': u'subject',\n",
       "      u'rank': u'10',\n",
       "      u'value': u'Mergers, Acquisitions and Divestitures'}],\n",
       "    u'pub_date': u'2015-10-28T06:07:37Z',\n",
       "    u'snippet': u'Walgreens to Buy Rite Aid | Valeant Shows the Risk of Follow the Leader | James Staley Named Chief of Barclays...',\n",
       "    u'web_url': u'https://news.blogs.nytimes.com/2015/10/28/morning-agenda-anheuser-busch-inbev-and-sabmiller-get-more-time/',\n",
       "    u'word_count': u'2172'},\n",
       "   {u'headline': {u'main': u'For the Highest-Paid C.E.O.s, the Party Goes On',\n",
       "     u'print_headline': u'It&#8217;s (Still) Their Party '},\n",
       "    u'keywords': [{u'is_major': u'Y',\n",
       "      u'name': u'subject',\n",
       "      u'rank': u'1',\n",
       "      u'value': u'Executive Compensation'},\n",
       "     {u'is_major': u'Y',\n",
       "      u'name': u'persons',\n",
       "      u'rank': u'2',\n",
       "      u'value': u'Malone, John C'},\n",
       "     {u'is_major': u'N',\n",
       "      u'name': u'subject',\n",
       "      u'rank': u'3',\n",
       "      u'value': u'Bonuses'},\n",
       "     {u'is_major': u'N',\n",
       "      u'name': u'subject',\n",
       "      u'rank': u'4',\n",
       "      u'value': u'Wages and Salaries'},\n",
       "     {u'is_major': u'N',\n",
       "      u'name': u'persons',\n",
       "      u'rank': u'5',\n",
       "      u'value': u'Fries, Michael T'},\n",
       "     {u'is_major': u'N',\n",
       "      u'name': u'persons',\n",
       "      u'rank': u'6',\n",
       "      u'value': u'Maffei, Gregory B'},\n",
       "     {u'is_major': u'N',\n",
       "      u'name': u'persons',\n",
       "      u'rank': u'7',\n",
       "      u'value': u'Zaslav, David M'},\n",
       "     {u'is_major': u'N',\n",
       "      u'name': u'organizations',\n",
       "      u'rank': u'8',\n",
       "      u'value': u'Discovery Communications Inc'},\n",
       "     {u'is_major': u'N',\n",
       "      u'name': u'organizations',\n",
       "      u'rank': u'9',\n",
       "      u'value': u'Liberty Global Inc'},\n",
       "     {u'is_major': u'N',\n",
       "      u'name': u'organizations',\n",
       "      u'rank': u'10',\n",
       "      u'value': u'Liberty Media Corp'}],\n",
       "    u'pub_date': u'2015-05-17T00:00:00Z',\n",
       "    u'snippet': u'Four chief executives at five companies with ties to John C. Malone, who built a cable and communications empire, were awarded more than $350 million last year....',\n",
       "    u'web_url': u'https://www.nytimes.com/2015/05/17/business/for-the-highest-paid-ceos-the-party-goes-on.html',\n",
       "    u'word_count': u'2636'},\n",
       "   {u'headline': {u'main': u'Deutsche Bank Pulls Back from Deals in Coal Mining Sector',\n",
       "     u'print_headline': u'Deutsche Bank Retreats From Coal Mining Deals'},\n",
       "    u'keywords': [{u'is_major': u'N',\n",
       "      u'name': u'subject',\n",
       "      u'rank': u'1',\n",
       "      u'value': u'Banking and Financial Institutions'},\n",
       "     {u'is_major': u'Y',\n",
       "      u'name': u'subject',\n",
       "      u'rank': u'2',\n",
       "      u'value': u'Coal'},\n",
       "     {u'is_major': u'N',\n",
       "      u'name': u'subject',\n",
       "      u'rank': u'3',\n",
       "      u'value': u'Metals and Minerals'},\n",
       "     {u'is_major': u'Y',\n",
       "      u'name': u'organizations',\n",
       "      u'rank': u'4',\n",
       "      u'value': u'Deutsche Bank AG'},\n",
       "     {u'is_major': u'Y',\n",
       "      u'name': u'organizations',\n",
       "      u'rank': u'5',\n",
       "      u'value': u'Jefferies Group Inc'}],\n",
       "    u'pub_date': u'2016-07-08T00:00:00Z',\n",
       "    u'snippet': u'Investment bankers leave as Deutsche joins other banks in cutting financing to a beaten-down industry that has attracted environmentalists\\u2019 scorn....',\n",
       "    u'web_url': u'https://www.nytimes.com/2016/07/08/business/dealbook/deutsche-bank-pulls-back-from-deals-in-coal-mining-sector.html',\n",
       "    u'word_count': u'943'},\n",
       "   {u'headline': {u'content_kicker': u'Deal Professor',\n",
       "     u'kicker': u'Deal Professor',\n",
       "     u'main': u'Valeant Stock Plunge Shows the Risk of Following the Leader',\n",
       "     u'print_headline': u'Valeant Stock Plunge Shows the Risk of Following the Leader'},\n",
       "    u'keywords': [{u'is_major': u'Y',\n",
       "      u'name': u'subject',\n",
       "      u'rank': u'1',\n",
       "      u'value': u'Hedge Funds'},\n",
       "     {u'is_major': u'Y',\n",
       "      u'name': u'organizations',\n",
       "      u'rank': u'2',\n",
       "      u'value': u'Valeant Pharmaceuticals International Inc'},\n",
       "     {u'is_major': u'N',\n",
       "      u'name': u'organizations',\n",
       "      u'rank': u'3',\n",
       "      u'value': u'ValueAct Capital Partners'},\n",
       "     {u'is_major': u'N',\n",
       "      u'name': u'persons',\n",
       "      u'rank': u'4',\n",
       "      u'value': u'Pearson, John Michael (1959- )'},\n",
       "     {u'is_major': u'N',\n",
       "      u'name': u'persons',\n",
       "      u'rank': u'5',\n",
       "      u'value': u'Morfit, G Mason'}],\n",
       "    u'pub_date': u'2015-10-28T00:00:00Z',\n",
       "    u'snippet': u'The turmoil in Valeant Pharmaceuticals International shares reveals a dangerous tendency of hedge funds to engage in herd behavior when investing....',\n",
       "    u'web_url': u'https://www.nytimes.com/2015/10/28/business/dealbook/valeant-stock-plunge-shows-risk-of-following-the-leader.html',\n",
       "    u'word_count': u'1180'},\n",
       "   {u'headline': {u'main': u'Reliance Seeks Sale of Eagle Ford Stake for Up to $4.5 Billion: Sources',\n",
       "     u'print_headline': u'Reliance Seeks Sale of Eagle Ford Stake for Up to $4.5 Billion: Sources'},\n",
       "    u'keywords': [],\n",
       "    u'pub_date': u'2014-10-10T16:27:24Z',\n",
       "    u'snippet': u\"India's Reliance Industries Ltd is seeking a buyer for its stake in the Eagle Ford Basin oil and natural gas joint venture with Pioneer Natural Resources Co, a sale that could raise up to $4.5 billion, according to people familiar with the matter....\",\n",
       "    u'web_url': u'https://www.nytimes.com/reuters/2014/10/10/business/10reuters-pioneer-natl-rsc-m-a-reliance.html',\n",
       "    u'word_count': u'355'},\n",
       "   {u'headline': {u'main': u'Exclusive-Reliance Seeks Sale of Eagle Ford Stake for Up to $4.5 Billion: Sources',\n",
       "     u'print_headline': u'Exclusive-Reliance Seeks Sale of Eagle Ford Stake for Up to $4.5 Billion: Sources'},\n",
       "    u'keywords': [],\n",
       "    u'pub_date': u'2014-10-10T16:27:29Z',\n",
       "    u'snippet': u\"India's Reliance Industries Ltd is seeking a buyer for its stake in the Eagle Ford Basin oil and natural gas joint venture with Pioneer Natural Resources Co, a sale that could raise up to $4.5 billion (2.80 billion pounds), according to people fam...\",\n",
       "    u'web_url': u'https://www.nytimes.com/reuters/2014/10/10/business/10reuters-pioneer-natl-rsc-m-a-reliance-exclusive.html',\n",
       "    u'word_count': u'358'},\n",
       "   {u'headline': {u'main': u'Medical, Biotech Stocks Jump After U.S. Nurse Contracts Ebola',\n",
       "     u'print_headline': u'Medical, Biotech Stocks Jump After U.S. Nurse Contracts Ebola'},\n",
       "    u'keywords': [],\n",
       "    u'pub_date': u'2014-10-13T12:10:09Z',\n",
       "    u'snippet': u'Shares of little-known medical equipment and biotech companies jumped on Wall Street on Monday, after news that a nurse had become the first person to contract the deadly Ebola virus in the United States....',\n",
       "    u'web_url': u'https://www.nytimes.com/reuters/2014/10/13/us/13reuters-health-ebola-stocks.html',\n",
       "    u'word_count': u'559'},\n",
       "   {u'headline': {u'main': u'Ebola Becomes Latest Stock Scam, SEC Says',\n",
       "     u'print_headline': u'Ebola Becomes Latest Stock Scam, SEC Says'},\n",
       "    u'keywords': [],\n",
       "    u'pub_date': u'2014-11-20T11:48:29Z',\n",
       "    u'snippet': u\"U.S. regulators warned investors of stock scams tied to West Africa's Ebola outbreak and suspended trading in four small companies that they said have made unverifiable claims about products to prevent or treat the deadly virus....\",\n",
       "    u'web_url': u'https://www.nytimes.com/reuters/2014/11/20/business/20reuters-sec-ebola-scams.html',\n",
       "    u'word_count': u'488'}],\n",
       "  u'meta': {u'hits': 13, u'offset': 0, u'time': 44}},\n",
       " u'status': u'OK'}"
      ]
     },
     "execution_count": 10,
     "metadata": {},
     "output_type": "execute_result"
    }
   ],
   "source": [
    "articles"
   ]
  },
  {
   "cell_type": "code",
   "execution_count": 31,
   "metadata": {
    "collapsed": false
   },
   "outputs": [
    {
     "data": {
      "text/html": [
       "<div>\n",
       "<style>\n",
       "    .dataframe thead tr:only-child th {\n",
       "        text-align: right;\n",
       "    }\n",
       "\n",
       "    .dataframe thead th {\n",
       "        text-align: left;\n",
       "    }\n",
       "\n",
       "    .dataframe tbody tr th {\n",
       "        vertical-align: top;\n",
       "    }\n",
       "</style>\n",
       "<table border=\"1\" class=\"dataframe\">\n",
       "  <thead>\n",
       "    <tr style=\"text-align: right;\">\n",
       "      <th></th>\n",
       "      <th>headline</th>\n",
       "      <th>keywords</th>\n",
       "      <th>pub_date</th>\n",
       "      <th>snippet</th>\n",
       "      <th>web_url</th>\n",
       "      <th>word_count</th>\n",
       "    </tr>\n",
       "  </thead>\n",
       "  <tbody>\n",
       "    <tr>\n",
       "      <th>0</th>\n",
       "      <td>{u'main': u'King Coal, Long Besieged, Is Depos...</td>\n",
       "      <td>[{u'value': u'Coal', u'is_major': u'Y', u'rank...</td>\n",
       "      <td>2015-08-07T00:00:00Z</td>\n",
       "      <td>In a few short years, market forces have accom...</td>\n",
       "      <td>https://www.nytimes.com/2015/08/07/business/en...</td>\n",
       "      <td>1199</td>\n",
       "    </tr>\n",
       "    <tr>\n",
       "      <th>1</th>\n",
       "      <td>{u'main': u'Coal Miners Struggle to Survive in...</td>\n",
       "      <td>[{u'value': u'Coal', u'is_major': u'Y', u'rank...</td>\n",
       "      <td>2015-07-18T00:00:00Z</td>\n",
       "      <td>Shrinking exports and America’s growing relian...</td>\n",
       "      <td>https://www.nytimes.com/2015/07/18/business/en...</td>\n",
       "      <td>1300</td>\n",
       "    </tr>\n",
       "    <tr>\n",
       "      <th>2</th>\n",
       "      <td>{u'main': u'Morning Agenda: Anheuser-Busch InB...</td>\n",
       "      <td>[{u'value': u'Anheuser-Busch InBev NV', u'name...</td>\n",
       "      <td>2015-10-28T06:07:37Z</td>\n",
       "      <td>Walgreens to Buy Rite Aid | Valeant Shows the ...</td>\n",
       "      <td>https://news.blogs.nytimes.com/2015/10/28/morn...</td>\n",
       "      <td>2172</td>\n",
       "    </tr>\n",
       "    <tr>\n",
       "      <th>3</th>\n",
       "      <td>{u'main': u'For the Highest-Paid C.E.O.s, the ...</td>\n",
       "      <td>[{u'value': u'Executive Compensation', u'is_ma...</td>\n",
       "      <td>2015-05-17T00:00:00Z</td>\n",
       "      <td>Four chief executives at five companies with t...</td>\n",
       "      <td>https://www.nytimes.com/2015/05/17/business/fo...</td>\n",
       "      <td>2636</td>\n",
       "    </tr>\n",
       "    <tr>\n",
       "      <th>4</th>\n",
       "      <td>{u'main': u'Deutsche Bank Pulls Back from Deal...</td>\n",
       "      <td>[{u'value': u'Banking and Financial Institutio...</td>\n",
       "      <td>2016-07-08T00:00:00Z</td>\n",
       "      <td>Investment bankers leave as Deutsche joins oth...</td>\n",
       "      <td>https://www.nytimes.com/2016/07/08/business/de...</td>\n",
       "      <td>943</td>\n",
       "    </tr>\n",
       "    <tr>\n",
       "      <th>5</th>\n",
       "      <td>{u'main': u'Valeant Stock Plunge Shows the Ris...</td>\n",
       "      <td>[{u'value': u'Hedge Funds', u'is_major': u'Y',...</td>\n",
       "      <td>2015-10-28T00:00:00Z</td>\n",
       "      <td>The turmoil in Valeant Pharmaceuticals Interna...</td>\n",
       "      <td>https://www.nytimes.com/2015/10/28/business/de...</td>\n",
       "      <td>1180</td>\n",
       "    </tr>\n",
       "    <tr>\n",
       "      <th>6</th>\n",
       "      <td>{u'main': u'Reliance Seeks Sale of Eagle Ford ...</td>\n",
       "      <td>[]</td>\n",
       "      <td>2014-10-10T16:27:24Z</td>\n",
       "      <td>India's Reliance Industries Ltd is seeking a b...</td>\n",
       "      <td>https://www.nytimes.com/reuters/2014/10/10/bus...</td>\n",
       "      <td>355</td>\n",
       "    </tr>\n",
       "    <tr>\n",
       "      <th>7</th>\n",
       "      <td>{u'main': u'Exclusive-Reliance Seeks Sale of E...</td>\n",
       "      <td>[]</td>\n",
       "      <td>2014-10-10T16:27:29Z</td>\n",
       "      <td>India's Reliance Industries Ltd is seeking a b...</td>\n",
       "      <td>https://www.nytimes.com/reuters/2014/10/10/bus...</td>\n",
       "      <td>358</td>\n",
       "    </tr>\n",
       "    <tr>\n",
       "      <th>8</th>\n",
       "      <td>{u'main': u'Medical, Biotech Stocks Jump After...</td>\n",
       "      <td>[]</td>\n",
       "      <td>2014-10-13T12:10:09Z</td>\n",
       "      <td>Shares of little-known medical equipment and b...</td>\n",
       "      <td>https://www.nytimes.com/reuters/2014/10/13/us/...</td>\n",
       "      <td>559</td>\n",
       "    </tr>\n",
       "    <tr>\n",
       "      <th>9</th>\n",
       "      <td>{u'main': u'Ebola Becomes Latest Stock Scam, S...</td>\n",
       "      <td>[]</td>\n",
       "      <td>2014-11-20T11:48:29Z</td>\n",
       "      <td>U.S. regulators warned investors of stock scam...</td>\n",
       "      <td>https://www.nytimes.com/reuters/2014/11/20/bus...</td>\n",
       "      <td>488</td>\n",
       "    </tr>\n",
       "  </tbody>\n",
       "</table>\n",
       "</div>"
      ],
      "text/plain": [
       "                                            headline  \\\n",
       "0  {u'main': u'King Coal, Long Besieged, Is Depos...   \n",
       "1  {u'main': u'Coal Miners Struggle to Survive in...   \n",
       "2  {u'main': u'Morning Agenda: Anheuser-Busch InB...   \n",
       "3  {u'main': u'For the Highest-Paid C.E.O.s, the ...   \n",
       "4  {u'main': u'Deutsche Bank Pulls Back from Deal...   \n",
       "5  {u'main': u'Valeant Stock Plunge Shows the Ris...   \n",
       "6  {u'main': u'Reliance Seeks Sale of Eagle Ford ...   \n",
       "7  {u'main': u'Exclusive-Reliance Seeks Sale of E...   \n",
       "8  {u'main': u'Medical, Biotech Stocks Jump After...   \n",
       "9  {u'main': u'Ebola Becomes Latest Stock Scam, S...   \n",
       "\n",
       "                                            keywords              pub_date  \\\n",
       "0  [{u'value': u'Coal', u'is_major': u'Y', u'rank...  2015-08-07T00:00:00Z   \n",
       "1  [{u'value': u'Coal', u'is_major': u'Y', u'rank...  2015-07-18T00:00:00Z   \n",
       "2  [{u'value': u'Anheuser-Busch InBev NV', u'name...  2015-10-28T06:07:37Z   \n",
       "3  [{u'value': u'Executive Compensation', u'is_ma...  2015-05-17T00:00:00Z   \n",
       "4  [{u'value': u'Banking and Financial Institutio...  2016-07-08T00:00:00Z   \n",
       "5  [{u'value': u'Hedge Funds', u'is_major': u'Y',...  2015-10-28T00:00:00Z   \n",
       "6                                                 []  2014-10-10T16:27:24Z   \n",
       "7                                                 []  2014-10-10T16:27:29Z   \n",
       "8                                                 []  2014-10-13T12:10:09Z   \n",
       "9                                                 []  2014-11-20T11:48:29Z   \n",
       "\n",
       "                                             snippet  \\\n",
       "0  In a few short years, market forces have accom...   \n",
       "1  Shrinking exports and America’s growing relian...   \n",
       "2  Walgreens to Buy Rite Aid | Valeant Shows the ...   \n",
       "3  Four chief executives at five companies with t...   \n",
       "4  Investment bankers leave as Deutsche joins oth...   \n",
       "5  The turmoil in Valeant Pharmaceuticals Interna...   \n",
       "6  India's Reliance Industries Ltd is seeking a b...   \n",
       "7  India's Reliance Industries Ltd is seeking a b...   \n",
       "8  Shares of little-known medical equipment and b...   \n",
       "9  U.S. regulators warned investors of stock scam...   \n",
       "\n",
       "                                             web_url word_count  \n",
       "0  https://www.nytimes.com/2015/08/07/business/en...       1199  \n",
       "1  https://www.nytimes.com/2015/07/18/business/en...       1300  \n",
       "2  https://news.blogs.nytimes.com/2015/10/28/morn...       2172  \n",
       "3  https://www.nytimes.com/2015/05/17/business/fo...       2636  \n",
       "4  https://www.nytimes.com/2016/07/08/business/de...        943  \n",
       "5  https://www.nytimes.com/2015/10/28/business/de...       1180  \n",
       "6  https://www.nytimes.com/reuters/2014/10/10/bus...        355  \n",
       "7  https://www.nytimes.com/reuters/2014/10/10/bus...        358  \n",
       "8  https://www.nytimes.com/reuters/2014/10/13/us/...        559  \n",
       "9  https://www.nytimes.com/reuters/2014/11/20/bus...        488  "
      ]
     },
     "execution_count": 31,
     "metadata": {},
     "output_type": "execute_result"
    }
   ],
   "source": [
    "pd.DataFrame(articles[\"response\"][\"docs\"])"
   ]
  },
  {
   "cell_type": "markdown",
   "metadata": {},
   "source": [
    "NYTimes Articles are very general and therefore might lack direct correlation with the topic of interest"
   ]
  },
  {
   "cell_type": "markdown",
   "metadata": {},
   "source": [
    "Switching to CNBC for additional data"
   ]
  },
  {
   "cell_type": "code",
   "execution_count": 32,
   "metadata": {
    "collapsed": true
   },
   "outputs": [],
   "source": [
    "# start with beautiful soup if it doesn't work - might have to try scrapy or selenium"
   ]
  },
  {
   "cell_type": "code",
   "execution_count": 33,
   "metadata": {
    "collapsed": true
   },
   "outputs": [],
   "source": [
    "final_link = \"http://www.cnbc.com/quotes/?symbol=SWKS&tab=news\"\n",
    "text_link = requests.get(final_link).text"
   ]
  },
  {
   "cell_type": "code",
   "execution_count": 37,
   "metadata": {
    "collapsed": false
   },
   "outputs": [],
   "source": [
    "text_link = BeautifulSoup(text_link,\"html.parser\")"
   ]
  },
  {
   "cell_type": "code",
<<<<<<< HEAD
   "execution_count": 62,
=======
   "execution_count": 57,
>>>>>>> 46ab412b2699e7024a83d1b54d782b9162a00b50
   "metadata": {
    "collapsed": false
   },
   "outputs": [],
   "source": [
<<<<<<< HEAD
    "further = text_link.find_all(\"ul\")"
=======
    "further = text_link.find_all(\"ul\", {\"style\":\"display: block;\"})"
>>>>>>> 46ab412b2699e7024a83d1b54d782b9162a00b50
   ]
  },
  {
   "cell_type": "code",
<<<<<<< HEAD
   "execution_count": 63,
=======
   "execution_count": 58,
>>>>>>> 46ab412b2699e7024a83d1b54d782b9162a00b50
   "metadata": {
    "collapsed": false
   },
   "outputs": [
    {
     "data": {
      "text/plain": [
<<<<<<< HEAD
       "[<ul class=\"lookup-list\"></ul>,\n",
       " <ul id=\"nav\"><li class=\"site-set\"><a class=\"nav-home\" data-onclick=\"#\" href=\"//www.cnbc.com/\"><span class=\"homeLabel\">HOME</span><span class=\"icon arrow-down\"><i class=\"fa fa-chevron-down fa-1\"></i></span></a><ul class=\"home-geo-container\"><li>EDITION</li></ul></li> <li class=\"news\"><a class=\"expandable\" data-trknavattr=\"navigation:news:news:101\" href=\"//www.cnbc.com/us-news/\">News</a><ul> <li><a data-trknavattr=\"navigation:news:economy:101\" href=\"//www.cnbc.com/economy/\">Economy</a></li>\\n<li><a data-trknavattr=\"navigation:news:finance:101\" href=\"//www.cnbc.com/finance/\">Finance</a></li>\\n<li><a data-trknavattr=\"navigation:news:healthcare:101\" href=\"//www.cnbc.com/health-care/\">Health Care</a></li>\\n<li><a data-trknavattr=\"navigation:news:realestate:101\" href=\"//www.cnbc.com/real-estate/\">Real Estate</a></li>\\n<li><a data-trknavattr=\"navigation:news:wealth:101\" href=\"//www.cnbc.com/wealth/\">Wealth</a></li>\\n<li><a data-trknavattr=\"navigation:news:autos:101\" href=\"//www.cnbc.com/autos/\">Autos</a></li>\\n<li><a data-trknavattr=\"navigation:news:earnings:101\" href=\"//www.cnbc.com/earnings/\">Earnings</a></li>\\n<li><a data-trknavattr=\"navigation:news:energy:101\" href=\"//www.cnbc.com/energy/\">Energy</a></li>\\n<li><a data-trknavattr=\"navigation:news:news-life:101\" href=\"//www.cnbc.com/life/\">Life</a></li>\\n<li><a data-trknavattr=\"navigation:news:media:101\" href=\"//www.cnbc.com/media/\">Media</a></li>\\n<li><a data-trknavattr=\"navigation:news:politics:101\" href=\"//www.cnbc.com/politics/\">Politics</a></li>\\n<li><a data-trknavattr=\"navigation:news:retail:101\" href=\"//www.cnbc.com/retail/\">Retail</a></li>\\n<li><a data-trknavattr=\"navigation:news:commentary:101\" href=\"//www.cnbc.com/commentary/\">Commentary</a></li>\\n<li><a data-trknavattr=\"navigation:news:specialreports:101\" href=\"//www.cnbc.com/special-reports/\">Special Reports</a></li>\\n<li><a data-trknavattr=\"navigation:news:asia:101\" href=\"//www.cnbc.com/asia-news/\">Asia</a></li>\\n<li><a data-trknavattr=\"navigation:news:europe:101\" href=\"//www.cnbc.com/europe-news/\">Europe</a></li>\\n<li><a data-trknavattr=\"navigation:news:cfo-council:101\" href=\"//www.cnbc.com/global-cfo-council/\">CFO Council</a></li>\\n</ul></li>\\n<li class=\"markets\"><a class=\"expandable\" data-trknavattr=\"navigation:markets:markets:101\" href=\"//www.cnbc.com/markets/\">Markets</a><ul> <li><a data-trknavattr=\"navigation:markets:premarkets:101\" href=\"//www.cnbc.com/pre-markets/\">Pre-Markets</a></li>\\n<li><a data-trknavattr=\"navigation:markets:us:101\" href=\"//www.cnbc.com/us-markets/\">U.S.</a></li>\\n<li><a data-trknavattr=\"navigation:markets:asia:101\" href=\"//www.cnbc.com/markets-asia-pacific/\">Asia</a></li>\\n<li><a data-trknavattr=\"navigation:markets:europe:101\" href=\"//www.cnbc.com/markets-europe/\">Europe</a></li>\\n<li><a data-trknavattr=\"navigation:markets:stocks:101\" href=\"//www.cnbc.com/stocks/\">Stocks</a></li>\\n<li><a data-trknavattr=\"navigation:markets:commodities:101\" href=\"//www.cnbc.com/commodities/\">Commodities</a></li>\\n<li><a data-trknavattr=\"navigation:markets:currencies:101\" href=\"//www.cnbc.com/currencies/\">Currencies</a></li>\\n<li><a data-trknavattr=\"navigation:markets:bonds:101\" href=\"//www.cnbc.com/bonds/\">Bonds</a></li>\\n<li><a data-trknavattr=\"navigation:markets:funds:101\" href=\"//www.cnbc.com/mutual-funds/\">Funds</a></li>\\n<li><a data-trknavattr=\"navigation:markets:etfs:101\" href=\"//www.cnbc.com/exchange-traded-funds/\">ETFs</a></li>\\n</ul></li>\\n<li class=\"investing\"><a class=\"expandable\" data-trknavattr=\"navigation:investing:investing:101\" href=\"//www.cnbc.com/investing/\">Investing</a><ul> <li><a data-trknavattr=\"navigation:investing:tradingnation:101\" href=\"//www.cnbc.com/trading-nation/\">Trading Nation</a></li>\\n<li><a data-trknavattr=\"navigation:investing:tradingtalk:101\" href=\"//www.cnbc.com/trader-talk/\">Trader Talk</a></li>\\n<li><a data-trknavattr=\"navigation:investing:financialadvisors:101\" href=\"//www.cnbc.com/financial-advisors/\">Financial Advisors</a></li>\\n<li><a data-trknavattr=\"navigation:investing:personalfinance:101\" href=\"//www.cnbc.com/personal-finance/\">Personal Finance</a></li>\\n<li><a data-trknavattr=\"navigation:investing:etf-street:101\" href=\"//www.cnbc.com/etf-street/\">Etf Street</a></li>\\n<li><a data-trknavattr=\"navigation:investing:portfolio:101\" href=\"http://portfolio.cnbc.com/\">Portfolio</a></li>\\n<li><a data-trknavattr=\"navigation:investing:watchlist:101\" href=\"//watchlist.cnbc.com/\">Watchlist</a></li>\\n<li><a data-trknavattr=\"navigation:investing:stockscreener:101\" href=\"//www.cnbc.com/id/15839076\">Stock Screener</a></li>\\n<li><a data-trknavattr=\"navigation:investing:fundscreener:101\" href=\"//www.cnbc.com/id/15839074\">Fund Screener</a></li>\\n</ul></li>\\n<li class=\"tech\"><a class=\"expandable\" data-trknavattr=\"navigation:tech:tech:101\" href=\"//www.cnbc.com/technology/\">Tech</a><ul> <li><a data-trknavattr=\"navigation:tech:mobile:101\" href=\"//www.cnbc.com/mobile/\">Mobile</a></li>\\n<li><a data-trknavattr=\"navigation:tech:socialmedia:101\" href=\"//www.cnbc.com/social-media/\">Social Media</a></li>\\n<li><a data-trknavattr=\"navigation:tech:enterprise:101\" href=\"//www.cnbc.com/enterprise/\">Enterprise</a></li>\\n<li><a data-trknavattr=\"navigation:tech:gaming:101\" href=\"//www.cnbc.com/gaming/\">Gaming</a></li>\\n<li><a data-trknavattr=\"navigation:tech:cybersecurity:101\" href=\"//www.cnbc.com/cybersecurity/\">Cybersecurity</a></li>\\n<li><a data-trknavattr=\"navigation:tech:tech-guide:101\" href=\"//www.cnbc.com/tech-guide/\">Tech Guide</a></li>\\n</ul></li>\\n<li class=\"makeit\"><a class=\"expandable\" data-trknavattr=\"navigation:makeit:makeit:101\" href=\"//www.cnbc.com/make-it/\">Make It</a><ul> <li><a data-trknavattr=\"navigation:makeit:entrepreneurs:101\" href=\"//www.cnbc.com/make-it/entrepreneurs/\">Entrepreneurs</a></li>\\n<li><a data-trknavattr=\"navigation:makeit:leadership:101\" href=\"//www.cnbc.com/make-it/leadership/\">Leadership</a></li>\\n<li><a data-trknavattr=\"navigation:makeit:careers:101\" href=\"//www.cnbc.com/make-it/careers/\">Careers</a></li>\\n<li><a data-trknavattr=\"navigation:makeit:money:101\" href=\"//www.cnbc.com/make-it/money/\">Money</a></li>\\n<li><a data-trknavattr=\"navigation:makeit:specials:101\" href=\"//www.cnbc.com/make-it/special-reports/\">Specials</a></li>\\n<li><a data-trknavattr=\"navigation:makeit:shows:101\" href=\"//www.cnbc.com/make-it/shows/\">Shows</a></li>\\n</ul></li>\\n<li class=\"video\"><a class=\"expandable\" data-trknavattr=\"navigation:video:video:101\" href=\"http://video.cnbc.com\">Video</a><ul> <li><a data-trknavattr=\"navigation:video:topvideo:101\" href=\"//www.cnbc.com/top-video/\">Top Video</a></li>\\n<li><a data-trknavattr=\"navigation:video:latestvideo:101\" href=\"//www.cnbc.com/video-all/\">Latest Video</a></li>\\n<li><a data-trknavattr=\"navigation:video:usvideo:101\" href=\"//www.cnbc.com/us-video/\">U.S. Video</a></li>\\n<li><a data-trknavattr=\"navigation:video:asiavideo:101\" href=\"//www.cnbc.com/asia-video/\">Asia Video</a></li>\\n<li><a data-trknavattr=\"navigation:video:europevideo:101\" href=\"//www.cnbc.com/europe-video/\">Europe Video</a></li>\\n<li><a data-trknavattr=\"navigation:video:ceointerviews:101\" href=\"//www.cnbc.com/video-ceo-interviews/\">CEO Interviews</a></li>\\n<li><a data-trknavattr=\"navigation:video:analystinterviews:101\" href=\"//www.cnbc.com/video-analyst-interviews/\">Analyst Interviews</a></li>\\n<li><a data-trknavattr=\"navigation:video:fullepisodes:101\" href=\"http://www.cnbc.com/live-tv/\">Full Episodes</a></li>\\n</ul></li>\\n<li class=\"shows\"><a class=\"expandable\" data-trknavattr=\"navigation:shows:shows:101\" href=\"//www.cnbc.com/tv-worldwide/\">Shows</a><ul> <li><a data-trknavattr=\"navigation:shows:watchlive:101\" href=\"http://www.cnbc.com/live-tv/\">Watch Live</a></li>\\n<li><a data-trknavattr=\"navigation:shows:cnbcus:101\" href=\"//www.cnbc.com/tv-worldwide/\">CNBC U.S. Business Day</a></li>\\n<li><a data-trknavattr=\"navigation:shows:cnbcusprime:101\" href=\"//www.cnbc.com/make-it/shows/\">CNBC U.S. Primetime</a></li>\\n<li><a data-trknavattr=\"navigation:shows:cnbcasiapacific:101\" href=\"//www.cnbc.com/asia-business-day/\">CNBC Asia-Pacific</a></li>\\n<li><a data-trknavattr=\"navigation:shows:cnbceurope:101\" href=\"//www.cnbc.com/europe-television/\">CNBC Europe</a></li>\\n<li><a data-trknavattr=\"navigation:shows:cnbcworld:101\" href=\"//www.cnbc.com/global-television-shows/\">CNBC World</a></li>\\n<li><a data-trknavattr=\"navigation:shows:fullepisodes:101\" href=\"http://www.cnbc.com/live-tv/\">Full Episodes</a></li>\\n</ul></li>\\n<li class=\"more\"><div class=\"hamburger-menu\" id=\"hamburger\"><span></span><span></span><span></span></div><a class=\"singleton\" href=\"javascript:void(0)\">More</a><div class=\"more-container\"><div class=\"more-nav grid\"><div class=\"grid-cell cell1\"><div class=\"grid-col\"><ul class=\"more-mobile-login more\"><ul class=\"log-info unreg-user more\"><li id=\"mobile-signin\"><a href=\"//www.cnbc.com/application/generic/?action=signin\">Log In</a></li><li class=\"pipe\"><span>|</span></li><li class=\"cnbcRegister\" id=\"mobile-signup\"><a href=\"//www.cnbc.com/application/generic/?action=signup\">Register</a></li></ul><ul class=\"log-info reg-user more hide\"><li id=\"mobile-logout\"><a href=\"javascript:void(0);\">Log Out</a></li></ul></ul><ul class=\"more-news more\"><li class=\"header\"><a class=\"expandable\" data-trknavattr=\"navigation:more:news:101\" href=\"//www.cnbc.com/us-news/\">News</a></li><li class=\"sub-nav-menu\"><ul class=\"more\"> <li class=\"economy\">\\n<a data-trknavattr=\"navigation:more:economy:101\" href=\"//www.cnbc.com/economy/\">\\n\\t\\t\\tEconomy\\n\\t\\t\\t\\t\\t</a>\\n</li>\\n<li class=\"finance\">\\n<a data-trknavattr=\"navigation:more:finance:101\" href=\"//www.cnbc.com/finance/\">\\n\\t\\t\\tFinance\\n\\t\\t\\t\\t\\t</a>\\n</li>\\n<li class=\"healthcare\">\\n<a data-trknavattr=\"navigation:more:healthcare:101\" href=\"//www.cnbc.com/health-care/\">\\n\\t\\t\\tHealth Care\\n\\t\\t\\t\\t\\t</a>\\n</li>\\n<li class=\"realestate\">\\n<a data-trknavattr=\"navigation:more:realestate:101\" href=\"//www.cnbc.com/real-estate/\">\\n\\t\\t\\tReal Estate\\n\\t\\t\\t\\t\\t</a>\\n</li>\\n<li class=\"wealth\">\\n<a data-trknavattr=\"navigation:more:wealth:101\" href=\"//www.cnbc.com/wealth/\">\\n\\t\\t\\tWealth\\n\\t\\t\\t\\t\\t</a>\\n</li>\\n<li class=\"autos\">\\n<a data-trknavattr=\"navigation:more:autos:101\" href=\"//www.cnbc.com/autos/\">\\n\\t\\t\\tAutos\\n\\t\\t\\t\\t\\t</a>\\n</li>\\n<li class=\"news-consumer\">\\n<a data-trknavattr=\"navigation:more:news-consumer:101\" href=\"//www.cnbc.com/consumers/\">\\n\\t\\t\\tConsumer\\n\\t\\t\\t\\t\\t</a>\\n</li>\\n<li class=\"earnings\">\\n<a data-trknavattr=\"navigation:more:earnings:101\" href=\"//www.cnbc.com/earnings/\">\\n\\t\\t\\tEarnings\\n\\t\\t\\t\\t\\t</a>\\n</li>\\n<li class=\"energy\">\\n<a data-trknavattr=\"navigation:more:energy:101\" href=\"//www.cnbc.com/energy/\">\\n\\t\\t\\tEnergy\\n\\t\\t\\t\\t\\t</a>\\n</li>\\n<li class=\"news-life\">\\n<a data-trknavattr=\"navigation:more:news-life:101\" href=\"//www.cnbc.com/life/\">\\n\\t\\t\\tLife\\n\\t\\t\\t\\t\\t</a>\\n</li>\\n<li class=\"media\">\\n<a data-trknavattr=\"navigation:more:media:101\" href=\"//www.cnbc.com/media/\">\\n\\t\\t\\tMedia\\n\\t\\t\\t\\t\\t</a>\\n</li>\\n<li class=\"politics\">\\n<a data-trknavattr=\"navigation:more:politics:101\" href=\"//www.cnbc.com/politics/\">\\n\\t\\t\\tPolitics\\n\\t\\t\\t\\t\\t</a>\\n</li>\\n<li class=\"retail\">\\n<a data-trknavattr=\"navigation:more:retail:101\" href=\"//www.cnbc.com/retail/\">\\n\\t\\t\\tRetail\\n\\t\\t\\t\\t\\t</a>\\n</li>\\n<li class=\"commentary\">\\n<a data-trknavattr=\"navigation:more:commentary:101\" href=\"//www.cnbc.com/commentary/\">\\n\\t\\t\\tCommentary\\n\\t\\t\\t\\t\\t</a>\\n</li>\\n<li class=\"specialreports\">\\n<a data-trknavattr=\"navigation:more:specialreports:101\" href=\"//www.cnbc.com/special-reports/\">\\n\\t\\t\\tSpecial Reports\\n\\t\\t\\t\\t\\t</a>\\n</li>\\n<li class=\"asia\">\\n<a data-trknavattr=\"navigation:more:asia:101\" href=\"//www.cnbc.com/asia-news/\">\\n\\t\\t\\tAsia\\n\\t\\t\\t\\t\\t</a>\\n</li>\\n<li class=\"europe\">\\n<a data-trknavattr=\"navigation:more:europe:101\" href=\"//www.cnbc.com/europe-news/\">\\n\\t\\t\\tEurope\\n\\t\\t\\t\\t\\t</a>\\n</li>\\n<li class=\"cfo-council\">\\n<a data-trknavattr=\"navigation:more:cfo-council:101\" href=\"//www.cnbc.com/global-cfo-council/\">\\n\\t\\t\\tCFO Council\\n\\t\\t\\t\\t\\t</a>\\n</li>\\n</ul></li></ul></div><div class=\"grid-col\"><ul class=\"more-pro more\"><li class=\"header\"><a class=\"expandable\" data-trknavattr=\"navigation:more:pro:101\" href=\"//www.cnbc.com/pro\">Pro</a></li><li class=\"sub-nav-menu\"><ul class=\"more\"> <li class=\"viewall\">\\n<a data-trknavattr=\"navigation:more:viewall:101\" href=\"//www.cnbc.com/pro\">\\n\\t\\t\\tView All\\n\\t\\t\\t\\t\\t</a>\\n</li>\\n<li class=\"pro_franchise\">\\n<a data-trknavattr=\"navigation:more:pro_franchise:101\" href=\"//www.cnbc.com/pro-story\">\\n\\t\\t\\tNews &amp; Analysis\\n\\t\\t\\t\\t\\t</a>\\n</li>\\n<li class=\"provideo\">\\n<a data-trknavattr=\"navigation:more:provideo:101\" href=\"//www.cnbc.com/pro-video\">\\n\\t\\t\\tVideo\\n\\t\\t\\t\\t\\t</a>\\n</li>\\n<li class=\"protalks\">\\n<a data-trknavattr=\"navigation:more:protalks:101\" href=\"//www.cnbc.com/protalks\">\\n\\t\\t\\tPRO Talks\\n\\t\\t\\t\\t\\t</a>\\n</li>\\n<li class=\"prouncut\">\\n<a data-trknavattr=\"navigation:more:prouncut:101\" href=\"//www.cnbc.com/pro-uncut\">\\n\\t\\t\\tPRO Uncut\\n\\t\\t\\t\\t\\t</a>\\n</li>\\n<li class=\"kensho\">\\n<a data-trknavattr=\"navigation:more:kensho:101\" href=\"//www.cnbc.com/kensho\">\\n\\t\\t\\tKensho Stats\\n\\t\\t\\t\\t\\t</a>\\n</li>\\n<li class=\"take_tour\">\\n<a href=\"javascript:void(0)\" id=\"pro-tour\">\\n\\t\\t\\tTake a Tour\\n\\t\\t\\t\\t\\t</a>\\n</li>\\n<li class=\"subscribe2\">\\n<a data-trknavattr=\"navigation:more:subscribe2:101\" href=\"//www.cnbc.com/application/pro\">\\n\\t\\t\\tSubscribe\\n\\t\\t\\t\\t\\t</a>\\n</li>\\n</ul></li></ul><ul class=\"more-markets more\"><li class=\"header\"><a class=\"expandable\" data-trknavattr=\"navigation:more:markets:101\" href=\"//www.cnbc.com/markets/\">Markets</a></li><li class=\"sub-nav-menu\"><ul class=\"more\"> <li class=\"premarkets\">\\n<a data-trknavattr=\"navigation:more:premarkets:101\" href=\"//www.cnbc.com/pre-markets/\">\\n\\t\\t\\tPre-Markets\\n\\t\\t\\t\\t\\t</a>\\n</li>\\n<li class=\"us\">\\n<a data-trknavattr=\"navigation:more:us:101\" href=\"//www.cnbc.com/us-markets/\">\\n\\t\\t\\tU.S.\\n\\t\\t\\t\\t\\t</a>\\n</li>\\n<li class=\"asia\">\\n<a data-trknavattr=\"navigation:more:asia:101\" href=\"//www.cnbc.com/markets-asia-pacific/\">\\n\\t\\t\\tAsia\\n\\t\\t\\t\\t\\t</a>\\n</li>\\n<li class=\"europe\">\\n<a data-trknavattr=\"navigation:more:europe:101\" href=\"//www.cnbc.com/markets-europe/\">\\n\\t\\t\\tEurope\\n\\t\\t\\t\\t\\t</a>\\n</li>\\n<li class=\"stocks\">\\n<a data-trknavattr=\"navigation:more:stocks:101\" href=\"//www.cnbc.com/stocks/\">\\n\\t\\t\\tStocks\\n\\t\\t\\t\\t\\t</a>\\n</li>\\n<li class=\"commodities\">\\n<a data-trknavattr=\"navigation:more:commodities:101\" href=\"//www.cnbc.com/commodities/\">\\n\\t\\t\\tCommodities\\n\\t\\t\\t\\t\\t</a>\\n</li>\\n<li class=\"currencies\">\\n<a data-trknavattr=\"navigation:more:currencies:101\" href=\"//www.cnbc.com/currencies/\">\\n\\t\\t\\tCurrencies\\n\\t\\t\\t\\t\\t</a>\\n</li>\\n<li class=\"bonds\">\\n<a data-trknavattr=\"navigation:more:bonds:101\" href=\"//www.cnbc.com/bonds/\">\\n\\t\\t\\tBonds\\n\\t\\t\\t\\t\\t</a>\\n</li>\\n<li class=\"funds\">\\n<a data-trknavattr=\"navigation:more:funds:101\" href=\"//www.cnbc.com/mutual-funds/\">\\n\\t\\t\\tFunds\\n\\t\\t\\t\\t\\t</a>\\n</li>\\n<li class=\"etfs\">\\n<a data-trknavattr=\"navigation:more:etfs:101\" href=\"//www.cnbc.com/exchange-traded-funds/\">\\n\\t\\t\\tETFs\\n\\t\\t\\t\\t\\t</a>\\n</li>\\n</ul></li></ul></div><div class=\"grid-col\"><ul class=\"more-makeit more\"><li class=\"header\"><a class=\"expandable\" data-trknavattr=\"navigation:more:makeit:101\" href=\"//www.cnbc.com/make-it/\">Make It</a></li><li class=\"sub-nav-menu\"><ul class=\"more\"> <li class=\"entrepreneurs\">\\n<a data-trknavattr=\"navigation:more:entrepreneurs:101\" href=\"//www.cnbc.com/make-it/entrepreneurs/\">\\n\\t\\t\\tEntrepreneurs\\n\\t\\t\\t\\t\\t</a>\\n</li>\\n<li class=\"leadership\">\\n<a data-trknavattr=\"navigation:more:leadership:101\" href=\"//www.cnbc.com/make-it/leadership/\">\\n\\t\\t\\tLeadership\\n\\t\\t\\t\\t\\t</a>\\n</li>\\n<li class=\"careers\">\\n<a data-trknavattr=\"navigation:more:careers:101\" href=\"//www.cnbc.com/make-it/careers/\">\\n\\t\\t\\tCareers\\n\\t\\t\\t\\t\\t</a>\\n</li>\\n<li class=\"money\">\\n<a data-trknavattr=\"navigation:more:money:101\" href=\"//www.cnbc.com/make-it/money/\">\\n\\t\\t\\tMoney\\n\\t\\t\\t\\t\\t</a>\\n</li>\\n<li class=\"specials\">\\n<a data-trknavattr=\"navigation:more:specials:101\" href=\"//www.cnbc.com/make-it/special-reports/\">\\n\\t\\t\\tSpecials\\n\\t\\t\\t\\t\\t</a>\\n</li>\\n<li class=\"shows\">\\n<a data-trknavattr=\"navigation:more:shows:101\" href=\"//www.cnbc.com/make-it/shows/\">\\n\\t\\t\\tShows\\n\\t\\t\\t\\t\\t</a>\\n</li>\\n</ul></li></ul><ul class=\"more-investing more\"><li class=\"header\"><a class=\"expandable\" data-trknavattr=\"navigation:more:investing:101\" href=\"//www.cnbc.com/investing/\">Investing</a></li><li class=\"sub-nav-menu\"><ul class=\"more\"> <li class=\"tradingnation\">\\n<a data-trknavattr=\"navigation:more:tradingnation:101\" href=\"//www.cnbc.com/trading-nation/\">\\n\\t\\t\\tTrading Nation\\n\\t\\t\\t\\t\\t</a>\\n</li>\\n<li class=\"tradingtalk\">\\n<a data-trknavattr=\"navigation:more:tradingtalk:101\" href=\"//www.cnbc.com/trader-talk/\">\\n\\t\\t\\tTrader Talk\\n\\t\\t\\t\\t\\t</a>\\n</li>\\n<li class=\"financialadvisors\">\\n<a data-trknavattr=\"navigation:more:financialadvisors:101\" href=\"//www.cnbc.com/financial-advisors/\">\\n\\t\\t\\tFinancial Advisors\\n\\t\\t\\t\\t\\t</a>\\n</li>\\n<li class=\"personalfinance\">\\n<a data-trknavattr=\"navigation:more:personalfinance:101\" href=\"//www.cnbc.com/personal-finance/\">\\n\\t\\t\\tPersonal Finance\\n\\t\\t\\t\\t\\t</a>\\n</li>\\n<li class=\"etf-street\">\\n<a data-trknavattr=\"navigation:more:etf-street:101\" href=\"//www.cnbc.com/etf-street/\">\\n\\t\\t\\tEtf Street\\n\\t\\t\\t\\t\\t</a>\\n</li>\\n<li class=\"portfolio\">\\n<a data-trknavattr=\"navigation:more:portfolio:101\" href=\"http://portfolio.cnbc.com/\">\\n\\t\\t\\tPortfolio\\n\\t\\t\\t\\t\\t</a>\\n</li>\\n<li class=\"watchlist\">\\n<a data-trknavattr=\"navigation:more:watchlist:101\" href=\"//watchlist.cnbc.com/\">\\n\\t\\t\\tWatchlist\\n\\t\\t\\t\\t\\t</a>\\n</li>\\n<li class=\"stockscreener\">\\n<a data-trknavattr=\"navigation:more:stockscreener:101\" href=\"//www.cnbc.com/id/15839076\">\\n\\t\\t\\tStock Screener\\n\\t\\t\\t\\t\\t</a>\\n</li>\\n<li class=\"fundscreener\">\\n<a data-trknavattr=\"navigation:more:fundscreener:101\" href=\"//www.cnbc.com/id/15839074\">\\n\\t\\t\\tFund Screener\\n\\t\\t\\t\\t\\t</a>\\n</li>\\n</ul></li></ul></div></div><div class=\"grid-cell cell2\"><div class=\"grid-col\"><ul class=\"more-tech more\"><li class=\"header\"><a class=\"expandable\" data-trknavattr=\"navigation:more:tech:101\" href=\"//www.cnbc.com/technology/\">Tech</a></li><li class=\"sub-nav-menu\"><ul class=\"more\"> <li class=\"mobile\">\\n<a data-trknavattr=\"navigation:more:mobile:101\" href=\"//www.cnbc.com/mobile/\">\\n\\t\\t\\tMobile\\n\\t\\t\\t\\t\\t</a>\\n</li>\\n<li class=\"socialmedia\">\\n<a data-trknavattr=\"navigation:more:socialmedia:101\" href=\"//www.cnbc.com/social-media/\">\\n\\t\\t\\tSocial Media\\n\\t\\t\\t\\t\\t</a>\\n</li>\\n<li class=\"enterprise\">\\n<a data-trknavattr=\"navigation:more:enterprise:101\" href=\"//www.cnbc.com/enterprise/\">\\n\\t\\t\\tEnterprise\\n\\t\\t\\t\\t\\t</a>\\n</li>\\n<li class=\"gaming\">\\n<a data-trknavattr=\"navigation:more:gaming:101\" href=\"//www.cnbc.com/gaming/\">\\n\\t\\t\\tGaming\\n\\t\\t\\t\\t\\t</a>\\n</li>\\n<li class=\"cybersecurity\">\\n<a data-trknavattr=\"navigation:more:cybersecurity:101\" href=\"//www.cnbc.com/cybersecurity/\">\\n\\t\\t\\tCybersecurity\\n\\t\\t\\t\\t\\t</a>\\n</li>\\n<li class=\"tech-guide\">\\n<a data-trknavattr=\"navigation:more:tech-guide:101\" href=\"//www.cnbc.com/tech-guide/\">\\n\\t\\t\\tTech Guide\\n\\t\\t\\t\\t\\t</a>\\n</li>\\n</ul></li></ul><ul class=\"more-video more\"><li class=\"header\"><a class=\"expandable\" data-trknavattr=\"navigation:more:video:101\" href=\"http://video.cnbc.com\">Video</a></li><li class=\"sub-nav-menu\"><ul class=\"more\"> <li class=\"topvideo\">\\n<a data-trknavattr=\"navigation:more:topvideo:101\" href=\"//www.cnbc.com/top-video/\">\\n\\t\\t\\tTop Video\\n\\t\\t\\t\\t\\t</a>\\n</li>\\n<li class=\"latestvideo\">\\n<a data-trknavattr=\"navigation:more:latestvideo:101\" href=\"//www.cnbc.com/video-all/\">\\n\\t\\t\\tLatest Video\\n\\t\\t\\t\\t\\t</a>\\n</li>\\n<li class=\"usvideo\">\\n<a data-trknavattr=\"navigation:more:usvideo:101\" href=\"//www.cnbc.com/us-video/\">\\n\\t\\t\\tU.S. Video\\n\\t\\t\\t\\t\\t</a>\\n</li>\\n<li class=\"asiavideo\">\\n<a data-trknavattr=\"navigation:more:asiavideo:101\" href=\"//www.cnbc.com/asia-video/\">\\n\\t\\t\\tAsia Video\\n\\t\\t\\t\\t\\t</a>\\n</li>\\n<li class=\"europevideo\">\\n<a data-trknavattr=\"navigation:more:europevideo:101\" href=\"//www.cnbc.com/europe-video/\">\\n\\t\\t\\tEurope Video\\n\\t\\t\\t\\t\\t</a>\\n</li>\\n<li class=\"ceointerviews\">\\n<a data-trknavattr=\"navigation:more:ceointerviews:101\" href=\"//www.cnbc.com/video-ceo-interviews/\">\\n\\t\\t\\tCEO Interviews\\n\\t\\t\\t\\t\\t</a>\\n</li>\\n<li class=\"analystinterviews\">\\n<a data-trknavattr=\"navigation:more:analystinterviews:101\" href=\"//www.cnbc.com/video-analyst-interviews/\">\\n\\t\\t\\tAnalyst Interviews\\n\\t\\t\\t\\t\\t</a>\\n</li>\\n<li class=\"fullepisodes\">\\n<a data-trknavattr=\"navigation:more:fullepisodes:101\" href=\"http://www.cnbc.com/live-tv/\">\\n\\t\\t\\tFull Episodes\\n\\t\\t\\t\\t\\t</a>\\n</li>\\n</ul></li></ul></div><div class=\"grid-col\"><ul class=\"more-shows more\"><li class=\"header\"><a class=\"expandable\" data-trknavattr=\"navigation:more:shows:101\" href=\"//www.cnbc.com/tv-worldwide/\">Shows</a></li><li class=\"sub-nav-menu\"><ul class=\"more\"> <li class=\"cnbcus\">\\n<a data-trknavattr=\"navigation:more:cnbcus:101\" href=\"//www.cnbc.com/tv-worldwide/\">\\n\\t\\t\\tCNBC U.S. Business Day\\n\\t\\t\\t\\t\\t</a>\\n</li>\\n<li class=\"cnbcusprime\">\\n<a data-trknavattr=\"navigation:more:cnbcusprime:101\" href=\"//www.cnbc.com/make-it/shows/\">\\n\\t\\t\\tCNBC U.S. Primetime\\n\\t\\t\\t\\t\\t</a>\\n</li>\\n<li class=\"cnbcasiapacific\">\\n<a data-trknavattr=\"navigation:more:cnbcasiapacific:101\" href=\"//www.cnbc.com/asia-business-day/\">\\n\\t\\t\\tCNBC Asia-Pacific\\n\\t\\t\\t\\t\\t</a>\\n</li>\\n<li class=\"cnbceurope\">\\n<a data-trknavattr=\"navigation:more:cnbceurope:101\" href=\"//www.cnbc.com/europe-television/\">\\n\\t\\t\\tCNBC Europe\\n\\t\\t\\t\\t\\t</a>\\n</li>\\n<li class=\"cnbcworld\">\\n<a data-trknavattr=\"navigation:more:cnbcworld:101\" href=\"//www.cnbc.com/global-television-shows/\">\\n\\t\\t\\tCNBC World\\n\\t\\t\\t\\t\\t</a>\\n</li>\\n</ul></li></ul><ul class=\"more-special-reports more\"><li class=\"header\"><a class=\"expandable\" data-trknavattr=\"navigation:more:Special Reports:101\" href=\"//www.cnbc.com/special-reports/\">Special Reports</a></li><li class=\"sub-nav-menu\"><ul class=\"more\"> <li class=\"top-states-2017\">\\n<a data-trknavattr=\"navigation:more:Top States 2017:101\" href=\"//www.cnbc.com/americas-top-states-for-business/\">\\n\\t\\t\\tTop States 2017\\n\\t\\t\\t\\t\\t</a>\\n</li>\\n<li class=\"trailblazers\">\\n<a data-trknavattr=\"navigation:more:Trailblazers:101\" href=\"//www.cnbc.com/trailblazers/\">\\n\\t\\t\\tTrailblazers\\n\\t\\t\\t\\t\\t</a>\\n</li>\\n<li class=\"trading-the-world-\">\\n<a data-trknavattr=\"navigation:more:Trading the World :101\" href=\"//www.cnbc.com/trading-the-world/\">\\n\\t\\t\\tTrading the World \\n\\t\\t\\t\\t\\t</a>\\n</li>\\n<li class=\"cnbc-disruptor-50\">\\n<a data-trknavattr=\"navigation:more:CNBC Disruptor 50:101\" href=\"//www.cnbc.com/cnbc-disruptors/\">\\n\\t\\t\\tCNBC Disruptor 50\\n\\t\\t\\t\\t\\t</a>\\n</li>\\n<li class=\"lasting-legacy\">\\n<a data-trknavattr=\"navigation:more:Lasting Legacy:101\" href=\"//www.cnbc.com/lasting-legacy/\">\\n\\t\\t\\tLasting Legacy\\n\\t\\t\\t\\t\\t</a>\\n</li>\\n<li class=\"modern-medicine\">\\n<a data-trknavattr=\"navigation:more:Modern Medicine:101\" href=\"//www.cnbc.com/modern-medicine/\">\\n\\t\\t\\tModern Medicine\\n\\t\\t\\t\\t\\t</a>\\n</li>\\n<li class=\"college-game-plan-\">\\n<a data-trknavattr=\"navigation:more:College Game Plan :101\" href=\"//www.cnbc.com/college-game-plan/\">\\n\\t\\t\\tCollege Game Plan \\n\\t\\t\\t\\t\\t</a>\\n</li>\\n<li class=\"investing-in:-israel\">\\n<a data-trknavattr=\"navigation:more:Investing in: Israel:101\" href=\"//www.cnbc.com/investing-in-israel/\">\\n\\t\\t\\tInvesting in: Israel\\n\\t\\t\\t\\t\\t</a>\\n</li>\\n<li class=\"tech-drivers\">\\n<a data-trknavattr=\"navigation:more:Tech Drivers:101\" href=\"//www.cnbc.com/tech-drivers/\">\\n\\t\\t\\tTech Drivers\\n\\t\\t\\t\\t\\t</a>\\n</li>\\n<li class=\"the-brave-ones\">\\n<a data-trknavattr=\"navigation:more:The Brave Ones:101\" href=\"//www.cnbc.com/the-brave-ones/\">\\n\\t\\t\\tThe Brave Ones\\n\\t\\t\\t\\t\\t</a>\\n</li>\\n<li class=\"trading-nation\">\\n<a data-trknavattr=\"navigation:more:Trading Nation:101\" href=\"//www.cnbc.com/trading-nation/\">\\n\\t\\t\\tTrading Nation\\n\\t\\t\\t\\t\\t</a>\\n</li>\\n<li class=\"shaping-the-future\">\\n<a data-trknavattr=\"navigation:more:Shaping the future:101\" href=\"//www.cnbc.com/shaping-the-future/\">\\n\\t\\t\\tShaping the future\\n\\t\\t\\t\\t\\t</a>\\n</li>\\n<li class=\"future-opportunities\">\\n<a data-trknavattr=\"navigation:more:Future Opportunities:101\" href=\"//www.cnbc.com/future-opportunities/\">\\n\\t\\t\\tFuture Opportunities\\n\\t\\t\\t\\t\\t</a>\\n</li>\\n</ul></li></ul></div><div class=\"grid-col\"><ul class=\"more-original-series more\"><li class=\"header\"><span>Original Series</span></li><li class=\"sub-nav-menu\"><ul class=\"more\"> <li class=\"executive-edge\">\\n<a data-trknavattr=\"navigation:more:Executive Edge:101\" href=\"//www.cnbc.com/executive-edge/\">\\n\\t\\t\\tExecutive Edge\\n\\t\\t\\t\\t\\t</a>\\n</li>\\n<li class=\"trading-nation\">\\n<a data-trknavattr=\"navigation:more:Trading Nation:101\" href=\"//www.cnbc.com/trading-nation/\">\\n\\t\\t\\tTrading Nation\\n\\t\\t\\t\\t\\t</a>\\n</li>\\n<li class=\"futures-now\">\\n<a data-trknavattr=\"navigation:more:Futures Now:101\" href=\"//www.cnbc.com/futures-now/\">\\n\\t\\t\\tFutures Now\\n\\t\\t\\t\\t\\t</a>\\n</li>\\n<li class=\"retire-well\">\\n<a data-trknavattr=\"navigation:more:Retire Well:101\" href=\"//www.cnbc.com/retirewell/\">\\n\\t\\t\\tRetire Well\\n\\t\\t\\t\\t\\t</a>\\n</li>\\n<li class=\"the-pulse-@-1-market\">\\n<a data-trknavattr=\"navigation:more:The Pulse @ 1 Market:101\" href=\"//www.cnbc.com/the-pulse/\">\\n\\t\\t\\tThe Pulse @ 1 Market\\n\\t\\t\\t\\t\\t</a>\\n</li>\\n<li class=\"the-bottom-line\">\\n<a data-trknavattr=\"navigation:more:The Bottom Line:101\" href=\"//www.cnbc.com/the-bottom-line/\">\\n\\t\\t\\tThe Bottom Line\\n\\t\\t\\t\\t\\t</a>\\n</li>\\n</ul></li></ul><ul class=\"more-cnbc-events more\"><li class=\"header\"><span>CNBC Events</span></li><li class=\"sub-nav-menu\"><ul class=\"more\"> <li class=\"cambridge-cyber-summit\">\\n<a data-trknavattr=\"navigation:more:Cambridge Cyber Summit:101\" href=\"//www.cnbc.com/securing-our-future/\">\\n\\t\\t\\tCambridge Cyber Summit\\n\\t\\t\\t\\t\\t</a>\\n</li>\\n<li class=\"davos\">\\n<a data-trknavattr=\"navigation:more:Davos:101\" href=\"//www.cnbc.com/davos-world-economic-forum/\">\\n\\t\\t\\tDavos\\n\\t\\t\\t\\t\\t</a>\\n</li>\\n<li class=\"delivering-alpha\">\\n<a data-trknavattr=\"navigation:more:Delivering Alpha:101\" href=\"//www.cnbc.com/delivering-alpha-ii/\">\\n\\t\\t\\tDelivering Alpha\\n\\t\\t\\t\\t\\t</a>\\n</li>\\n<li class=\"emerge-americas\">\\n<a data-trknavattr=\"navigation:more:eMerge Americas:101\" href=\"//www.cnbc.com/emerge-americas/\">\\n\\t\\t\\teMerge Americas\\n\\t\\t\\t\\t\\t</a>\\n</li>\\n<li class=\"iconic-tour\">\\n<a data-trknavattr=\"navigation:more:iCONIC Tour:101\" href=\"//www.cnbc.com/iconic-conference/\">\\n\\t\\t\\tiCONIC Tour\\n\\t\\t\\t\\t\\t</a>\\n</li>\\n<li class=\"net/net\">\\n<a data-trknavattr=\"navigation:more:Net/Net:101\" href=\"//www.cnbc.com/netnet/\">\\n\\t\\t\\tNet/Net\\n\\t\\t\\t\\t\\t</a>\\n</li>\\n<li class=\"sohn-conference\">\\n<a data-trknavattr=\"navigation:more:Sohn Conference:101\" href=\"//www.cnbc.com/sohn/\">\\n\\t\\t\\tSohn Conference\\n\\t\\t\\t\\t\\t</a>\\n</li>\\n</ul></li></ul><ul class=\"more-follow-cnbc more\"><li class=\"header\"><span>Follow CNBC</span></li><li class=\"sub-nav-menu\"><ul class=\"more\"> <li class=\" social \">\\n<a data-trknavattr=\"navigation:more::101\" href=\"https://www.facebook.com/cnbc\">\\n<i class=\"webresource fa fa-facebook\"></i>\\n</a>\\n</li>\\n<li class=\" social \">\\n<a data-trknavattr=\"navigation:more::101\" href=\"https://twitter.com/cnbc\">\\n<i class=\"webresource fa fa-twitter\"></i>\\n</a>\\n</li>\\n</ul></li></ul><ul class=\"more-internationalization more\"><li class=\"site-set sub-nav-menu\"><ul class=\" more home-geo-container\"><li class=\"header\">EDITION</li></ul></li></ul><ul class=\"more-go-up more\"><li class=\"go-up sub-nav-menu\"><a href=\"javascript:void(0)\"><i class=\"fa fa-chevron-circle-up fa-3\"></i></a></li></ul></div></div></div></div></li></ul>,\n",
       " <ul class=\"home-geo-container\"><li>EDITION</li></ul>,\n",
       " <ul> <li><a data-trknavattr=\"navigation:news:economy:101\" href=\"//www.cnbc.com/economy/\">Economy</a></li>\\n<li><a data-trknavattr=\"navigation:news:finance:101\" href=\"//www.cnbc.com/finance/\">Finance</a></li>\\n<li><a data-trknavattr=\"navigation:news:healthcare:101\" href=\"//www.cnbc.com/health-care/\">Health Care</a></li>\\n<li><a data-trknavattr=\"navigation:news:realestate:101\" href=\"//www.cnbc.com/real-estate/\">Real Estate</a></li>\\n<li><a data-trknavattr=\"navigation:news:wealth:101\" href=\"//www.cnbc.com/wealth/\">Wealth</a></li>\\n<li><a data-trknavattr=\"navigation:news:autos:101\" href=\"//www.cnbc.com/autos/\">Autos</a></li>\\n<li><a data-trknavattr=\"navigation:news:earnings:101\" href=\"//www.cnbc.com/earnings/\">Earnings</a></li>\\n<li><a data-trknavattr=\"navigation:news:energy:101\" href=\"//www.cnbc.com/energy/\">Energy</a></li>\\n<li><a data-trknavattr=\"navigation:news:news-life:101\" href=\"//www.cnbc.com/life/\">Life</a></li>\\n<li><a data-trknavattr=\"navigation:news:media:101\" href=\"//www.cnbc.com/media/\">Media</a></li>\\n<li><a data-trknavattr=\"navigation:news:politics:101\" href=\"//www.cnbc.com/politics/\">Politics</a></li>\\n<li><a data-trknavattr=\"navigation:news:retail:101\" href=\"//www.cnbc.com/retail/\">Retail</a></li>\\n<li><a data-trknavattr=\"navigation:news:commentary:101\" href=\"//www.cnbc.com/commentary/\">Commentary</a></li>\\n<li><a data-trknavattr=\"navigation:news:specialreports:101\" href=\"//www.cnbc.com/special-reports/\">Special Reports</a></li>\\n<li><a data-trknavattr=\"navigation:news:asia:101\" href=\"//www.cnbc.com/asia-news/\">Asia</a></li>\\n<li><a data-trknavattr=\"navigation:news:europe:101\" href=\"//www.cnbc.com/europe-news/\">Europe</a></li>\\n<li><a data-trknavattr=\"navigation:news:cfo-council:101\" href=\"//www.cnbc.com/global-cfo-council/\">CFO Council</a></li>\\n</ul>,\n",
       " <ul> <li><a data-trknavattr=\"navigation:markets:premarkets:101\" href=\"//www.cnbc.com/pre-markets/\">Pre-Markets</a></li>\\n<li><a data-trknavattr=\"navigation:markets:us:101\" href=\"//www.cnbc.com/us-markets/\">U.S.</a></li>\\n<li><a data-trknavattr=\"navigation:markets:asia:101\" href=\"//www.cnbc.com/markets-asia-pacific/\">Asia</a></li>\\n<li><a data-trknavattr=\"navigation:markets:europe:101\" href=\"//www.cnbc.com/markets-europe/\">Europe</a></li>\\n<li><a data-trknavattr=\"navigation:markets:stocks:101\" href=\"//www.cnbc.com/stocks/\">Stocks</a></li>\\n<li><a data-trknavattr=\"navigation:markets:commodities:101\" href=\"//www.cnbc.com/commodities/\">Commodities</a></li>\\n<li><a data-trknavattr=\"navigation:markets:currencies:101\" href=\"//www.cnbc.com/currencies/\">Currencies</a></li>\\n<li><a data-trknavattr=\"navigation:markets:bonds:101\" href=\"//www.cnbc.com/bonds/\">Bonds</a></li>\\n<li><a data-trknavattr=\"navigation:markets:funds:101\" href=\"//www.cnbc.com/mutual-funds/\">Funds</a></li>\\n<li><a data-trknavattr=\"navigation:markets:etfs:101\" href=\"//www.cnbc.com/exchange-traded-funds/\">ETFs</a></li>\\n</ul>,\n",
       " <ul> <li><a data-trknavattr=\"navigation:investing:tradingnation:101\" href=\"//www.cnbc.com/trading-nation/\">Trading Nation</a></li>\\n<li><a data-trknavattr=\"navigation:investing:tradingtalk:101\" href=\"//www.cnbc.com/trader-talk/\">Trader Talk</a></li>\\n<li><a data-trknavattr=\"navigation:investing:financialadvisors:101\" href=\"//www.cnbc.com/financial-advisors/\">Financial Advisors</a></li>\\n<li><a data-trknavattr=\"navigation:investing:personalfinance:101\" href=\"//www.cnbc.com/personal-finance/\">Personal Finance</a></li>\\n<li><a data-trknavattr=\"navigation:investing:etf-street:101\" href=\"//www.cnbc.com/etf-street/\">Etf Street</a></li>\\n<li><a data-trknavattr=\"navigation:investing:portfolio:101\" href=\"http://portfolio.cnbc.com/\">Portfolio</a></li>\\n<li><a data-trknavattr=\"navigation:investing:watchlist:101\" href=\"//watchlist.cnbc.com/\">Watchlist</a></li>\\n<li><a data-trknavattr=\"navigation:investing:stockscreener:101\" href=\"//www.cnbc.com/id/15839076\">Stock Screener</a></li>\\n<li><a data-trknavattr=\"navigation:investing:fundscreener:101\" href=\"//www.cnbc.com/id/15839074\">Fund Screener</a></li>\\n</ul>,\n",
       " <ul> <li><a data-trknavattr=\"navigation:tech:mobile:101\" href=\"//www.cnbc.com/mobile/\">Mobile</a></li>\\n<li><a data-trknavattr=\"navigation:tech:socialmedia:101\" href=\"//www.cnbc.com/social-media/\">Social Media</a></li>\\n<li><a data-trknavattr=\"navigation:tech:enterprise:101\" href=\"//www.cnbc.com/enterprise/\">Enterprise</a></li>\\n<li><a data-trknavattr=\"navigation:tech:gaming:101\" href=\"//www.cnbc.com/gaming/\">Gaming</a></li>\\n<li><a data-trknavattr=\"navigation:tech:cybersecurity:101\" href=\"//www.cnbc.com/cybersecurity/\">Cybersecurity</a></li>\\n<li><a data-trknavattr=\"navigation:tech:tech-guide:101\" href=\"//www.cnbc.com/tech-guide/\">Tech Guide</a></li>\\n</ul>,\n",
       " <ul> <li><a data-trknavattr=\"navigation:makeit:entrepreneurs:101\" href=\"//www.cnbc.com/make-it/entrepreneurs/\">Entrepreneurs</a></li>\\n<li><a data-trknavattr=\"navigation:makeit:leadership:101\" href=\"//www.cnbc.com/make-it/leadership/\">Leadership</a></li>\\n<li><a data-trknavattr=\"navigation:makeit:careers:101\" href=\"//www.cnbc.com/make-it/careers/\">Careers</a></li>\\n<li><a data-trknavattr=\"navigation:makeit:money:101\" href=\"//www.cnbc.com/make-it/money/\">Money</a></li>\\n<li><a data-trknavattr=\"navigation:makeit:specials:101\" href=\"//www.cnbc.com/make-it/special-reports/\">Specials</a></li>\\n<li><a data-trknavattr=\"navigation:makeit:shows:101\" href=\"//www.cnbc.com/make-it/shows/\">Shows</a></li>\\n</ul>,\n",
       " <ul> <li><a data-trknavattr=\"navigation:video:topvideo:101\" href=\"//www.cnbc.com/top-video/\">Top Video</a></li>\\n<li><a data-trknavattr=\"navigation:video:latestvideo:101\" href=\"//www.cnbc.com/video-all/\">Latest Video</a></li>\\n<li><a data-trknavattr=\"navigation:video:usvideo:101\" href=\"//www.cnbc.com/us-video/\">U.S. Video</a></li>\\n<li><a data-trknavattr=\"navigation:video:asiavideo:101\" href=\"//www.cnbc.com/asia-video/\">Asia Video</a></li>\\n<li><a data-trknavattr=\"navigation:video:europevideo:101\" href=\"//www.cnbc.com/europe-video/\">Europe Video</a></li>\\n<li><a data-trknavattr=\"navigation:video:ceointerviews:101\" href=\"//www.cnbc.com/video-ceo-interviews/\">CEO Interviews</a></li>\\n<li><a data-trknavattr=\"navigation:video:analystinterviews:101\" href=\"//www.cnbc.com/video-analyst-interviews/\">Analyst Interviews</a></li>\\n<li><a data-trknavattr=\"navigation:video:fullepisodes:101\" href=\"http://www.cnbc.com/live-tv/\">Full Episodes</a></li>\\n</ul>,\n",
       " <ul> <li><a data-trknavattr=\"navigation:shows:watchlive:101\" href=\"http://www.cnbc.com/live-tv/\">Watch Live</a></li>\\n<li><a data-trknavattr=\"navigation:shows:cnbcus:101\" href=\"//www.cnbc.com/tv-worldwide/\">CNBC U.S. Business Day</a></li>\\n<li><a data-trknavattr=\"navigation:shows:cnbcusprime:101\" href=\"//www.cnbc.com/make-it/shows/\">CNBC U.S. Primetime</a></li>\\n<li><a data-trknavattr=\"navigation:shows:cnbcasiapacific:101\" href=\"//www.cnbc.com/asia-business-day/\">CNBC Asia-Pacific</a></li>\\n<li><a data-trknavattr=\"navigation:shows:cnbceurope:101\" href=\"//www.cnbc.com/europe-television/\">CNBC Europe</a></li>\\n<li><a data-trknavattr=\"navigation:shows:cnbcworld:101\" href=\"//www.cnbc.com/global-television-shows/\">CNBC World</a></li>\\n<li><a data-trknavattr=\"navigation:shows:fullepisodes:101\" href=\"http://www.cnbc.com/live-tv/\">Full Episodes</a></li>\\n</ul>,\n",
       " <ul class=\"more-mobile-login more\"><ul class=\"log-info unreg-user more\"><li id=\"mobile-signin\"><a href=\"//www.cnbc.com/application/generic/?action=signin\">Log In</a></li><li class=\"pipe\"><span>|</span></li><li class=\"cnbcRegister\" id=\"mobile-signup\"><a href=\"//www.cnbc.com/application/generic/?action=signup\">Register</a></li></ul><ul class=\"log-info reg-user more hide\"><li id=\"mobile-logout\"><a href=\"javascript:void(0);\">Log Out</a></li></ul></ul>,\n",
       " <ul class=\"log-info unreg-user more\"><li id=\"mobile-signin\"><a href=\"//www.cnbc.com/application/generic/?action=signin\">Log In</a></li><li class=\"pipe\"><span>|</span></li><li class=\"cnbcRegister\" id=\"mobile-signup\"><a href=\"//www.cnbc.com/application/generic/?action=signup\">Register</a></li></ul>,\n",
       " <ul class=\"log-info reg-user more hide\"><li id=\"mobile-logout\"><a href=\"javascript:void(0);\">Log Out</a></li></ul>,\n",
       " <ul class=\"more-news more\"><li class=\"header\"><a class=\"expandable\" data-trknavattr=\"navigation:more:news:101\" href=\"//www.cnbc.com/us-news/\">News</a></li><li class=\"sub-nav-menu\"><ul class=\"more\"> <li class=\"economy\">\\n<a data-trknavattr=\"navigation:more:economy:101\" href=\"//www.cnbc.com/economy/\">\\n\\t\\t\\tEconomy\\n\\t\\t\\t\\t\\t</a>\\n</li>\\n<li class=\"finance\">\\n<a data-trknavattr=\"navigation:more:finance:101\" href=\"//www.cnbc.com/finance/\">\\n\\t\\t\\tFinance\\n\\t\\t\\t\\t\\t</a>\\n</li>\\n<li class=\"healthcare\">\\n<a data-trknavattr=\"navigation:more:healthcare:101\" href=\"//www.cnbc.com/health-care/\">\\n\\t\\t\\tHealth Care\\n\\t\\t\\t\\t\\t</a>\\n</li>\\n<li class=\"realestate\">\\n<a data-trknavattr=\"navigation:more:realestate:101\" href=\"//www.cnbc.com/real-estate/\">\\n\\t\\t\\tReal Estate\\n\\t\\t\\t\\t\\t</a>\\n</li>\\n<li class=\"wealth\">\\n<a data-trknavattr=\"navigation:more:wealth:101\" href=\"//www.cnbc.com/wealth/\">\\n\\t\\t\\tWealth\\n\\t\\t\\t\\t\\t</a>\\n</li>\\n<li class=\"autos\">\\n<a data-trknavattr=\"navigation:more:autos:101\" href=\"//www.cnbc.com/autos/\">\\n\\t\\t\\tAutos\\n\\t\\t\\t\\t\\t</a>\\n</li>\\n<li class=\"news-consumer\">\\n<a data-trknavattr=\"navigation:more:news-consumer:101\" href=\"//www.cnbc.com/consumers/\">\\n\\t\\t\\tConsumer\\n\\t\\t\\t\\t\\t</a>\\n</li>\\n<li class=\"earnings\">\\n<a data-trknavattr=\"navigation:more:earnings:101\" href=\"//www.cnbc.com/earnings/\">\\n\\t\\t\\tEarnings\\n\\t\\t\\t\\t\\t</a>\\n</li>\\n<li class=\"energy\">\\n<a data-trknavattr=\"navigation:more:energy:101\" href=\"//www.cnbc.com/energy/\">\\n\\t\\t\\tEnergy\\n\\t\\t\\t\\t\\t</a>\\n</li>\\n<li class=\"news-life\">\\n<a data-trknavattr=\"navigation:more:news-life:101\" href=\"//www.cnbc.com/life/\">\\n\\t\\t\\tLife\\n\\t\\t\\t\\t\\t</a>\\n</li>\\n<li class=\"media\">\\n<a data-trknavattr=\"navigation:more:media:101\" href=\"//www.cnbc.com/media/\">\\n\\t\\t\\tMedia\\n\\t\\t\\t\\t\\t</a>\\n</li>\\n<li class=\"politics\">\\n<a data-trknavattr=\"navigation:more:politics:101\" href=\"//www.cnbc.com/politics/\">\\n\\t\\t\\tPolitics\\n\\t\\t\\t\\t\\t</a>\\n</li>\\n<li class=\"retail\">\\n<a data-trknavattr=\"navigation:more:retail:101\" href=\"//www.cnbc.com/retail/\">\\n\\t\\t\\tRetail\\n\\t\\t\\t\\t\\t</a>\\n</li>\\n<li class=\"commentary\">\\n<a data-trknavattr=\"navigation:more:commentary:101\" href=\"//www.cnbc.com/commentary/\">\\n\\t\\t\\tCommentary\\n\\t\\t\\t\\t\\t</a>\\n</li>\\n<li class=\"specialreports\">\\n<a data-trknavattr=\"navigation:more:specialreports:101\" href=\"//www.cnbc.com/special-reports/\">\\n\\t\\t\\tSpecial Reports\\n\\t\\t\\t\\t\\t</a>\\n</li>\\n<li class=\"asia\">\\n<a data-trknavattr=\"navigation:more:asia:101\" href=\"//www.cnbc.com/asia-news/\">\\n\\t\\t\\tAsia\\n\\t\\t\\t\\t\\t</a>\\n</li>\\n<li class=\"europe\">\\n<a data-trknavattr=\"navigation:more:europe:101\" href=\"//www.cnbc.com/europe-news/\">\\n\\t\\t\\tEurope\\n\\t\\t\\t\\t\\t</a>\\n</li>\\n<li class=\"cfo-council\">\\n<a data-trknavattr=\"navigation:more:cfo-council:101\" href=\"//www.cnbc.com/global-cfo-council/\">\\n\\t\\t\\tCFO Council\\n\\t\\t\\t\\t\\t</a>\\n</li>\\n</ul></li></ul>,\n",
       " <ul class=\"more\"> <li class=\"economy\">\\n<a data-trknavattr=\"navigation:more:economy:101\" href=\"//www.cnbc.com/economy/\">\\n\\t\\t\\tEconomy\\n\\t\\t\\t\\t\\t</a>\\n</li>\\n<li class=\"finance\">\\n<a data-trknavattr=\"navigation:more:finance:101\" href=\"//www.cnbc.com/finance/\">\\n\\t\\t\\tFinance\\n\\t\\t\\t\\t\\t</a>\\n</li>\\n<li class=\"healthcare\">\\n<a data-trknavattr=\"navigation:more:healthcare:101\" href=\"//www.cnbc.com/health-care/\">\\n\\t\\t\\tHealth Care\\n\\t\\t\\t\\t\\t</a>\\n</li>\\n<li class=\"realestate\">\\n<a data-trknavattr=\"navigation:more:realestate:101\" href=\"//www.cnbc.com/real-estate/\">\\n\\t\\t\\tReal Estate\\n\\t\\t\\t\\t\\t</a>\\n</li>\\n<li class=\"wealth\">\\n<a data-trknavattr=\"navigation:more:wealth:101\" href=\"//www.cnbc.com/wealth/\">\\n\\t\\t\\tWealth\\n\\t\\t\\t\\t\\t</a>\\n</li>\\n<li class=\"autos\">\\n<a data-trknavattr=\"navigation:more:autos:101\" href=\"//www.cnbc.com/autos/\">\\n\\t\\t\\tAutos\\n\\t\\t\\t\\t\\t</a>\\n</li>\\n<li class=\"news-consumer\">\\n<a data-trknavattr=\"navigation:more:news-consumer:101\" href=\"//www.cnbc.com/consumers/\">\\n\\t\\t\\tConsumer\\n\\t\\t\\t\\t\\t</a>\\n</li>\\n<li class=\"earnings\">\\n<a data-trknavattr=\"navigation:more:earnings:101\" href=\"//www.cnbc.com/earnings/\">\\n\\t\\t\\tEarnings\\n\\t\\t\\t\\t\\t</a>\\n</li>\\n<li class=\"energy\">\\n<a data-trknavattr=\"navigation:more:energy:101\" href=\"//www.cnbc.com/energy/\">\\n\\t\\t\\tEnergy\\n\\t\\t\\t\\t\\t</a>\\n</li>\\n<li class=\"news-life\">\\n<a data-trknavattr=\"navigation:more:news-life:101\" href=\"//www.cnbc.com/life/\">\\n\\t\\t\\tLife\\n\\t\\t\\t\\t\\t</a>\\n</li>\\n<li class=\"media\">\\n<a data-trknavattr=\"navigation:more:media:101\" href=\"//www.cnbc.com/media/\">\\n\\t\\t\\tMedia\\n\\t\\t\\t\\t\\t</a>\\n</li>\\n<li class=\"politics\">\\n<a data-trknavattr=\"navigation:more:politics:101\" href=\"//www.cnbc.com/politics/\">\\n\\t\\t\\tPolitics\\n\\t\\t\\t\\t\\t</a>\\n</li>\\n<li class=\"retail\">\\n<a data-trknavattr=\"navigation:more:retail:101\" href=\"//www.cnbc.com/retail/\">\\n\\t\\t\\tRetail\\n\\t\\t\\t\\t\\t</a>\\n</li>\\n<li class=\"commentary\">\\n<a data-trknavattr=\"navigation:more:commentary:101\" href=\"//www.cnbc.com/commentary/\">\\n\\t\\t\\tCommentary\\n\\t\\t\\t\\t\\t</a>\\n</li>\\n<li class=\"specialreports\">\\n<a data-trknavattr=\"navigation:more:specialreports:101\" href=\"//www.cnbc.com/special-reports/\">\\n\\t\\t\\tSpecial Reports\\n\\t\\t\\t\\t\\t</a>\\n</li>\\n<li class=\"asia\">\\n<a data-trknavattr=\"navigation:more:asia:101\" href=\"//www.cnbc.com/asia-news/\">\\n\\t\\t\\tAsia\\n\\t\\t\\t\\t\\t</a>\\n</li>\\n<li class=\"europe\">\\n<a data-trknavattr=\"navigation:more:europe:101\" href=\"//www.cnbc.com/europe-news/\">\\n\\t\\t\\tEurope\\n\\t\\t\\t\\t\\t</a>\\n</li>\\n<li class=\"cfo-council\">\\n<a data-trknavattr=\"navigation:more:cfo-council:101\" href=\"//www.cnbc.com/global-cfo-council/\">\\n\\t\\t\\tCFO Council\\n\\t\\t\\t\\t\\t</a>\\n</li>\\n</ul>,\n",
       " <ul class=\"more-pro more\"><li class=\"header\"><a class=\"expandable\" data-trknavattr=\"navigation:more:pro:101\" href=\"//www.cnbc.com/pro\">Pro</a></li><li class=\"sub-nav-menu\"><ul class=\"more\"> <li class=\"viewall\">\\n<a data-trknavattr=\"navigation:more:viewall:101\" href=\"//www.cnbc.com/pro\">\\n\\t\\t\\tView All\\n\\t\\t\\t\\t\\t</a>\\n</li>\\n<li class=\"pro_franchise\">\\n<a data-trknavattr=\"navigation:more:pro_franchise:101\" href=\"//www.cnbc.com/pro-story\">\\n\\t\\t\\tNews &amp; Analysis\\n\\t\\t\\t\\t\\t</a>\\n</li>\\n<li class=\"provideo\">\\n<a data-trknavattr=\"navigation:more:provideo:101\" href=\"//www.cnbc.com/pro-video\">\\n\\t\\t\\tVideo\\n\\t\\t\\t\\t\\t</a>\\n</li>\\n<li class=\"protalks\">\\n<a data-trknavattr=\"navigation:more:protalks:101\" href=\"//www.cnbc.com/protalks\">\\n\\t\\t\\tPRO Talks\\n\\t\\t\\t\\t\\t</a>\\n</li>\\n<li class=\"prouncut\">\\n<a data-trknavattr=\"navigation:more:prouncut:101\" href=\"//www.cnbc.com/pro-uncut\">\\n\\t\\t\\tPRO Uncut\\n\\t\\t\\t\\t\\t</a>\\n</li>\\n<li class=\"kensho\">\\n<a data-trknavattr=\"navigation:more:kensho:101\" href=\"//www.cnbc.com/kensho\">\\n\\t\\t\\tKensho Stats\\n\\t\\t\\t\\t\\t</a>\\n</li>\\n<li class=\"take_tour\">\\n<a href=\"javascript:void(0)\" id=\"pro-tour\">\\n\\t\\t\\tTake a Tour\\n\\t\\t\\t\\t\\t</a>\\n</li>\\n<li class=\"subscribe2\">\\n<a data-trknavattr=\"navigation:more:subscribe2:101\" href=\"//www.cnbc.com/application/pro\">\\n\\t\\t\\tSubscribe\\n\\t\\t\\t\\t\\t</a>\\n</li>\\n</ul></li></ul>,\n",
       " <ul class=\"more\"> <li class=\"viewall\">\\n<a data-trknavattr=\"navigation:more:viewall:101\" href=\"//www.cnbc.com/pro\">\\n\\t\\t\\tView All\\n\\t\\t\\t\\t\\t</a>\\n</li>\\n<li class=\"pro_franchise\">\\n<a data-trknavattr=\"navigation:more:pro_franchise:101\" href=\"//www.cnbc.com/pro-story\">\\n\\t\\t\\tNews &amp; Analysis\\n\\t\\t\\t\\t\\t</a>\\n</li>\\n<li class=\"provideo\">\\n<a data-trknavattr=\"navigation:more:provideo:101\" href=\"//www.cnbc.com/pro-video\">\\n\\t\\t\\tVideo\\n\\t\\t\\t\\t\\t</a>\\n</li>\\n<li class=\"protalks\">\\n<a data-trknavattr=\"navigation:more:protalks:101\" href=\"//www.cnbc.com/protalks\">\\n\\t\\t\\tPRO Talks\\n\\t\\t\\t\\t\\t</a>\\n</li>\\n<li class=\"prouncut\">\\n<a data-trknavattr=\"navigation:more:prouncut:101\" href=\"//www.cnbc.com/pro-uncut\">\\n\\t\\t\\tPRO Uncut\\n\\t\\t\\t\\t\\t</a>\\n</li>\\n<li class=\"kensho\">\\n<a data-trknavattr=\"navigation:more:kensho:101\" href=\"//www.cnbc.com/kensho\">\\n\\t\\t\\tKensho Stats\\n\\t\\t\\t\\t\\t</a>\\n</li>\\n<li class=\"take_tour\">\\n<a href=\"javascript:void(0)\" id=\"pro-tour\">\\n\\t\\t\\tTake a Tour\\n\\t\\t\\t\\t\\t</a>\\n</li>\\n<li class=\"subscribe2\">\\n<a data-trknavattr=\"navigation:more:subscribe2:101\" href=\"//www.cnbc.com/application/pro\">\\n\\t\\t\\tSubscribe\\n\\t\\t\\t\\t\\t</a>\\n</li>\\n</ul>,\n",
       " <ul class=\"more-markets more\"><li class=\"header\"><a class=\"expandable\" data-trknavattr=\"navigation:more:markets:101\" href=\"//www.cnbc.com/markets/\">Markets</a></li><li class=\"sub-nav-menu\"><ul class=\"more\"> <li class=\"premarkets\">\\n<a data-trknavattr=\"navigation:more:premarkets:101\" href=\"//www.cnbc.com/pre-markets/\">\\n\\t\\t\\tPre-Markets\\n\\t\\t\\t\\t\\t</a>\\n</li>\\n<li class=\"us\">\\n<a data-trknavattr=\"navigation:more:us:101\" href=\"//www.cnbc.com/us-markets/\">\\n\\t\\t\\tU.S.\\n\\t\\t\\t\\t\\t</a>\\n</li>\\n<li class=\"asia\">\\n<a data-trknavattr=\"navigation:more:asia:101\" href=\"//www.cnbc.com/markets-asia-pacific/\">\\n\\t\\t\\tAsia\\n\\t\\t\\t\\t\\t</a>\\n</li>\\n<li class=\"europe\">\\n<a data-trknavattr=\"navigation:more:europe:101\" href=\"//www.cnbc.com/markets-europe/\">\\n\\t\\t\\tEurope\\n\\t\\t\\t\\t\\t</a>\\n</li>\\n<li class=\"stocks\">\\n<a data-trknavattr=\"navigation:more:stocks:101\" href=\"//www.cnbc.com/stocks/\">\\n\\t\\t\\tStocks\\n\\t\\t\\t\\t\\t</a>\\n</li>\\n<li class=\"commodities\">\\n<a data-trknavattr=\"navigation:more:commodities:101\" href=\"//www.cnbc.com/commodities/\">\\n\\t\\t\\tCommodities\\n\\t\\t\\t\\t\\t</a>\\n</li>\\n<li class=\"currencies\">\\n<a data-trknavattr=\"navigation:more:currencies:101\" href=\"//www.cnbc.com/currencies/\">\\n\\t\\t\\tCurrencies\\n\\t\\t\\t\\t\\t</a>\\n</li>\\n<li class=\"bonds\">\\n<a data-trknavattr=\"navigation:more:bonds:101\" href=\"//www.cnbc.com/bonds/\">\\n\\t\\t\\tBonds\\n\\t\\t\\t\\t\\t</a>\\n</li>\\n<li class=\"funds\">\\n<a data-trknavattr=\"navigation:more:funds:101\" href=\"//www.cnbc.com/mutual-funds/\">\\n\\t\\t\\tFunds\\n\\t\\t\\t\\t\\t</a>\\n</li>\\n<li class=\"etfs\">\\n<a data-trknavattr=\"navigation:more:etfs:101\" href=\"//www.cnbc.com/exchange-traded-funds/\">\\n\\t\\t\\tETFs\\n\\t\\t\\t\\t\\t</a>\\n</li>\\n</ul></li></ul>,\n",
       " <ul class=\"more\"> <li class=\"premarkets\">\\n<a data-trknavattr=\"navigation:more:premarkets:101\" href=\"//www.cnbc.com/pre-markets/\">\\n\\t\\t\\tPre-Markets\\n\\t\\t\\t\\t\\t</a>\\n</li>\\n<li class=\"us\">\\n<a data-trknavattr=\"navigation:more:us:101\" href=\"//www.cnbc.com/us-markets/\">\\n\\t\\t\\tU.S.\\n\\t\\t\\t\\t\\t</a>\\n</li>\\n<li class=\"asia\">\\n<a data-trknavattr=\"navigation:more:asia:101\" href=\"//www.cnbc.com/markets-asia-pacific/\">\\n\\t\\t\\tAsia\\n\\t\\t\\t\\t\\t</a>\\n</li>\\n<li class=\"europe\">\\n<a data-trknavattr=\"navigation:more:europe:101\" href=\"//www.cnbc.com/markets-europe/\">\\n\\t\\t\\tEurope\\n\\t\\t\\t\\t\\t</a>\\n</li>\\n<li class=\"stocks\">\\n<a data-trknavattr=\"navigation:more:stocks:101\" href=\"//www.cnbc.com/stocks/\">\\n\\t\\t\\tStocks\\n\\t\\t\\t\\t\\t</a>\\n</li>\\n<li class=\"commodities\">\\n<a data-trknavattr=\"navigation:more:commodities:101\" href=\"//www.cnbc.com/commodities/\">\\n\\t\\t\\tCommodities\\n\\t\\t\\t\\t\\t</a>\\n</li>\\n<li class=\"currencies\">\\n<a data-trknavattr=\"navigation:more:currencies:101\" href=\"//www.cnbc.com/currencies/\">\\n\\t\\t\\tCurrencies\\n\\t\\t\\t\\t\\t</a>\\n</li>\\n<li class=\"bonds\">\\n<a data-trknavattr=\"navigation:more:bonds:101\" href=\"//www.cnbc.com/bonds/\">\\n\\t\\t\\tBonds\\n\\t\\t\\t\\t\\t</a>\\n</li>\\n<li class=\"funds\">\\n<a data-trknavattr=\"navigation:more:funds:101\" href=\"//www.cnbc.com/mutual-funds/\">\\n\\t\\t\\tFunds\\n\\t\\t\\t\\t\\t</a>\\n</li>\\n<li class=\"etfs\">\\n<a data-trknavattr=\"navigation:more:etfs:101\" href=\"//www.cnbc.com/exchange-traded-funds/\">\\n\\t\\t\\tETFs\\n\\t\\t\\t\\t\\t</a>\\n</li>\\n</ul>,\n",
       " <ul class=\"more-makeit more\"><li class=\"header\"><a class=\"expandable\" data-trknavattr=\"navigation:more:makeit:101\" href=\"//www.cnbc.com/make-it/\">Make It</a></li><li class=\"sub-nav-menu\"><ul class=\"more\"> <li class=\"entrepreneurs\">\\n<a data-trknavattr=\"navigation:more:entrepreneurs:101\" href=\"//www.cnbc.com/make-it/entrepreneurs/\">\\n\\t\\t\\tEntrepreneurs\\n\\t\\t\\t\\t\\t</a>\\n</li>\\n<li class=\"leadership\">\\n<a data-trknavattr=\"navigation:more:leadership:101\" href=\"//www.cnbc.com/make-it/leadership/\">\\n\\t\\t\\tLeadership\\n\\t\\t\\t\\t\\t</a>\\n</li>\\n<li class=\"careers\">\\n<a data-trknavattr=\"navigation:more:careers:101\" href=\"//www.cnbc.com/make-it/careers/\">\\n\\t\\t\\tCareers\\n\\t\\t\\t\\t\\t</a>\\n</li>\\n<li class=\"money\">\\n<a data-trknavattr=\"navigation:more:money:101\" href=\"//www.cnbc.com/make-it/money/\">\\n\\t\\t\\tMoney\\n\\t\\t\\t\\t\\t</a>\\n</li>\\n<li class=\"specials\">\\n<a data-trknavattr=\"navigation:more:specials:101\" href=\"//www.cnbc.com/make-it/special-reports/\">\\n\\t\\t\\tSpecials\\n\\t\\t\\t\\t\\t</a>\\n</li>\\n<li class=\"shows\">\\n<a data-trknavattr=\"navigation:more:shows:101\" href=\"//www.cnbc.com/make-it/shows/\">\\n\\t\\t\\tShows\\n\\t\\t\\t\\t\\t</a>\\n</li>\\n</ul></li></ul>,\n",
       " <ul class=\"more\"> <li class=\"entrepreneurs\">\\n<a data-trknavattr=\"navigation:more:entrepreneurs:101\" href=\"//www.cnbc.com/make-it/entrepreneurs/\">\\n\\t\\t\\tEntrepreneurs\\n\\t\\t\\t\\t\\t</a>\\n</li>\\n<li class=\"leadership\">\\n<a data-trknavattr=\"navigation:more:leadership:101\" href=\"//www.cnbc.com/make-it/leadership/\">\\n\\t\\t\\tLeadership\\n\\t\\t\\t\\t\\t</a>\\n</li>\\n<li class=\"careers\">\\n<a data-trknavattr=\"navigation:more:careers:101\" href=\"//www.cnbc.com/make-it/careers/\">\\n\\t\\t\\tCareers\\n\\t\\t\\t\\t\\t</a>\\n</li>\\n<li class=\"money\">\\n<a data-trknavattr=\"navigation:more:money:101\" href=\"//www.cnbc.com/make-it/money/\">\\n\\t\\t\\tMoney\\n\\t\\t\\t\\t\\t</a>\\n</li>\\n<li class=\"specials\">\\n<a data-trknavattr=\"navigation:more:specials:101\" href=\"//www.cnbc.com/make-it/special-reports/\">\\n\\t\\t\\tSpecials\\n\\t\\t\\t\\t\\t</a>\\n</li>\\n<li class=\"shows\">\\n<a data-trknavattr=\"navigation:more:shows:101\" href=\"//www.cnbc.com/make-it/shows/\">\\n\\t\\t\\tShows\\n\\t\\t\\t\\t\\t</a>\\n</li>\\n</ul>,\n",
       " <ul class=\"more-investing more\"><li class=\"header\"><a class=\"expandable\" data-trknavattr=\"navigation:more:investing:101\" href=\"//www.cnbc.com/investing/\">Investing</a></li><li class=\"sub-nav-menu\"><ul class=\"more\"> <li class=\"tradingnation\">\\n<a data-trknavattr=\"navigation:more:tradingnation:101\" href=\"//www.cnbc.com/trading-nation/\">\\n\\t\\t\\tTrading Nation\\n\\t\\t\\t\\t\\t</a>\\n</li>\\n<li class=\"tradingtalk\">\\n<a data-trknavattr=\"navigation:more:tradingtalk:101\" href=\"//www.cnbc.com/trader-talk/\">\\n\\t\\t\\tTrader Talk\\n\\t\\t\\t\\t\\t</a>\\n</li>\\n<li class=\"financialadvisors\">\\n<a data-trknavattr=\"navigation:more:financialadvisors:101\" href=\"//www.cnbc.com/financial-advisors/\">\\n\\t\\t\\tFinancial Advisors\\n\\t\\t\\t\\t\\t</a>\\n</li>\\n<li class=\"personalfinance\">\\n<a data-trknavattr=\"navigation:more:personalfinance:101\" href=\"//www.cnbc.com/personal-finance/\">\\n\\t\\t\\tPersonal Finance\\n\\t\\t\\t\\t\\t</a>\\n</li>\\n<li class=\"etf-street\">\\n<a data-trknavattr=\"navigation:more:etf-street:101\" href=\"//www.cnbc.com/etf-street/\">\\n\\t\\t\\tEtf Street\\n\\t\\t\\t\\t\\t</a>\\n</li>\\n<li class=\"portfolio\">\\n<a data-trknavattr=\"navigation:more:portfolio:101\" href=\"http://portfolio.cnbc.com/\">\\n\\t\\t\\tPortfolio\\n\\t\\t\\t\\t\\t</a>\\n</li>\\n<li class=\"watchlist\">\\n<a data-trknavattr=\"navigation:more:watchlist:101\" href=\"//watchlist.cnbc.com/\">\\n\\t\\t\\tWatchlist\\n\\t\\t\\t\\t\\t</a>\\n</li>\\n<li class=\"stockscreener\">\\n<a data-trknavattr=\"navigation:more:stockscreener:101\" href=\"//www.cnbc.com/id/15839076\">\\n\\t\\t\\tStock Screener\\n\\t\\t\\t\\t\\t</a>\\n</li>\\n<li class=\"fundscreener\">\\n<a data-trknavattr=\"navigation:more:fundscreener:101\" href=\"//www.cnbc.com/id/15839074\">\\n\\t\\t\\tFund Screener\\n\\t\\t\\t\\t\\t</a>\\n</li>\\n</ul></li></ul>,\n",
       " <ul class=\"more\"> <li class=\"tradingnation\">\\n<a data-trknavattr=\"navigation:more:tradingnation:101\" href=\"//www.cnbc.com/trading-nation/\">\\n\\t\\t\\tTrading Nation\\n\\t\\t\\t\\t\\t</a>\\n</li>\\n<li class=\"tradingtalk\">\\n<a data-trknavattr=\"navigation:more:tradingtalk:101\" href=\"//www.cnbc.com/trader-talk/\">\\n\\t\\t\\tTrader Talk\\n\\t\\t\\t\\t\\t</a>\\n</li>\\n<li class=\"financialadvisors\">\\n<a data-trknavattr=\"navigation:more:financialadvisors:101\" href=\"//www.cnbc.com/financial-advisors/\">\\n\\t\\t\\tFinancial Advisors\\n\\t\\t\\t\\t\\t</a>\\n</li>\\n<li class=\"personalfinance\">\\n<a data-trknavattr=\"navigation:more:personalfinance:101\" href=\"//www.cnbc.com/personal-finance/\">\\n\\t\\t\\tPersonal Finance\\n\\t\\t\\t\\t\\t</a>\\n</li>\\n<li class=\"etf-street\">\\n<a data-trknavattr=\"navigation:more:etf-street:101\" href=\"//www.cnbc.com/etf-street/\">\\n\\t\\t\\tEtf Street\\n\\t\\t\\t\\t\\t</a>\\n</li>\\n<li class=\"portfolio\">\\n<a data-trknavattr=\"navigation:more:portfolio:101\" href=\"http://portfolio.cnbc.com/\">\\n\\t\\t\\tPortfolio\\n\\t\\t\\t\\t\\t</a>\\n</li>\\n<li class=\"watchlist\">\\n<a data-trknavattr=\"navigation:more:watchlist:101\" href=\"//watchlist.cnbc.com/\">\\n\\t\\t\\tWatchlist\\n\\t\\t\\t\\t\\t</a>\\n</li>\\n<li class=\"stockscreener\">\\n<a data-trknavattr=\"navigation:more:stockscreener:101\" href=\"//www.cnbc.com/id/15839076\">\\n\\t\\t\\tStock Screener\\n\\t\\t\\t\\t\\t</a>\\n</li>\\n<li class=\"fundscreener\">\\n<a data-trknavattr=\"navigation:more:fundscreener:101\" href=\"//www.cnbc.com/id/15839074\">\\n\\t\\t\\tFund Screener\\n\\t\\t\\t\\t\\t</a>\\n</li>\\n</ul>,\n",
       " <ul class=\"more-tech more\"><li class=\"header\"><a class=\"expandable\" data-trknavattr=\"navigation:more:tech:101\" href=\"//www.cnbc.com/technology/\">Tech</a></li><li class=\"sub-nav-menu\"><ul class=\"more\"> <li class=\"mobile\">\\n<a data-trknavattr=\"navigation:more:mobile:101\" href=\"//www.cnbc.com/mobile/\">\\n\\t\\t\\tMobile\\n\\t\\t\\t\\t\\t</a>\\n</li>\\n<li class=\"socialmedia\">\\n<a data-trknavattr=\"navigation:more:socialmedia:101\" href=\"//www.cnbc.com/social-media/\">\\n\\t\\t\\tSocial Media\\n\\t\\t\\t\\t\\t</a>\\n</li>\\n<li class=\"enterprise\">\\n<a data-trknavattr=\"navigation:more:enterprise:101\" href=\"//www.cnbc.com/enterprise/\">\\n\\t\\t\\tEnterprise\\n\\t\\t\\t\\t\\t</a>\\n</li>\\n<li class=\"gaming\">\\n<a data-trknavattr=\"navigation:more:gaming:101\" href=\"//www.cnbc.com/gaming/\">\\n\\t\\t\\tGaming\\n\\t\\t\\t\\t\\t</a>\\n</li>\\n<li class=\"cybersecurity\">\\n<a data-trknavattr=\"navigation:more:cybersecurity:101\" href=\"//www.cnbc.com/cybersecurity/\">\\n\\t\\t\\tCybersecurity\\n\\t\\t\\t\\t\\t</a>\\n</li>\\n<li class=\"tech-guide\">\\n<a data-trknavattr=\"navigation:more:tech-guide:101\" href=\"//www.cnbc.com/tech-guide/\">\\n\\t\\t\\tTech Guide\\n\\t\\t\\t\\t\\t</a>\\n</li>\\n</ul></li></ul>,\n",
       " <ul class=\"more\"> <li class=\"mobile\">\\n<a data-trknavattr=\"navigation:more:mobile:101\" href=\"//www.cnbc.com/mobile/\">\\n\\t\\t\\tMobile\\n\\t\\t\\t\\t\\t</a>\\n</li>\\n<li class=\"socialmedia\">\\n<a data-trknavattr=\"navigation:more:socialmedia:101\" href=\"//www.cnbc.com/social-media/\">\\n\\t\\t\\tSocial Media\\n\\t\\t\\t\\t\\t</a>\\n</li>\\n<li class=\"enterprise\">\\n<a data-trknavattr=\"navigation:more:enterprise:101\" href=\"//www.cnbc.com/enterprise/\">\\n\\t\\t\\tEnterprise\\n\\t\\t\\t\\t\\t</a>\\n</li>\\n<li class=\"gaming\">\\n<a data-trknavattr=\"navigation:more:gaming:101\" href=\"//www.cnbc.com/gaming/\">\\n\\t\\t\\tGaming\\n\\t\\t\\t\\t\\t</a>\\n</li>\\n<li class=\"cybersecurity\">\\n<a data-trknavattr=\"navigation:more:cybersecurity:101\" href=\"//www.cnbc.com/cybersecurity/\">\\n\\t\\t\\tCybersecurity\\n\\t\\t\\t\\t\\t</a>\\n</li>\\n<li class=\"tech-guide\">\\n<a data-trknavattr=\"navigation:more:tech-guide:101\" href=\"//www.cnbc.com/tech-guide/\">\\n\\t\\t\\tTech Guide\\n\\t\\t\\t\\t\\t</a>\\n</li>\\n</ul>,\n",
       " <ul class=\"more-video more\"><li class=\"header\"><a class=\"expandable\" data-trknavattr=\"navigation:more:video:101\" href=\"http://video.cnbc.com\">Video</a></li><li class=\"sub-nav-menu\"><ul class=\"more\"> <li class=\"topvideo\">\\n<a data-trknavattr=\"navigation:more:topvideo:101\" href=\"//www.cnbc.com/top-video/\">\\n\\t\\t\\tTop Video\\n\\t\\t\\t\\t\\t</a>\\n</li>\\n<li class=\"latestvideo\">\\n<a data-trknavattr=\"navigation:more:latestvideo:101\" href=\"//www.cnbc.com/video-all/\">\\n\\t\\t\\tLatest Video\\n\\t\\t\\t\\t\\t</a>\\n</li>\\n<li class=\"usvideo\">\\n<a data-trknavattr=\"navigation:more:usvideo:101\" href=\"//www.cnbc.com/us-video/\">\\n\\t\\t\\tU.S. Video\\n\\t\\t\\t\\t\\t</a>\\n</li>\\n<li class=\"asiavideo\">\\n<a data-trknavattr=\"navigation:more:asiavideo:101\" href=\"//www.cnbc.com/asia-video/\">\\n\\t\\t\\tAsia Video\\n\\t\\t\\t\\t\\t</a>\\n</li>\\n<li class=\"europevideo\">\\n<a data-trknavattr=\"navigation:more:europevideo:101\" href=\"//www.cnbc.com/europe-video/\">\\n\\t\\t\\tEurope Video\\n\\t\\t\\t\\t\\t</a>\\n</li>\\n<li class=\"ceointerviews\">\\n<a data-trknavattr=\"navigation:more:ceointerviews:101\" href=\"//www.cnbc.com/video-ceo-interviews/\">\\n\\t\\t\\tCEO Interviews\\n\\t\\t\\t\\t\\t</a>\\n</li>\\n<li class=\"analystinterviews\">\\n<a data-trknavattr=\"navigation:more:analystinterviews:101\" href=\"//www.cnbc.com/video-analyst-interviews/\">\\n\\t\\t\\tAnalyst Interviews\\n\\t\\t\\t\\t\\t</a>\\n</li>\\n<li class=\"fullepisodes\">\\n<a data-trknavattr=\"navigation:more:fullepisodes:101\" href=\"http://www.cnbc.com/live-tv/\">\\n\\t\\t\\tFull Episodes\\n\\t\\t\\t\\t\\t</a>\\n</li>\\n</ul></li></ul>,\n",
       " <ul class=\"more\"> <li class=\"topvideo\">\\n<a data-trknavattr=\"navigation:more:topvideo:101\" href=\"//www.cnbc.com/top-video/\">\\n\\t\\t\\tTop Video\\n\\t\\t\\t\\t\\t</a>\\n</li>\\n<li class=\"latestvideo\">\\n<a data-trknavattr=\"navigation:more:latestvideo:101\" href=\"//www.cnbc.com/video-all/\">\\n\\t\\t\\tLatest Video\\n\\t\\t\\t\\t\\t</a>\\n</li>\\n<li class=\"usvideo\">\\n<a data-trknavattr=\"navigation:more:usvideo:101\" href=\"//www.cnbc.com/us-video/\">\\n\\t\\t\\tU.S. Video\\n\\t\\t\\t\\t\\t</a>\\n</li>\\n<li class=\"asiavideo\">\\n<a data-trknavattr=\"navigation:more:asiavideo:101\" href=\"//www.cnbc.com/asia-video/\">\\n\\t\\t\\tAsia Video\\n\\t\\t\\t\\t\\t</a>\\n</li>\\n<li class=\"europevideo\">\\n<a data-trknavattr=\"navigation:more:europevideo:101\" href=\"//www.cnbc.com/europe-video/\">\\n\\t\\t\\tEurope Video\\n\\t\\t\\t\\t\\t</a>\\n</li>\\n<li class=\"ceointerviews\">\\n<a data-trknavattr=\"navigation:more:ceointerviews:101\" href=\"//www.cnbc.com/video-ceo-interviews/\">\\n\\t\\t\\tCEO Interviews\\n\\t\\t\\t\\t\\t</a>\\n</li>\\n<li class=\"analystinterviews\">\\n<a data-trknavattr=\"navigation:more:analystinterviews:101\" href=\"//www.cnbc.com/video-analyst-interviews/\">\\n\\t\\t\\tAnalyst Interviews\\n\\t\\t\\t\\t\\t</a>\\n</li>\\n<li class=\"fullepisodes\">\\n<a data-trknavattr=\"navigation:more:fullepisodes:101\" href=\"http://www.cnbc.com/live-tv/\">\\n\\t\\t\\tFull Episodes\\n\\t\\t\\t\\t\\t</a>\\n</li>\\n</ul>,\n",
       " <ul class=\"more-shows more\"><li class=\"header\"><a class=\"expandable\" data-trknavattr=\"navigation:more:shows:101\" href=\"//www.cnbc.com/tv-worldwide/\">Shows</a></li><li class=\"sub-nav-menu\"><ul class=\"more\"> <li class=\"cnbcus\">\\n<a data-trknavattr=\"navigation:more:cnbcus:101\" href=\"//www.cnbc.com/tv-worldwide/\">\\n\\t\\t\\tCNBC U.S. Business Day\\n\\t\\t\\t\\t\\t</a>\\n</li>\\n<li class=\"cnbcusprime\">\\n<a data-trknavattr=\"navigation:more:cnbcusprime:101\" href=\"//www.cnbc.com/make-it/shows/\">\\n\\t\\t\\tCNBC U.S. Primetime\\n\\t\\t\\t\\t\\t</a>\\n</li>\\n<li class=\"cnbcasiapacific\">\\n<a data-trknavattr=\"navigation:more:cnbcasiapacific:101\" href=\"//www.cnbc.com/asia-business-day/\">\\n\\t\\t\\tCNBC Asia-Pacific\\n\\t\\t\\t\\t\\t</a>\\n</li>\\n<li class=\"cnbceurope\">\\n<a data-trknavattr=\"navigation:more:cnbceurope:101\" href=\"//www.cnbc.com/europe-television/\">\\n\\t\\t\\tCNBC Europe\\n\\t\\t\\t\\t\\t</a>\\n</li>\\n<li class=\"cnbcworld\">\\n<a data-trknavattr=\"navigation:more:cnbcworld:101\" href=\"//www.cnbc.com/global-television-shows/\">\\n\\t\\t\\tCNBC World\\n\\t\\t\\t\\t\\t</a>\\n</li>\\n</ul></li></ul>,\n",
       " <ul class=\"more\"> <li class=\"cnbcus\">\\n<a data-trknavattr=\"navigation:more:cnbcus:101\" href=\"//www.cnbc.com/tv-worldwide/\">\\n\\t\\t\\tCNBC U.S. Business Day\\n\\t\\t\\t\\t\\t</a>\\n</li>\\n<li class=\"cnbcusprime\">\\n<a data-trknavattr=\"navigation:more:cnbcusprime:101\" href=\"//www.cnbc.com/make-it/shows/\">\\n\\t\\t\\tCNBC U.S. Primetime\\n\\t\\t\\t\\t\\t</a>\\n</li>\\n<li class=\"cnbcasiapacific\">\\n<a data-trknavattr=\"navigation:more:cnbcasiapacific:101\" href=\"//www.cnbc.com/asia-business-day/\">\\n\\t\\t\\tCNBC Asia-Pacific\\n\\t\\t\\t\\t\\t</a>\\n</li>\\n<li class=\"cnbceurope\">\\n<a data-trknavattr=\"navigation:more:cnbceurope:101\" href=\"//www.cnbc.com/europe-television/\">\\n\\t\\t\\tCNBC Europe\\n\\t\\t\\t\\t\\t</a>\\n</li>\\n<li class=\"cnbcworld\">\\n<a data-trknavattr=\"navigation:more:cnbcworld:101\" href=\"//www.cnbc.com/global-television-shows/\">\\n\\t\\t\\tCNBC World\\n\\t\\t\\t\\t\\t</a>\\n</li>\\n</ul>,\n",
       " <ul class=\"more-special-reports more\"><li class=\"header\"><a class=\"expandable\" data-trknavattr=\"navigation:more:Special Reports:101\" href=\"//www.cnbc.com/special-reports/\">Special Reports</a></li><li class=\"sub-nav-menu\"><ul class=\"more\"> <li class=\"top-states-2017\">\\n<a data-trknavattr=\"navigation:more:Top States 2017:101\" href=\"//www.cnbc.com/americas-top-states-for-business/\">\\n\\t\\t\\tTop States 2017\\n\\t\\t\\t\\t\\t</a>\\n</li>\\n<li class=\"trailblazers\">\\n<a data-trknavattr=\"navigation:more:Trailblazers:101\" href=\"//www.cnbc.com/trailblazers/\">\\n\\t\\t\\tTrailblazers\\n\\t\\t\\t\\t\\t</a>\\n</li>\\n<li class=\"trading-the-world-\">\\n<a data-trknavattr=\"navigation:more:Trading the World :101\" href=\"//www.cnbc.com/trading-the-world/\">\\n\\t\\t\\tTrading the World \\n\\t\\t\\t\\t\\t</a>\\n</li>\\n<li class=\"cnbc-disruptor-50\">\\n<a data-trknavattr=\"navigation:more:CNBC Disruptor 50:101\" href=\"//www.cnbc.com/cnbc-disruptors/\">\\n\\t\\t\\tCNBC Disruptor 50\\n\\t\\t\\t\\t\\t</a>\\n</li>\\n<li class=\"lasting-legacy\">\\n<a data-trknavattr=\"navigation:more:Lasting Legacy:101\" href=\"//www.cnbc.com/lasting-legacy/\">\\n\\t\\t\\tLasting Legacy\\n\\t\\t\\t\\t\\t</a>\\n</li>\\n<li class=\"modern-medicine\">\\n<a data-trknavattr=\"navigation:more:Modern Medicine:101\" href=\"//www.cnbc.com/modern-medicine/\">\\n\\t\\t\\tModern Medicine\\n\\t\\t\\t\\t\\t</a>\\n</li>\\n<li class=\"college-game-plan-\">\\n<a data-trknavattr=\"navigation:more:College Game Plan :101\" href=\"//www.cnbc.com/college-game-plan/\">\\n\\t\\t\\tCollege Game Plan \\n\\t\\t\\t\\t\\t</a>\\n</li>\\n<li class=\"investing-in:-israel\">\\n<a data-trknavattr=\"navigation:more:Investing in: Israel:101\" href=\"//www.cnbc.com/investing-in-israel/\">\\n\\t\\t\\tInvesting in: Israel\\n\\t\\t\\t\\t\\t</a>\\n</li>\\n<li class=\"tech-drivers\">\\n<a data-trknavattr=\"navigation:more:Tech Drivers:101\" href=\"//www.cnbc.com/tech-drivers/\">\\n\\t\\t\\tTech Drivers\\n\\t\\t\\t\\t\\t</a>\\n</li>\\n<li class=\"the-brave-ones\">\\n<a data-trknavattr=\"navigation:more:The Brave Ones:101\" href=\"//www.cnbc.com/the-brave-ones/\">\\n\\t\\t\\tThe Brave Ones\\n\\t\\t\\t\\t\\t</a>\\n</li>\\n<li class=\"trading-nation\">\\n<a data-trknavattr=\"navigation:more:Trading Nation:101\" href=\"//www.cnbc.com/trading-nation/\">\\n\\t\\t\\tTrading Nation\\n\\t\\t\\t\\t\\t</a>\\n</li>\\n<li class=\"shaping-the-future\">\\n<a data-trknavattr=\"navigation:more:Shaping the future:101\" href=\"//www.cnbc.com/shaping-the-future/\">\\n\\t\\t\\tShaping the future\\n\\t\\t\\t\\t\\t</a>\\n</li>\\n<li class=\"future-opportunities\">\\n<a data-trknavattr=\"navigation:more:Future Opportunities:101\" href=\"//www.cnbc.com/future-opportunities/\">\\n\\t\\t\\tFuture Opportunities\\n\\t\\t\\t\\t\\t</a>\\n</li>\\n</ul></li></ul>,\n",
       " <ul class=\"more\"> <li class=\"top-states-2017\">\\n<a data-trknavattr=\"navigation:more:Top States 2017:101\" href=\"//www.cnbc.com/americas-top-states-for-business/\">\\n\\t\\t\\tTop States 2017\\n\\t\\t\\t\\t\\t</a>\\n</li>\\n<li class=\"trailblazers\">\\n<a data-trknavattr=\"navigation:more:Trailblazers:101\" href=\"//www.cnbc.com/trailblazers/\">\\n\\t\\t\\tTrailblazers\\n\\t\\t\\t\\t\\t</a>\\n</li>\\n<li class=\"trading-the-world-\">\\n<a data-trknavattr=\"navigation:more:Trading the World :101\" href=\"//www.cnbc.com/trading-the-world/\">\\n\\t\\t\\tTrading the World \\n\\t\\t\\t\\t\\t</a>\\n</li>\\n<li class=\"cnbc-disruptor-50\">\\n<a data-trknavattr=\"navigation:more:CNBC Disruptor 50:101\" href=\"//www.cnbc.com/cnbc-disruptors/\">\\n\\t\\t\\tCNBC Disruptor 50\\n\\t\\t\\t\\t\\t</a>\\n</li>\\n<li class=\"lasting-legacy\">\\n<a data-trknavattr=\"navigation:more:Lasting Legacy:101\" href=\"//www.cnbc.com/lasting-legacy/\">\\n\\t\\t\\tLasting Legacy\\n\\t\\t\\t\\t\\t</a>\\n</li>\\n<li class=\"modern-medicine\">\\n<a data-trknavattr=\"navigation:more:Modern Medicine:101\" href=\"//www.cnbc.com/modern-medicine/\">\\n\\t\\t\\tModern Medicine\\n\\t\\t\\t\\t\\t</a>\\n</li>\\n<li class=\"college-game-plan-\">\\n<a data-trknavattr=\"navigation:more:College Game Plan :101\" href=\"//www.cnbc.com/college-game-plan/\">\\n\\t\\t\\tCollege Game Plan \\n\\t\\t\\t\\t\\t</a>\\n</li>\\n<li class=\"investing-in:-israel\">\\n<a data-trknavattr=\"navigation:more:Investing in: Israel:101\" href=\"//www.cnbc.com/investing-in-israel/\">\\n\\t\\t\\tInvesting in: Israel\\n\\t\\t\\t\\t\\t</a>\\n</li>\\n<li class=\"tech-drivers\">\\n<a data-trknavattr=\"navigation:more:Tech Drivers:101\" href=\"//www.cnbc.com/tech-drivers/\">\\n\\t\\t\\tTech Drivers\\n\\t\\t\\t\\t\\t</a>\\n</li>\\n<li class=\"the-brave-ones\">\\n<a data-trknavattr=\"navigation:more:The Brave Ones:101\" href=\"//www.cnbc.com/the-brave-ones/\">\\n\\t\\t\\tThe Brave Ones\\n\\t\\t\\t\\t\\t</a>\\n</li>\\n<li class=\"trading-nation\">\\n<a data-trknavattr=\"navigation:more:Trading Nation:101\" href=\"//www.cnbc.com/trading-nation/\">\\n\\t\\t\\tTrading Nation\\n\\t\\t\\t\\t\\t</a>\\n</li>\\n<li class=\"shaping-the-future\">\\n<a data-trknavattr=\"navigation:more:Shaping the future:101\" href=\"//www.cnbc.com/shaping-the-future/\">\\n\\t\\t\\tShaping the future\\n\\t\\t\\t\\t\\t</a>\\n</li>\\n<li class=\"future-opportunities\">\\n<a data-trknavattr=\"navigation:more:Future Opportunities:101\" href=\"//www.cnbc.com/future-opportunities/\">\\n\\t\\t\\tFuture Opportunities\\n\\t\\t\\t\\t\\t</a>\\n</li>\\n</ul>,\n",
       " <ul class=\"more-original-series more\"><li class=\"header\"><span>Original Series</span></li><li class=\"sub-nav-menu\"><ul class=\"more\"> <li class=\"executive-edge\">\\n<a data-trknavattr=\"navigation:more:Executive Edge:101\" href=\"//www.cnbc.com/executive-edge/\">\\n\\t\\t\\tExecutive Edge\\n\\t\\t\\t\\t\\t</a>\\n</li>\\n<li class=\"trading-nation\">\\n<a data-trknavattr=\"navigation:more:Trading Nation:101\" href=\"//www.cnbc.com/trading-nation/\">\\n\\t\\t\\tTrading Nation\\n\\t\\t\\t\\t\\t</a>\\n</li>\\n<li class=\"futures-now\">\\n<a data-trknavattr=\"navigation:more:Futures Now:101\" href=\"//www.cnbc.com/futures-now/\">\\n\\t\\t\\tFutures Now\\n\\t\\t\\t\\t\\t</a>\\n</li>\\n<li class=\"retire-well\">\\n<a data-trknavattr=\"navigation:more:Retire Well:101\" href=\"//www.cnbc.com/retirewell/\">\\n\\t\\t\\tRetire Well\\n\\t\\t\\t\\t\\t</a>\\n</li>\\n<li class=\"the-pulse-@-1-market\">\\n<a data-trknavattr=\"navigation:more:The Pulse @ 1 Market:101\" href=\"//www.cnbc.com/the-pulse/\">\\n\\t\\t\\tThe Pulse @ 1 Market\\n\\t\\t\\t\\t\\t</a>\\n</li>\\n<li class=\"the-bottom-line\">\\n<a data-trknavattr=\"navigation:more:The Bottom Line:101\" href=\"//www.cnbc.com/the-bottom-line/\">\\n\\t\\t\\tThe Bottom Line\\n\\t\\t\\t\\t\\t</a>\\n</li>\\n</ul></li></ul>,\n",
       " <ul class=\"more\"> <li class=\"executive-edge\">\\n<a data-trknavattr=\"navigation:more:Executive Edge:101\" href=\"//www.cnbc.com/executive-edge/\">\\n\\t\\t\\tExecutive Edge\\n\\t\\t\\t\\t\\t</a>\\n</li>\\n<li class=\"trading-nation\">\\n<a data-trknavattr=\"navigation:more:Trading Nation:101\" href=\"//www.cnbc.com/trading-nation/\">\\n\\t\\t\\tTrading Nation\\n\\t\\t\\t\\t\\t</a>\\n</li>\\n<li class=\"futures-now\">\\n<a data-trknavattr=\"navigation:more:Futures Now:101\" href=\"//www.cnbc.com/futures-now/\">\\n\\t\\t\\tFutures Now\\n\\t\\t\\t\\t\\t</a>\\n</li>\\n<li class=\"retire-well\">\\n<a data-trknavattr=\"navigation:more:Retire Well:101\" href=\"//www.cnbc.com/retirewell/\">\\n\\t\\t\\tRetire Well\\n\\t\\t\\t\\t\\t</a>\\n</li>\\n<li class=\"the-pulse-@-1-market\">\\n<a data-trknavattr=\"navigation:more:The Pulse @ 1 Market:101\" href=\"//www.cnbc.com/the-pulse/\">\\n\\t\\t\\tThe Pulse @ 1 Market\\n\\t\\t\\t\\t\\t</a>\\n</li>\\n<li class=\"the-bottom-line\">\\n<a data-trknavattr=\"navigation:more:The Bottom Line:101\" href=\"//www.cnbc.com/the-bottom-line/\">\\n\\t\\t\\tThe Bottom Line\\n\\t\\t\\t\\t\\t</a>\\n</li>\\n</ul>,\n",
       " <ul class=\"more-cnbc-events more\"><li class=\"header\"><span>CNBC Events</span></li><li class=\"sub-nav-menu\"><ul class=\"more\"> <li class=\"cambridge-cyber-summit\">\\n<a data-trknavattr=\"navigation:more:Cambridge Cyber Summit:101\" href=\"//www.cnbc.com/securing-our-future/\">\\n\\t\\t\\tCambridge Cyber Summit\\n\\t\\t\\t\\t\\t</a>\\n</li>\\n<li class=\"davos\">\\n<a data-trknavattr=\"navigation:more:Davos:101\" href=\"//www.cnbc.com/davos-world-economic-forum/\">\\n\\t\\t\\tDavos\\n\\t\\t\\t\\t\\t</a>\\n</li>\\n<li class=\"delivering-alpha\">\\n<a data-trknavattr=\"navigation:more:Delivering Alpha:101\" href=\"//www.cnbc.com/delivering-alpha-ii/\">\\n\\t\\t\\tDelivering Alpha\\n\\t\\t\\t\\t\\t</a>\\n</li>\\n<li class=\"emerge-americas\">\\n<a data-trknavattr=\"navigation:more:eMerge Americas:101\" href=\"//www.cnbc.com/emerge-americas/\">\\n\\t\\t\\teMerge Americas\\n\\t\\t\\t\\t\\t</a>\\n</li>\\n<li class=\"iconic-tour\">\\n<a data-trknavattr=\"navigation:more:iCONIC Tour:101\" href=\"//www.cnbc.com/iconic-conference/\">\\n\\t\\t\\tiCONIC Tour\\n\\t\\t\\t\\t\\t</a>\\n</li>\\n<li class=\"net/net\">\\n<a data-trknavattr=\"navigation:more:Net/Net:101\" href=\"//www.cnbc.com/netnet/\">\\n\\t\\t\\tNet/Net\\n\\t\\t\\t\\t\\t</a>\\n</li>\\n<li class=\"sohn-conference\">\\n<a data-trknavattr=\"navigation:more:Sohn Conference:101\" href=\"//www.cnbc.com/sohn/\">\\n\\t\\t\\tSohn Conference\\n\\t\\t\\t\\t\\t</a>\\n</li>\\n</ul></li></ul>,\n",
       " <ul class=\"more\"> <li class=\"cambridge-cyber-summit\">\\n<a data-trknavattr=\"navigation:more:Cambridge Cyber Summit:101\" href=\"//www.cnbc.com/securing-our-future/\">\\n\\t\\t\\tCambridge Cyber Summit\\n\\t\\t\\t\\t\\t</a>\\n</li>\\n<li class=\"davos\">\\n<a data-trknavattr=\"navigation:more:Davos:101\" href=\"//www.cnbc.com/davos-world-economic-forum/\">\\n\\t\\t\\tDavos\\n\\t\\t\\t\\t\\t</a>\\n</li>\\n<li class=\"delivering-alpha\">\\n<a data-trknavattr=\"navigation:more:Delivering Alpha:101\" href=\"//www.cnbc.com/delivering-alpha-ii/\">\\n\\t\\t\\tDelivering Alpha\\n\\t\\t\\t\\t\\t</a>\\n</li>\\n<li class=\"emerge-americas\">\\n<a data-trknavattr=\"navigation:more:eMerge Americas:101\" href=\"//www.cnbc.com/emerge-americas/\">\\n\\t\\t\\teMerge Americas\\n\\t\\t\\t\\t\\t</a>\\n</li>\\n<li class=\"iconic-tour\">\\n<a data-trknavattr=\"navigation:more:iCONIC Tour:101\" href=\"//www.cnbc.com/iconic-conference/\">\\n\\t\\t\\tiCONIC Tour\\n\\t\\t\\t\\t\\t</a>\\n</li>\\n<li class=\"net/net\">\\n<a data-trknavattr=\"navigation:more:Net/Net:101\" href=\"//www.cnbc.com/netnet/\">\\n\\t\\t\\tNet/Net\\n\\t\\t\\t\\t\\t</a>\\n</li>\\n<li class=\"sohn-conference\">\\n<a data-trknavattr=\"navigation:more:Sohn Conference:101\" href=\"//www.cnbc.com/sohn/\">\\n\\t\\t\\tSohn Conference\\n\\t\\t\\t\\t\\t</a>\\n</li>\\n</ul>,\n",
       " <ul class=\"more-follow-cnbc more\"><li class=\"header\"><span>Follow CNBC</span></li><li class=\"sub-nav-menu\"><ul class=\"more\"> <li class=\" social \">\\n<a data-trknavattr=\"navigation:more::101\" href=\"https://www.facebook.com/cnbc\">\\n<i class=\"webresource fa fa-facebook\"></i>\\n</a>\\n</li>\\n<li class=\" social \">\\n<a data-trknavattr=\"navigation:more::101\" href=\"https://twitter.com/cnbc\">\\n<i class=\"webresource fa fa-twitter\"></i>\\n</a>\\n</li>\\n</ul></li></ul>,\n",
       " <ul class=\"more\"> <li class=\" social \">\\n<a data-trknavattr=\"navigation:more::101\" href=\"https://www.facebook.com/cnbc\">\\n<i class=\"webresource fa fa-facebook\"></i>\\n</a>\\n</li>\\n<li class=\" social \">\\n<a data-trknavattr=\"navigation:more::101\" href=\"https://twitter.com/cnbc\">\\n<i class=\"webresource fa fa-twitter\"></i>\\n</a>\\n</li>\\n</ul>,\n",
       " <ul class=\"more-internationalization more\"><li class=\"site-set sub-nav-menu\"><ul class=\" more home-geo-container\"><li class=\"header\">EDITION</li></ul></li></ul>,\n",
       " <ul class=\" more home-geo-container\"><li class=\"header\">EDITION</li></ul>,\n",
       " <ul class=\"more-go-up more\"><li class=\"go-up sub-nav-menu\"><a href=\"javascript:void(0)\"><i class=\"fa fa-chevron-circle-up fa-3\"></i></a></li></ul>,\n",
       " <ul class=\"log-info\" id=\"unreg-user\"><li class=\"iconContainer login expandable\"><a class=\"singleton\" href=\"javascript:void(0)\"><i class=\"fa fa-user fa-2\"></i></a><ul><li class=\"cnbcRegister\"><a href=\"javascript:void(0);\">Register</a></li><li><a href=\"javascript:void(0);\" id=\"signin\">Log In</a></li></ul></li></ul>,\n",
       " <ul><li class=\"cnbcRegister\"><a href=\"javascript:void(0);\">Register</a></li><li><a href=\"javascript:void(0);\" id=\"signin\">Log In</a></li></ul>,\n",
       " <ul class=\"log-info hide\" id=\"reg-user\"><li class=\"iconContainer login expandable\"><a class=\"singleton\" href=\"javascript:void(0)\"><i class=\"fa fa-user fa-2\"></i></a><ul class=\"registered\"><li><a href=\"//www.cnbc.com/account#profile\">Profile</a></li><li><a href=\"//www.cnbc.com/account#newsletter\">Email Preferences</a></li><li class=\"link-pro-user\"><a href=\"//www.cnbc.com/account#pro\">PRO</a></li><li><a href=\"javascript:void(0);\" id=\"signout\">Sign Out</a></li></ul></li></ul>,\n",
       " <ul class=\"registered\"><li><a href=\"//www.cnbc.com/account#profile\">Profile</a></li><li><a href=\"//www.cnbc.com/account#newsletter\">Email Preferences</a></li><li class=\"link-pro-user\"><a href=\"//www.cnbc.com/account#pro\">PRO</a></li><li><a href=\"javascript:void(0);\" id=\"signout\">Sign Out</a></li></ul>,\n",
       " <ul class=\"log-info\"><li class=\"pro\"><a class=\"expandable\" data-onclick=\"#\" data-trknavattr=\"navigation:pro:pro:101\" href=\"//www.cnbc.com/pro\">Pro</a><ul><li class=\"viewall\"><a data-trknavattr=\"navigation:pro:viewall:101\" href=\"/pro\">View All</a></li><li class=\"pro_franchise\"><a data-trknavattr=\"navigation:pro:pro_franchise:101\" href=\"/pro-story\">News &amp; Analysis</a></li><li class=\"provideo\"><a data-trknavattr=\"navigation:pro:provideo:101\" href=\"/pro-video\">Video</a></li><li class=\"protalks\"><a data-trknavattr=\"navigation:pro:protalks:101\" href=\"/protalks\">PRO Talks</a></li><li class=\"prouncut\"><a data-trknavattr=\"navigation:pro:prouncut:101\" href=\"/pro-uncut\">PRO Uncut</a></li><li class=\"kensho\"><a data-trknavattr=\"navigation:pro:kensho:101\" href=\"/kensho\">Kensho Stats</a></li><li class=\"take_tour\"><a href=\"javascript:void(0)\" id=\"pro-tour\">Take a Tour</a></li><li class=\"subscribe2\"><a data-trknavattr=\"navigation:pro:subscribe2:101\" href=\"/application/pro\">Subscribe</a></li></ul></li><li class=\"livetv\"><a class=\"expandable\" data-onclick=\"#\" data-trknavattr=\"navigation:livetv:livetv:101\" href=\"javascript:void(0)\">LIVE TV</a><ul><li class=\"watch-cnbc-tv\"><a data-trknavattr=\"navigation:livetv:watch-cnbc-tv:101\" href=\"http://www.cnbc.com/live-tv/\">Watch CNBC TV</a></li><li class=\"watch-cnbc-pro\"><a data-trknavattr=\"navigation:livetv:watch-cnbc-pro:101\" href=\"//www.cnbc.com/application/pro\">Watch CNBC Pro</a></li></ul></li><li class=\"watchlist\"><a class=\"singleton\" data-trknavattr=\"navigation:watchlist:watchlist:101\" href=\"//watchlist.cnbc.com/\">Watchlist</a></li></ul>,\n",
       " <ul><li class=\"viewall\"><a data-trknavattr=\"navigation:pro:viewall:101\" href=\"/pro\">View All</a></li><li class=\"pro_franchise\"><a data-trknavattr=\"navigation:pro:pro_franchise:101\" href=\"/pro-story\">News &amp; Analysis</a></li><li class=\"provideo\"><a data-trknavattr=\"navigation:pro:provideo:101\" href=\"/pro-video\">Video</a></li><li class=\"protalks\"><a data-trknavattr=\"navigation:pro:protalks:101\" href=\"/protalks\">PRO Talks</a></li><li class=\"prouncut\"><a data-trknavattr=\"navigation:pro:prouncut:101\" href=\"/pro-uncut\">PRO Uncut</a></li><li class=\"kensho\"><a data-trknavattr=\"navigation:pro:kensho:101\" href=\"/kensho\">Kensho Stats</a></li><li class=\"take_tour\"><a href=\"javascript:void(0)\" id=\"pro-tour\">Take a Tour</a></li><li class=\"subscribe2\"><a data-trknavattr=\"navigation:pro:subscribe2:101\" href=\"/application/pro\">Subscribe</a></li></ul>,\n",
       " <ul><li class=\"watch-cnbc-tv\"><a data-trknavattr=\"navigation:livetv:watch-cnbc-tv:101\" href=\"http://www.cnbc.com/live-tv/\">Watch CNBC TV</a></li><li class=\"watch-cnbc-pro\"><a data-trknavattr=\"navigation:livetv:watch-cnbc-pro:101\" href=\"//www.cnbc.com/application/pro\">Watch CNBC Pro</a></li></ul>,\n",
       " <ul class=\"quote-custom-tabs\" override=\"\">\\n<li tab=\"summary\"><a href=\"\">summary</a></li>\\n<li tab=\"news\"><a href=\"\">news</a></li>\\n<li tab=\"profile\"><a href=\"\">profile</a></li>\\n<li default=\"earnings_history\" tab=\"earnings\"><a href=\"\">earnings</a></li>\\n<li default=\"industry\" tab=\"peers\"><a href=\"\">peers</a></li>\\n<li default=\"balance_sheet\" tab=\"financials\"><a href=\"\">financials</a></li>\\n<li tab=\"options\"><a href=\"\">options</a></li>\\n<li default=\"holdings_summary\" tab=\"ownership\"><a href=\"\">ownership</a></li>\\n</ul>,\n",
       " <ul asset-number=\"5\" asset-types=\"*pressrelease\" logic=\"0\" quote-asset-list=\"\" sort-type=\"pub_date\" sources=\"CNBC.com\" style=\"display:none\">\\n<li ng-repeat=\"asset in linkedBucket[2].assets\">\\n<div class=\"assets\" test=\"{{$index}}\">\\n<div class=\"headline\">\\n<a href=\"{{asset.href}}\" target=\"{{asset.blank?'_blank':'_parent'}}\">\\n<span ng-bind=\"asset.headline\"></span>\\n<span class=\"cnbc-font-icon\" ng-class=\"asset.is_video?'icon-cnbc-video':''\"></span>\\n<span class=\"cnbc-font-icon\" ng-class=\"asset.is_premium?'icon-cnbc-pro':''\"></span>\\n</a>\\n<span class=\"note\" ng-bind=\"(asset.pub_date | assetDateFilter) + (asset.source | assetSourceFilter)\"></span>\\n</div>\\n</div>\\n</li>\\n</ul>,\n",
       " <ul asset-number=\"5\" asset-types=\"*pressrelease\" logic=\"0\" partner=\"1\" partner_sources=\"*Seeking_Alpha_-_Transcript\" quote-asset-list=\"\" sort-type=\"pub_date\" sources=\"*CNBC.com\" style=\"display:none\">\\n<li ng-repeat=\"asset in linkedBucket[3].assets\">\\n<div class=\"assets\" test=\"{{$index}}\">\\n<div class=\"headline\">\\n<a href=\"{{asset.href}}\" target=\"{{asset.blank?'_blank':'_parent'}}\">\\n<span ng-bind=\"asset.headline\"></span>\\n<span class=\"cnbc-font-icon\" ng-class=\"asset.is_video?'icon-cnbc-video':''\"></span>\\n<span class=\"cnbc-font-icon\" ng-class=\"asset.is_premium?'icon-cnbc-pro':''\"></span>\\n</a>\\n<span class=\"note\" ng-bind=\"(asset.pub_date | assetDateFilter) + (asset.source | assetSourceFilter)\"></span>\\n</div>\\n</div>\\n</li>\\n</ul>,\n",
       " <ul asset-number=\"10\" asset-types=\"*pressrelease\" logic=\"0\" quote-asset-list=\"\" sort-type=\"pub_date\" sources=\"CNBC.com\" style=\"display:none\">\\n<li ng-repeat=\"asset in linkedBucket[4].assets\">\\n<div class=\"assets\" test=\"{{$index}}\">\\n<div class=\"headline\">\\n<a href=\"{{asset.href}}\" target=\"{{asset.blank?'_blank':'_parent'}}\">\\n<span ng-bind=\"asset.headline\"></span>\\n<span class=\"cnbc-font-icon\" ng-class=\"asset.is_video?'icon-cnbc-video':''\"></span>\\n<span class=\"cnbc-font-icon\" ng-class=\"asset.is_premium?'icon-cnbc-pro':''\"></span>\\n</a>\\n<span class=\"note\" ng-bind=\"(asset.pub_date | assetDateFilter) + (asset.source | assetSourceFilter)\"></span>\\n</div>\\n</div>\\n</li>\\n</ul>,\n",
       " <ul asset-number=\"10\" asset-types=\"*pressrelease\" logic=\"0\" partner=\"1\" partner_sources=\"*Seeking_Alpha_-_Transcript\" quote-asset-list=\"\" sort-type=\"pub_date\" sources=\"*CNBC.com\" style=\"display:none\">\\n<li ng-repeat=\"asset in linkedBucket[5].assets\">\\n<div class=\"assets\" test=\"{{$index}}\">\\n<div class=\"headline\">\\n<a href=\"{{asset.href}}\" target=\"{{asset.blank?'_blank':'_parent'}}\">\\n<span ng-bind=\"asset.headline\"></span>\\n<span class=\"cnbc-font-icon\" ng-class=\"asset.is_video?'icon-cnbc-video':''\"></span>\\n<span class=\"cnbc-font-icon\" ng-class=\"asset.is_premium?'icon-cnbc-pro':''\"></span>\\n</a>\\n<span class=\"note\" ng-bind=\"(asset.pub_date | assetDateFilter) + (asset.source | assetSourceFilter)\"></span>\\n</div>\\n</div>\\n</li>\\n</ul>,\n",
       " <ul ng-hide=\"linkedBucket[5].assets.length&gt;0\">\\n<li>\\n<div class=\"assets\">\\n<a href=\"https://seekingalpha.com/article/4081035-skyworks-overvalued?source=cnbc\">\\n<span>Is Skyworks Overvalued?</span>\\n</a>\\n<span class=\"note\">13 Jun 2017 - Seeking Alpha - Article</span>\\n</div>\\n</li>\\n<li>\\n<div class=\"assets\">\\n<a href=\"http://realmoney.thestreet.com/articles/06/09/2017/15-tech-stocks-vulnerable-pullback-part-1?puc=CNBC&amp;cm_ven=CNBC\">\\n<span>15 Tech Stocks Vulnerable to a Pullback (Part 1)</span>\\n</a>\\n<span class=\"note\">10 Jun 2017 - The Street</span>\\n</div>\\n</li>\\n<li>\\n<div class=\"assets\">\\n<a href=\"https://seekingalpha.com/article/4079708-skyworks-solutions-swks-presents-bofa-merrill-lynch-2017-global-technology-conference?source=cnbc\">\\n<span>Skyworks Solutions (SWKS) Presents at BofA Merrill Lynch 2017 Global Technology Conference - Slideshow</span>\\n</a>\\n<span class=\"note\">07 Jun 2017 - Seeking Alpha - Article</span>\\n</div>\\n</li>\\n<li>\\n<div class=\"assets\">\\n<a href=\"https://seekingalpha.com/article/4078660-millennial-accord-marketplace-launch?source=cnbc\">\\n<span>The Millennial Accord Marketplace Launch</span>\\n</a>\\n<span class=\"note\">05 Jun 2017 - Seeking Alpha - Article</span>\\n</div>\\n</li>\\n<li>\\n<div class=\"assets\">\\n<a href=\"https://seekingalpha.com/article/4078295-great-may-chip-stocks?source=cnbc\">\\n<span>It Was A Great May For Chip Stocks</span>\\n</a>\\n<span class=\"note\">02 Jun 2017 - Seeking Alpha - Article</span>\\n</div>\\n</li>\\n<li>\\n<div class=\"assets\">\\n<a href=\"https://www.thestreet.com/story/14152778/1/6-reasonably-priced-tech-stocks-that-are-worth-a-look.html?puc=CNBC&amp;cm_ven=CNBC\">\\n<span>Even With the Nasdaq Ripping Past 6,000, These 6 Tech Stocks Could Still Soar</span>\\n</a>\\n<span class=\"note\">31 May 2017 - The Street</span>\\n</div>\\n</li>\\n<li>\\n<div class=\"assets\">\\n<a href=\"https://seekingalpha.com/article/4077183-qorvo-remains-top-semiconductor-pick?source=cnbc\">\\n<span>Here's Why Qorvo Remains A Top Semiconductor Pick</span>\\n</a>\\n<span class=\"note\">29 May 2017 - Seeking Alpha - Article</span>\\n</div>\\n</li>\\n<li>\\n<div class=\"assets\">\\n<a href=\"http://realmoney.thestreet.com/articles/05/26/2017/6-reasonably-priced-tech-stocks-are-worth-look?puc=CNBC&amp;cm_ven=CNBC\">\\n<span>6 Reasonably Priced Tech Stocks That Are Worth a Look</span>\\n</a>\\n<span class=\"note\">29 May 2017 - The Street</span>\\n</div>\\n</li>\\n<li>\\n<div class=\"assets\">\\n<a href=\"https://seekingalpha.com/article/4076012-economy-strong-weak-cramers-mad-money-5-23-17?source=cnbc\">\\n<span>Is The Economy Strong Or Weak? - Cramer's Mad Money (5/23/17)</span>\\n</a>\\n<span class=\"note\">24 May 2017 - Seeking Alpha - Article</span>\\n</div>\\n</li>\\n<li>\\n<div class=\"assets\">\\n<a href=\"https://seekingalpha.com/article/4076023-southwest-airlines-best-buyback-s-and-p-500?source=cnbc\">\\n<span>Southwest Airlines: The Best Buyback In The S&amp;P; 500</span>\\n</a>\\n<span class=\"note\">24 May 2017 - Seeking Alpha - Article</span>\\n</div>\\n</li>\\n</ul>,\n",
       " <ul>\\n<li sub=\"balance_sheet\">\\n                                            balance_sheet\\n                                        </li>\\n<li sub=\"income_statement\">\\n                                            income_statement\\n                                        </li>\\n<li sub=\"cash_flow\">\\n                                            cash_flow\\n                                        </li>\\n<li sub=\"sec_fillings\" uid=\"stocks/sec\">\\n                                            sec_fillings\\n                                        </li>\\n</ul>,\n",
       " <ul>\\n<li sub=\"earnings_history\">\\n                                            earnings_history\\n                                        </li>\\n<li sub=\"consensus_recommendations\">\\n                                            consensus_recommendations\\n                                        </li>\\n<li sub=\"peer_earnings\" uid=\"stocks/stockvsPeers\">\\n                                            peer_earnings\\n                                        </li>\\n</ul>,\n",
       " <ul asset-number=\"10\" asset-types=\"pressrelease\" logic=\"0\" partner=\"1\" quote-asset-list=\"\" sort-type=\"pub_date\" style=\"display:none\">\\n<li ng-repeat=\"asset in linkedBucket[13].assets\">\\n<div class=\"assets\" test=\"{{$index}}\">\\n<div class=\"headline\">\\n<a href=\"{{asset.href}}\" target=\"{{asset.blank?'_blank':'_parent'}}\">\\n<span ng-bind=\"asset.headline\"></span>\\n<span class=\"cnbc-font-icon\" ng-class=\"asset.is_video?'icon-cnbc-video':''\"></span>\\n<span class=\"cnbc-font-icon\" ng-class=\"asset.is_premium?'icon-cnbc-pro':''\"></span>\\n</a>\\n<span class=\"note\" ng-bind=\"(asset.pub_date | assetDateFilter) + (asset.source | assetSourceFilter)\"></span>\\n</div>\\n</div>\\n</li>\\n</ul>,\n",
       " <ul>\\n<li sub=\"industry\">\\n                                            industry\\n                                        </li>\\n<li sub=\"key_measures\">\\n                                            key_measures\\n                                        </li>\\n<li sub=\"earnings\">\\n                                            earnings\\n                                        </li>\\n</ul>,\n",
       " <ul>\\n<li sub=\"holdings_summary\">\\n                                            holdings_summary\\n                                        </li>\\n<li sub=\"insider_holdings\" uid=\"stocks/insiders\">\\n                                            insider_holdings\\n                                        </li>\\n<li sub=\"insider_trends\" uid=\"stocks/insiderTrends\">\\n                                            insider_trends\\n                                        </li>\\n</ul>,\n",
       " <ul class=\"quote_video_list\">\\n<li ng-repeat=\"asset in linkedVideo.assets\">\\n<div class=\"quote_player\">\\n<iframe allowfullscreen=\"\" allowtransparency=\"true\" class=\"player\" data-src=\"{{asset.href}}\" frameborder=\"0\" height=\"243px\" mozallowfullscreen=\"\" msallowfullscreen=\"\" oallowfullscreen=\"\" scrolling=\"none\" src=\"\" webkitallowfullscreen=\"\" width=\"485px\">\\n</iframe>\\n</div>\\n</li>\\n</ul>,\n",
       " <ul><li><div id=\"oba-link-container\" style=\"display:inline;\"></div></li></ul>]"
      ]
     },
     "execution_count": 63,
=======
       "[]"
      ]
     },
     "execution_count": 58,
>>>>>>> 46ab412b2699e7024a83d1b54d782b9162a00b50
     "metadata": {},
     "output_type": "execute_result"
    }
   ],
   "source": [
    "further"
   ]
  },
  {
   "cell_type": "code",
<<<<<<< HEAD
   "execution_count": 64,
   "metadata": {
    "collapsed": false
   },
   "outputs": [],
   "source": [
    "s = \"this man left the store.\""
   ]
  },
  {
   "cell_type": "code",
   "execution_count": 65,
=======
   "execution_count": 54,
>>>>>>> 46ab412b2699e7024a83d1b54d782b9162a00b50
   "metadata": {
    "collapsed": false
   },
   "outputs": [
    {
<<<<<<< HEAD
     "data": {
      "text/plain": [
       "['t',\n",
       " 'h',\n",
       " 'i',\n",
       " 's',\n",
       " ' ',\n",
       " 'm',\n",
       " 'a',\n",
       " 'n',\n",
       " ' ',\n",
       " 'l',\n",
       " 'e',\n",
       " 'f',\n",
       " 't',\n",
       " ' ',\n",
       " 't',\n",
       " 'h',\n",
       " 'e',\n",
       " ' ',\n",
       " 's',\n",
       " 't',\n",
       " 'o',\n",
       " 'r',\n",
       " 'e',\n",
       " '.']"
      ]
     },
     "execution_count": 65,
     "metadata": {},
     "output_type": "execute_result"
    }
   ],
   "source": [
    "filter(list(s)"
   ]
  },
  {
   "cell_type": "code",
   "execution_count": null,
   "metadata": {
    "collapsed": false
   },
   "outputs": [],
=======
     "ename": "NameError",
     "evalue": "name 'text' is not defined",
     "output_type": "error",
     "traceback": [
      "\u001b[0;31m---------------------------------------------------------------------------\u001b[0m",
      "\u001b[0;31mNameError\u001b[0m                                 Traceback (most recent call last)",
      "\u001b[0;32m<ipython-input-54-acc50e208dc3>\u001b[0m in \u001b[0;36m<module>\u001b[0;34m()\u001b[0m\n\u001b[0;32m----> 1\u001b[0;31m \u001b[0mtext\u001b[0m\u001b[0;34m(\u001b[0m\u001b[0ma\u001b[0m\u001b[0;34m)\u001b[0m\u001b[0;34m\u001b[0m\u001b[0m\n\u001b[0m",
      "\u001b[0;31mNameError\u001b[0m: name 'text' is not defined"
     ]
    }
   ],
>>>>>>> 46ab412b2699e7024a83d1b54d782b9162a00b50
   "source": []
  },
  {
   "cell_type": "code",
   "execution_count": null,
   "metadata": {
    "collapsed": true
   },
   "outputs": [],
   "source": []
  },
  {
   "cell_type": "code",
   "execution_count": null,
   "metadata": {
    "collapsed": true
   },
   "outputs": [],
   "source": []
  },
  {
   "cell_type": "code",
   "execution_count": null,
   "metadata": {
    "collapsed": true
   },
   "outputs": [],
   "source": []
  },
  {
   "cell_type": "code",
   "execution_count": null,
   "metadata": {
    "collapsed": true
   },
   "outputs": [],
   "source": []
  },
  {
   "cell_type": "code",
   "execution_count": null,
   "metadata": {
    "collapsed": true
   },
   "outputs": [],
   "source": []
  }
 ],
 "metadata": {
  "anaconda-cloud": {},
  "kernelspec": {
   "display_name": "Python [conda root]",
   "language": "python",
   "name": "conda-root-py"
  },
  "language_info": {
   "codemirror_mode": {
    "name": "ipython",
    "version": 2
   },
   "file_extension": ".py",
   "mimetype": "text/x-python",
   "name": "python",
   "nbconvert_exporter": "python",
   "pygments_lexer": "ipython2",
   "version": "2.7.12"
  }
 },
 "nbformat": 4,
 "nbformat_minor": 2
}
