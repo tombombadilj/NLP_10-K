{
 "cells": [
  {
   "cell_type": "code",
   "execution_count": 1,
   "metadata": {
    "collapsed": true
   },
   "outputs": [],
   "source": [
    "import spacy\n",
    "import pandas as pd\n",
    "import itertools as it\n",
    "import regex as re\n",
    "import datetime\n",
    "from gensim.models import Phrases\n",
    "from gensim.models.word2vec import LineSentence\n",
    "import os"
   ]
  },
  {
   "cell_type": "code",
   "execution_count": 2,
   "metadata": {
    "collapsed": true
   },
   "outputs": [],
   "source": [
    "merged = pd.read_csv(\"merged_2008_qtr1.csv\")"
   ]
  },
  {
   "cell_type": "code",
   "execution_count": 3,
   "metadata": {
    "collapsed": true
   },
   "outputs": [],
   "source": [
    "survived = pd.read_csv(\"survived_2008_qtr1.csv\")"
   ]
  },
  {
   "cell_type": "code",
   "execution_count": 4,
   "metadata": {
    "collapsed": true
   },
   "outputs": [],
   "source": [
    "merged[\"label\"] = 1"
   ]
  },
  {
   "cell_type": "code",
   "execution_count": 5,
   "metadata": {
    "collapsed": true
   },
   "outputs": [],
   "source": [
    "survived[\"label\"] = 0"
   ]
  },
  {
   "cell_type": "code",
   "execution_count": 6,
   "metadata": {
    "collapsed": false
   },
   "outputs": [
    {
     "data": {
      "text/html": [
       "<div>\n",
       "<style>\n",
       "    .dataframe thead tr:only-child th {\n",
       "        text-align: right;\n",
       "    }\n",
       "\n",
       "    .dataframe thead th {\n",
       "        text-align: left;\n",
       "    }\n",
       "\n",
       "    .dataframe tbody tr th {\n",
       "        vertical-align: top;\n",
       "    }\n",
       "</style>\n",
       "<table border=\"1\" class=\"dataframe\">\n",
       "  <thead>\n",
       "    <tr style=\"text-align: right;\">\n",
       "      <th></th>\n",
       "      <th>CIK</th>\n",
       "      <th>full_text</th>\n",
       "      <th>year</th>\n",
       "      <th>quarter</th>\n",
       "      <th>report_type</th>\n",
       "      <th>Company</th>\n",
       "      <th>Name</th>\n",
       "      <th>CIK #</th>\n",
       "      <th>label</th>\n",
       "    </tr>\n",
       "  </thead>\n",
       "  <tbody>\n",
       "    <tr>\n",
       "      <th>0</th>\n",
       "      <td>25191</td>\n",
       "      <td>\\n10-K\\n1\\na2182824z10-k.htm\\n10-K\\n\\n\\n\\n\\n\\n...</td>\n",
       "      <td>2008</td>\n",
       "      <td>1</td>\n",
       "      <td>10-K</td>\n",
       "      <td>CFC</td>\n",
       "      <td>CountryWide</td>\n",
       "      <td>25191</td>\n",
       "      <td>1</td>\n",
       "    </tr>\n",
       "    <tr>\n",
       "      <th>1</th>\n",
       "      <td>806085</td>\n",
       "      <td>\\n10-K\\n1\\na08-3530_110k.htm\\n10-K\\n\\n\\n\\n\\n\\n...</td>\n",
       "      <td>2008</td>\n",
       "      <td>1</td>\n",
       "      <td>10-K</td>\n",
       "      <td>LEH</td>\n",
       "      <td>Lehman Brothers</td>\n",
       "      <td>806085</td>\n",
       "      <td>1</td>\n",
       "    </tr>\n",
       "    <tr>\n",
       "      <th>2</th>\n",
       "      <td>36995</td>\n",
       "      <td>\\n10-K\\n1\\ng11813e10vk.htm\\nWACHOVIA CORPORATI...</td>\n",
       "      <td>2008</td>\n",
       "      <td>1</td>\n",
       "      <td>10-K</td>\n",
       "      <td>WB</td>\n",
       "      <td>Wacovia</td>\n",
       "      <td>36995</td>\n",
       "      <td>1</td>\n",
       "    </tr>\n",
       "    <tr>\n",
       "      <th>3</th>\n",
       "      <td>777001</td>\n",
       "      <td>\\n10-K\\n1\\nbe11750956-10k.txt\\nANNUAL REPORT\\n...</td>\n",
       "      <td>2008</td>\n",
       "      <td>1</td>\n",
       "      <td>10-K</td>\n",
       "      <td>BSC</td>\n",
       "      <td>Bear Stearns</td>\n",
       "      <td>777001</td>\n",
       "      <td>1</td>\n",
       "    </tr>\n",
       "    <tr>\n",
       "      <th>4</th>\n",
       "      <td>65100</td>\n",
       "      <td>\\n10-K\\n1\\ny46644e10vk.htm\\nFORM 10-K\\n\\n\\n\\n1...</td>\n",
       "      <td>2008</td>\n",
       "      <td>1</td>\n",
       "      <td>10-K</td>\n",
       "      <td>MER</td>\n",
       "      <td>Merill Lynch</td>\n",
       "      <td>65100</td>\n",
       "      <td>1</td>\n",
       "    </tr>\n",
       "  </tbody>\n",
       "</table>\n",
       "</div>"
      ],
      "text/plain": [
       "      CIK                                          full_text  year  quarter  \\\n",
       "0   25191  \\n10-K\\n1\\na2182824z10-k.htm\\n10-K\\n\\n\\n\\n\\n\\n...  2008        1   \n",
       "1  806085  \\n10-K\\n1\\na08-3530_110k.htm\\n10-K\\n\\n\\n\\n\\n\\n...  2008        1   \n",
       "2   36995  \\n10-K\\n1\\ng11813e10vk.htm\\nWACHOVIA CORPORATI...  2008        1   \n",
       "3  777001  \\n10-K\\n1\\nbe11750956-10k.txt\\nANNUAL REPORT\\n...  2008        1   \n",
       "4   65100  \\n10-K\\n1\\ny46644e10vk.htm\\nFORM 10-K\\n\\n\\n\\n1...  2008        1   \n",
       "\n",
       "  report_type Company             Name   CIK #  label  \n",
       "0        10-K     CFC      CountryWide   25191      1  \n",
       "1        10-K     LEH  Lehman Brothers  806085      1  \n",
       "2        10-K      WB          Wacovia   36995      1  \n",
       "3        10-K     BSC     Bear Stearns  777001      1  \n",
       "4        10-K     MER     Merill Lynch   65100      1  "
      ]
     },
     "execution_count": 6,
     "metadata": {},
     "output_type": "execute_result"
    }
   ],
   "source": [
    "merged"
   ]
  },
  {
   "cell_type": "code",
   "execution_count": 7,
   "metadata": {
    "collapsed": false
   },
   "outputs": [
    {
     "data": {
      "text/html": [
       "<div>\n",
       "<style>\n",
       "    .dataframe thead tr:only-child th {\n",
       "        text-align: right;\n",
       "    }\n",
       "\n",
       "    .dataframe thead th {\n",
       "        text-align: left;\n",
       "    }\n",
       "\n",
       "    .dataframe tbody tr th {\n",
       "        vertical-align: top;\n",
       "    }\n",
       "</style>\n",
       "<table border=\"1\" class=\"dataframe\">\n",
       "  <thead>\n",
       "    <tr style=\"text-align: right;\">\n",
       "      <th></th>\n",
       "      <th>CIK</th>\n",
       "      <th>full_text</th>\n",
       "      <th>year</th>\n",
       "      <th>quarter</th>\n",
       "      <th>report_type</th>\n",
       "      <th>Company</th>\n",
       "      <th>Name</th>\n",
       "      <th>CIK #</th>\n",
       "      <th>label</th>\n",
       "    </tr>\n",
       "  </thead>\n",
       "  <tbody>\n",
       "    <tr>\n",
       "      <th>0</th>\n",
       "      <td>70858</td>\n",
       "      <td>\\n10-K\\n1\\nd10k.htm\\nFORM 10-K\\n\\n\\nForm 10-K\\...</td>\n",
       "      <td>2008</td>\n",
       "      <td>1</td>\n",
       "      <td>10-K</td>\n",
       "      <td>BAC</td>\n",
       "      <td>Bank of America</td>\n",
       "      <td>70858</td>\n",
       "      <td>0</td>\n",
       "    </tr>\n",
       "    <tr>\n",
       "      <th>1</th>\n",
       "      <td>19617</td>\n",
       "      <td>\\n10-K\\n1\\nd10k.htm\\nFORM 10-K\\n\\n\\nForm 10-K\\...</td>\n",
       "      <td>2008</td>\n",
       "      <td>1</td>\n",
       "      <td>10-K</td>\n",
       "      <td>JPM</td>\n",
       "      <td>J P Morgan Chase &amp; Co.</td>\n",
       "      <td>19617</td>\n",
       "      <td>0</td>\n",
       "    </tr>\n",
       "    <tr>\n",
       "      <th>2</th>\n",
       "      <td>72971</td>\n",
       "      <td>\\n10-K\\n1\\nf38267e10vk.htm\\nFORM 10-K\\n\\n\\n\\ne...</td>\n",
       "      <td>2008</td>\n",
       "      <td>1</td>\n",
       "      <td>10-K</td>\n",
       "      <td>WFC</td>\n",
       "      <td>Wells Fargo</td>\n",
       "      <td>72971</td>\n",
       "      <td>0</td>\n",
       "    </tr>\n",
       "    <tr>\n",
       "      <th>3</th>\n",
       "      <td>5272</td>\n",
       "      <td>\\n10-K\\n1\\ny44393e10vk.htm\\nFORM 10-K\\n\\n\\n\\nF...</td>\n",
       "      <td>2008</td>\n",
       "      <td>1</td>\n",
       "      <td>10-K</td>\n",
       "      <td>AIG</td>\n",
       "      <td>American International Group</td>\n",
       "      <td>5272</td>\n",
       "      <td>0</td>\n",
       "    </tr>\n",
       "    <tr>\n",
       "      <th>4</th>\n",
       "      <td>831001</td>\n",
       "      <td>\\n10-K\\n1\\nd10k.htm\\nFORM 10-K\\n\\n\\nForm 10-K\\...</td>\n",
       "      <td>2008</td>\n",
       "      <td>1</td>\n",
       "      <td>10-K</td>\n",
       "      <td>C</td>\n",
       "      <td>Citi</td>\n",
       "      <td>831001</td>\n",
       "      <td>0</td>\n",
       "    </tr>\n",
       "  </tbody>\n",
       "</table>\n",
       "</div>"
      ],
      "text/plain": [
       "      CIK                                          full_text  year  quarter  \\\n",
       "0   70858  \\n10-K\\n1\\nd10k.htm\\nFORM 10-K\\n\\n\\nForm 10-K\\...  2008        1   \n",
       "1   19617  \\n10-K\\n1\\nd10k.htm\\nFORM 10-K\\n\\n\\nForm 10-K\\...  2008        1   \n",
       "2   72971  \\n10-K\\n1\\nf38267e10vk.htm\\nFORM 10-K\\n\\n\\n\\ne...  2008        1   \n",
       "3    5272  \\n10-K\\n1\\ny44393e10vk.htm\\nFORM 10-K\\n\\n\\n\\nF...  2008        1   \n",
       "4  831001  \\n10-K\\n1\\nd10k.htm\\nFORM 10-K\\n\\n\\nForm 10-K\\...  2008        1   \n",
       "\n",
       "  report_type Company                          Name   CIK #  label  \n",
       "0        10-K     BAC               Bank of America   70858      0  \n",
       "1        10-K     JPM        J P Morgan Chase & Co.   19617      0  \n",
       "2        10-K     WFC                   Wells Fargo   72971      0  \n",
       "3        10-K     AIG  American International Group    5272      0  \n",
       "4        10-K       C                          Citi  831001      0  "
      ]
     },
     "execution_count": 7,
     "metadata": {},
     "output_type": "execute_result"
    }
   ],
   "source": [
    "survived"
   ]
  },
  {
   "cell_type": "code",
   "execution_count": 8,
   "metadata": {
    "collapsed": true
   },
   "outputs": [],
   "source": [
    "df = merged.append(survived)"
   ]
  },
  {
   "cell_type": "code",
   "execution_count": 9,
   "metadata": {
    "collapsed": false
   },
   "outputs": [],
   "source": [
    "df.reset_index(inplace=True, drop = True)"
   ]
  },
  {
   "cell_type": "code",
   "execution_count": 10,
   "metadata": {
    "collapsed": false
   },
   "outputs": [
    {
     "data": {
      "text/html": [
       "<div>\n",
       "<style>\n",
       "    .dataframe thead tr:only-child th {\n",
       "        text-align: right;\n",
       "    }\n",
       "\n",
       "    .dataframe thead th {\n",
       "        text-align: left;\n",
       "    }\n",
       "\n",
       "    .dataframe tbody tr th {\n",
       "        vertical-align: top;\n",
       "    }\n",
       "</style>\n",
       "<table border=\"1\" class=\"dataframe\">\n",
       "  <thead>\n",
       "    <tr style=\"text-align: right;\">\n",
       "      <th></th>\n",
       "      <th>CIK</th>\n",
       "      <th>full_text</th>\n",
       "      <th>year</th>\n",
       "      <th>quarter</th>\n",
       "      <th>report_type</th>\n",
       "      <th>Company</th>\n",
       "      <th>Name</th>\n",
       "      <th>CIK #</th>\n",
       "      <th>label</th>\n",
       "    </tr>\n",
       "  </thead>\n",
       "  <tbody>\n",
       "    <tr>\n",
       "      <th>0</th>\n",
       "      <td>25191</td>\n",
       "      <td>\\n10-K\\n1\\na2182824z10-k.htm\\n10-K\\n\\n\\n\\n\\n\\n...</td>\n",
       "      <td>2008</td>\n",
       "      <td>1</td>\n",
       "      <td>10-K</td>\n",
       "      <td>CFC</td>\n",
       "      <td>CountryWide</td>\n",
       "      <td>25191</td>\n",
       "      <td>1</td>\n",
       "    </tr>\n",
       "    <tr>\n",
       "      <th>1</th>\n",
       "      <td>806085</td>\n",
       "      <td>\\n10-K\\n1\\na08-3530_110k.htm\\n10-K\\n\\n\\n\\n\\n\\n...</td>\n",
       "      <td>2008</td>\n",
       "      <td>1</td>\n",
       "      <td>10-K</td>\n",
       "      <td>LEH</td>\n",
       "      <td>Lehman Brothers</td>\n",
       "      <td>806085</td>\n",
       "      <td>1</td>\n",
       "    </tr>\n",
       "    <tr>\n",
       "      <th>2</th>\n",
       "      <td>36995</td>\n",
       "      <td>\\n10-K\\n1\\ng11813e10vk.htm\\nWACHOVIA CORPORATI...</td>\n",
       "      <td>2008</td>\n",
       "      <td>1</td>\n",
       "      <td>10-K</td>\n",
       "      <td>WB</td>\n",
       "      <td>Wacovia</td>\n",
       "      <td>36995</td>\n",
       "      <td>1</td>\n",
       "    </tr>\n",
       "  </tbody>\n",
       "</table>\n",
       "</div>"
      ],
      "text/plain": [
       "      CIK                                          full_text  year  quarter  \\\n",
       "0   25191  \\n10-K\\n1\\na2182824z10-k.htm\\n10-K\\n\\n\\n\\n\\n\\n...  2008        1   \n",
       "1  806085  \\n10-K\\n1\\na08-3530_110k.htm\\n10-K\\n\\n\\n\\n\\n\\n...  2008        1   \n",
       "2   36995  \\n10-K\\n1\\ng11813e10vk.htm\\nWACHOVIA CORPORATI...  2008        1   \n",
       "\n",
       "  report_type Company             Name   CIK #  label  \n",
       "0        10-K     CFC      CountryWide   25191      1  \n",
       "1        10-K     LEH  Lehman Brothers  806085      1  \n",
       "2        10-K      WB          Wacovia   36995      1  "
      ]
     },
     "execution_count": 10,
     "metadata": {},
     "output_type": "execute_result"
    }
   ],
   "source": [
    "df.head(3)"
   ]
  },
  {
   "cell_type": "code",
   "execution_count": 144,
   "metadata": {
    "collapsed": false
   },
   "outputs": [],
   "source": [
    "def punct_space(token):\n",
    "    return (token.is_punct or token.is_space or token.is_stop or token.is_digit)\n",
    "\n",
    "def getting_file_ready(text, process_time = True):\n",
    "    start = datetime.datetime.now()\n",
    "    unicode_text = unicode(text, encoding = \"utf-8\")\n",
    "    nospace = re.sub(\"\\n\",\" \", unicode_text)\n",
    "    new = nlp(nospace)\n",
    "    return new\n",
    "\n",
    "def lemmatized_sentence_corpus(data_file):\n",
    "    parsed_review = getting_file_ready(data_file)\n",
    "    lemmatized = list()\n",
    "    for sentence in parsed_review.sents:\n",
    "        for token in sentence:\n",
    "            if not punct_space(token):\n",
    "                lemmatized.append(token.lemma_)\n",
    "    lemmatized = filter(lambda x: not re.findall(\"htm\",x),lemmatized)\n",
    "    lemmatized = filter(lambda x: len(x)>2, lemmatized)\n",
    "    lemmatized = filter(lambda x: not re.findall(\"\\x95\", x), lemmatized)\n",
    "    lemmatized = filter(lambda x: not re.findall(\"\\x97\", x), lemmatized)\n",
    "    lemmatized = filter(lambda x: not re.findall(\"\\$\", x), lemmatized)\n",
    "    lemmatized = filter(lambda x: not re.findall(\"\\.txt\", x), lemmatized)\n",
    "    lemmatized = filter(lambda x:(x != \"filer\") and (x != \"contents\") and (x != \"table\") and (x != \"report\") and\n",
    "                        (x != \"10-k.\") and (x != \"10-k\") and (x != \"12b-2\") and (x != \"document\") and (x != \"financial\")\n",
    "                        and (x != \"united\") and (x != \"states\") and (x != \"security\") and (x != \"form\") and (x != \"exchange\")\n",
    "                        and (x != \"commission\") and (x != \"15(d \") and (x != \"a08\") and (x != \"company\") and (x != \"washington\")\n",
    "                        and  (x != \"d.c.\"), lemmatized)\n",
    "    final_text = u' '.join(lemmatized)\n",
    "    return final_text"
   ]
  },
  {
   "cell_type": "code",
   "execution_count": 145,
   "metadata": {
    "collapsed": false
   },
   "outputs": [],
   "source": [
    "df[\"full_text_unigram\"] = df[\"full_text\"].apply(lambda y: lemmatized_sentence_corpus(y))"
   ]
  },
  {
   "cell_type": "code",
   "execution_count": 146,
   "metadata": {
    "collapsed": false
   },
   "outputs": [
    {
     "data": {
      "text/html": [
       "<div>\n",
       "<style>\n",
       "    .dataframe thead tr:only-child th {\n",
       "        text-align: right;\n",
       "    }\n",
       "\n",
       "    .dataframe thead th {\n",
       "        text-align: left;\n",
       "    }\n",
       "\n",
       "    .dataframe tbody tr th {\n",
       "        vertical-align: top;\n",
       "    }\n",
       "</style>\n",
       "<table border=\"1\" class=\"dataframe\">\n",
       "  <thead>\n",
       "    <tr style=\"text-align: right;\">\n",
       "      <th></th>\n",
       "      <th>CIK</th>\n",
       "      <th>full_text</th>\n",
       "      <th>year</th>\n",
       "      <th>quarter</th>\n",
       "      <th>report_type</th>\n",
       "      <th>Company</th>\n",
       "      <th>Name</th>\n",
       "      <th>CIK #</th>\n",
       "      <th>label</th>\n",
       "      <th>full_text_unigram</th>\n",
       "    </tr>\n",
       "  </thead>\n",
       "  <tbody>\n",
       "    <tr>\n",
       "      <th>0</th>\n",
       "      <td>25191</td>\n",
       "      <td>\\n10-K\\n1\\na2182824z10-k.htm\\n10-K\\n\\n\\n\\n\\n\\n...</td>\n",
       "      <td>2008</td>\n",
       "      <td>1</td>\n",
       "      <td>10-K</td>\n",
       "      <td>CFC</td>\n",
       "      <td>CountryWide</td>\n",
       "      <td>25191</td>\n",
       "      <td>1</td>\n",
       "      <td>use link rapidly review countrywide corporatio...</td>\n",
       "    </tr>\n",
       "    <tr>\n",
       "      <th>1</th>\n",
       "      <td>806085</td>\n",
       "      <td>\\n10-K\\n1\\na08-3530_110k.htm\\n10-K\\n\\n\\n\\n\\n\\n...</td>\n",
       "      <td>2008</td>\n",
       "      <td>1</td>\n",
       "      <td>10-K</td>\n",
       "      <td>LEH</td>\n",
       "      <td>Lehman Brothers</td>\n",
       "      <td>806085</td>\n",
       "      <td>1</td>\n",
       "      <td>securities mark annual pursuant section 15(d s...</td>\n",
       "    </tr>\n",
       "    <tr>\n",
       "      <th>2</th>\n",
       "      <td>36995</td>\n",
       "      <td>\\n10-K\\n1\\ng11813e10vk.htm\\nWACHOVIA CORPORATI...</td>\n",
       "      <td>2008</td>\n",
       "      <td>1</td>\n",
       "      <td>10-K</td>\n",
       "      <td>WB</td>\n",
       "      <td>Wacovia</td>\n",
       "      <td>36995</td>\n",
       "      <td>1</td>\n",
       "      <td>wachovia corporation wachovia corporation secu...</td>\n",
       "    </tr>\n",
       "    <tr>\n",
       "      <th>3</th>\n",
       "      <td>777001</td>\n",
       "      <td>\\n10-K\\n1\\nbe11750956-10k.txt\\nANNUAL REPORT\\n...</td>\n",
       "      <td>2008</td>\n",
       "      <td>1</td>\n",
       "      <td>10-K</td>\n",
       "      <td>BSC</td>\n",
       "      <td>Bear Stearns</td>\n",
       "      <td>777001</td>\n",
       "      <td>1</td>\n",
       "      <td>annual mark annual pursuant section 15(d secur...</td>\n",
       "    </tr>\n",
       "    <tr>\n",
       "      <th>4</th>\n",
       "      <td>65100</td>\n",
       "      <td>\\n10-K\\n1\\ny46644e10vk.htm\\nFORM 10-K\\n\\n\\n\\n1...</td>\n",
       "      <td>2008</td>\n",
       "      <td>1</td>\n",
       "      <td>10-K</td>\n",
       "      <td>MER</td>\n",
       "      <td>Merill Lynch</td>\n",
       "      <td>65100</td>\n",
       "      <td>1</td>\n",
       "      <td>annual pursuant section 15(d securities act fi...</td>\n",
       "    </tr>\n",
       "    <tr>\n",
       "      <th>5</th>\n",
       "      <td>70858</td>\n",
       "      <td>\\n10-K\\n1\\nd10k.htm\\nFORM 10-K\\n\\n\\nForm 10-K\\...</td>\n",
       "      <td>2008</td>\n",
       "      <td>1</td>\n",
       "      <td>10-K</td>\n",
       "      <td>BAC</td>\n",
       "      <td>Bank of America</td>\n",
       "      <td>70858</td>\n",
       "      <td>0</td>\n",
       "      <td>annual pursuant section 15(d securities act ma...</td>\n",
       "    </tr>\n",
       "    <tr>\n",
       "      <th>6</th>\n",
       "      <td>19617</td>\n",
       "      <td>\\n10-K\\n1\\nd10k.htm\\nFORM 10-K\\n\\n\\nForm 10-K\\...</td>\n",
       "      <td>2008</td>\n",
       "      <td>1</td>\n",
       "      <td>10-K</td>\n",
       "      <td>JPM</td>\n",
       "      <td>J P Morgan Chase &amp; Co.</td>\n",
       "      <td>19617</td>\n",
       "      <td>0</td>\n",
       "      <td>annual pursuant section 15(d securities act fi...</td>\n",
       "    </tr>\n",
       "    <tr>\n",
       "      <th>7</th>\n",
       "      <td>72971</td>\n",
       "      <td>\\n10-K\\n1\\nf38267e10vk.htm\\nFORM 10-K\\n\\n\\n\\ne...</td>\n",
       "      <td>2008</td>\n",
       "      <td>1</td>\n",
       "      <td>10-K</td>\n",
       "      <td>WFC</td>\n",
       "      <td>Wells Fargo</td>\n",
       "      <td>72971</td>\n",
       "      <td>0</td>\n",
       "      <td>e10vk securities annual pursuant section 15(d ...</td>\n",
       "    </tr>\n",
       "    <tr>\n",
       "      <th>8</th>\n",
       "      <td>5272</td>\n",
       "      <td>\\n10-K\\n1\\ny44393e10vk.htm\\nFORM 10-K\\n\\n\\n\\nF...</td>\n",
       "      <td>2008</td>\n",
       "      <td>1</td>\n",
       "      <td>10-K</td>\n",
       "      <td>AIG</td>\n",
       "      <td>American International Group</td>\n",
       "      <td>5272</td>\n",
       "      <td>0</td>\n",
       "      <td>mark annual pursuant section 15(d securities a...</td>\n",
       "    </tr>\n",
       "    <tr>\n",
       "      <th>9</th>\n",
       "      <td>831001</td>\n",
       "      <td>\\n10-K\\n1\\nd10k.htm\\nFORM 10-K\\n\\n\\nForm 10-K\\...</td>\n",
       "      <td>2008</td>\n",
       "      <td>1</td>\n",
       "      <td>10-K</td>\n",
       "      <td>C</td>\n",
       "      <td>Citi</td>\n",
       "      <td>831001</td>\n",
       "      <td>0</td>\n",
       "      <td>citigroups annual citigroup segments products...</td>\n",
       "    </tr>\n",
       "  </tbody>\n",
       "</table>\n",
       "</div>"
      ],
      "text/plain": [
       "      CIK                                          full_text  year  quarter  \\\n",
       "0   25191  \\n10-K\\n1\\na2182824z10-k.htm\\n10-K\\n\\n\\n\\n\\n\\n...  2008        1   \n",
       "1  806085  \\n10-K\\n1\\na08-3530_110k.htm\\n10-K\\n\\n\\n\\n\\n\\n...  2008        1   \n",
       "2   36995  \\n10-K\\n1\\ng11813e10vk.htm\\nWACHOVIA CORPORATI...  2008        1   \n",
       "3  777001  \\n10-K\\n1\\nbe11750956-10k.txt\\nANNUAL REPORT\\n...  2008        1   \n",
       "4   65100  \\n10-K\\n1\\ny46644e10vk.htm\\nFORM 10-K\\n\\n\\n\\n1...  2008        1   \n",
       "5   70858  \\n10-K\\n1\\nd10k.htm\\nFORM 10-K\\n\\n\\nForm 10-K\\...  2008        1   \n",
       "6   19617  \\n10-K\\n1\\nd10k.htm\\nFORM 10-K\\n\\n\\nForm 10-K\\...  2008        1   \n",
       "7   72971  \\n10-K\\n1\\nf38267e10vk.htm\\nFORM 10-K\\n\\n\\n\\ne...  2008        1   \n",
       "8    5272  \\n10-K\\n1\\ny44393e10vk.htm\\nFORM 10-K\\n\\n\\n\\nF...  2008        1   \n",
       "9  831001  \\n10-K\\n1\\nd10k.htm\\nFORM 10-K\\n\\n\\nForm 10-K\\...  2008        1   \n",
       "\n",
       "  report_type Company                          Name   CIK #  label  \\\n",
       "0        10-K     CFC                   CountryWide   25191      1   \n",
       "1        10-K     LEH               Lehman Brothers  806085      1   \n",
       "2        10-K      WB                       Wacovia   36995      1   \n",
       "3        10-K     BSC                  Bear Stearns  777001      1   \n",
       "4        10-K     MER                  Merill Lynch   65100      1   \n",
       "5        10-K     BAC               Bank of America   70858      0   \n",
       "6        10-K     JPM        J P Morgan Chase & Co.   19617      0   \n",
       "7        10-K     WFC                   Wells Fargo   72971      0   \n",
       "8        10-K     AIG  American International Group    5272      0   \n",
       "9        10-K       C                          Citi  831001      0   \n",
       "\n",
       "                                   full_text_unigram  \n",
       "0  use link rapidly review countrywide corporatio...  \n",
       "1  securities mark annual pursuant section 15(d s...  \n",
       "2  wachovia corporation wachovia corporation secu...  \n",
       "3  annual mark annual pursuant section 15(d secur...  \n",
       "4  annual pursuant section 15(d securities act fi...  \n",
       "5  annual pursuant section 15(d securities act ma...  \n",
       "6  annual pursuant section 15(d securities act fi...  \n",
       "7  e10vk securities annual pursuant section 15(d ...  \n",
       "8  mark annual pursuant section 15(d securities a...  \n",
       "9  citigroups annual citigroup segments products...  "
      ]
     },
     "execution_count": 146,
     "metadata": {},
     "output_type": "execute_result"
    }
   ],
   "source": [
    "df"
   ]
  },
  {
   "cell_type": "code",
   "execution_count": 138,
   "metadata": {
    "collapsed": false
   },
   "outputs": [],
   "source": [
    "from sklearn.feature_extraction.text import CountVectorizer\n",
    "count_vect = CountVectorizer()"
   ]
  },
  {
   "cell_type": "code",
   "execution_count": 147,
   "metadata": {
    "collapsed": false
   },
   "outputs": [
    {
     "data": {
      "text/plain": [
       "2    wachovia corporation wachovia corporation secu...\n",
       "3    annual mark annual pursuant section 15(d secur...\n",
       "4    annual pursuant section 15(d securities act fi...\n",
       "5    annual pursuant section 15(d securities act ma...\n",
       "6    annual pursuant section 15(d securities act fi...\n",
       "7    e10vk securities annual pursuant section 15(d ...\n",
       "Name: full_text_unigram, dtype: object"
      ]
     },
     "execution_count": 147,
     "metadata": {},
     "output_type": "execute_result"
    }
   ],
   "source": [
    "df.iloc[2:8,:][\"full_text_unigram\"]"
   ]
  },
  {
   "cell_type": "code",
   "execution_count": 148,
   "metadata": {
    "collapsed": true
   },
   "outputs": [],
   "source": [
    "x_train_counts = count_vect.fit_transform(df.iloc[2:8,:][\"full_text_unigram\"])"
   ]
  },
  {
   "cell_type": "code",
   "execution_count": 149,
   "metadata": {
    "collapsed": false
   },
   "outputs": [
    {
     "data": {
      "text/plain": [
       "(6, 6830)"
      ]
     },
     "execution_count": 149,
     "metadata": {},
     "output_type": "execute_result"
    }
   ],
   "source": [
    "x_train_counts.shape"
   ]
  },
  {
   "cell_type": "code",
   "execution_count": 152,
   "metadata": {
    "collapsed": false
   },
   "outputs": [
    {
     "data": {
      "text/plain": [
       "<6x6830 sparse matrix of type '<type 'numpy.int64'>'\n",
       "\twith 17863 stored elements in Compressed Sparse Row format>"
      ]
     },
     "execution_count": 152,
     "metadata": {},
     "output_type": "execute_result"
    }
   ],
   "source": [
    "x_train_counts"
   ]
  },
  {
   "cell_type": "code",
   "execution_count": 156,
   "metadata": {
    "collapsed": false
   },
   "outputs": [],
   "source": [
    "from sklearn.feature_extraction.text import TfidfTransformer"
   ]
  },
  {
   "cell_type": "code",
   "execution_count": 157,
   "metadata": {
    "collapsed": true
   },
   "outputs": [],
   "source": [
    "tfidf_transformer = TfidfTransformer()"
   ]
  },
  {
   "cell_type": "code",
   "execution_count": 158,
   "metadata": {
    "collapsed": false
   },
   "outputs": [],
   "source": [
    "x_train_tfidf = tfidf_transformer.fit_transform(x_train_counts)"
   ]
  },
  {
   "cell_type": "code",
   "execution_count": 159,
   "metadata": {
    "collapsed": false
   },
   "outputs": [
    {
     "data": {
      "text/plain": [
       "(6, 6830)"
      ]
     },
     "execution_count": 159,
     "metadata": {},
     "output_type": "execute_result"
    }
   ],
   "source": [
    "x_train_tfidf.shape"
   ]
  },
  {
   "cell_type": "code",
   "execution_count": 160,
   "metadata": {
    "collapsed": false
   },
   "outputs": [],
   "source": [
    "from sklearn.naive_bayes import MultinomialNB"
   ]
  },
  {
   "cell_type": "code",
   "execution_count": 162,
   "metadata": {
    "collapsed": false
   },
   "outputs": [],
   "source": [
    "df.target = df.iloc[2:8,:][\"label\"]"
   ]
  },
  {
   "cell_type": "code",
   "execution_count": 166,
   "metadata": {
    "collapsed": true
   },
   "outputs": [],
   "source": [
    "clf = MultinomialNB().fit(x_train_tfidf, df.target)"
   ]
  },
  {
   "cell_type": "code",
   "execution_count": 177,
   "metadata": {
    "collapsed": true
   },
   "outputs": [],
   "source": [
    "df_test = df.iloc[0:2,:][\"full_text_unigram\"]"
   ]
  },
  {
   "cell_type": "code",
   "execution_count": 180,
   "metadata": {
    "collapsed": true
   },
   "outputs": [],
   "source": [
    "df_test.target = df.iloc[0:2,:][\"label\"]"
   ]
  },
  {
   "cell_type": "code",
   "execution_count": 173,
   "metadata": {
    "collapsed": false
   },
   "outputs": [],
   "source": [
    "X_new_counts = count_vect.transform(df_test)\n",
    "X_new_tfidf = tfidf_transformer.transform(X_new_counts)"
   ]
  },
  {
   "cell_type": "code",
   "execution_count": 174,
   "metadata": {
    "collapsed": false
   },
   "outputs": [],
   "source": [
    "predicted = clf.predict(X_new_tfidf)"
   ]
  },
  {
   "cell_type": "code",
   "execution_count": 175,
   "metadata": {
    "collapsed": false
   },
   "outputs": [
    {
     "data": {
      "text/plain": [
       "array([0, 0])"
      ]
     },
     "execution_count": 175,
     "metadata": {},
     "output_type": "execute_result"
    }
   ],
   "source": [
    "predicted"
   ]
  },
  {
   "cell_type": "code",
   "execution_count": 181,
   "metadata": {
    "collapsed": false
   },
   "outputs": [
    {
     "data": {
      "text/plain": [
       "0    1\n",
       "1    1\n",
       "Name: label, dtype: int64"
      ]
     },
     "execution_count": 181,
     "metadata": {},
     "output_type": "execute_result"
    }
   ],
   "source": [
    "df_test.target"
   ]
  },
  {
   "cell_type": "code",
   "execution_count": null,
   "metadata": {
    "collapsed": true
   },
   "outputs": [],
   "source": []
  },
  {
   "cell_type": "code",
   "execution_count": null,
   "metadata": {
    "collapsed": false
   },
   "outputs": [],
   "source": []
  },
  {
   "cell_type": "code",
   "execution_count": null,
   "metadata": {
    "collapsed": false
   },
   "outputs": [],
   "source": []
  },
  {
   "cell_type": "code",
   "execution_count": null,
   "metadata": {
    "collapsed": true
   },
   "outputs": [],
   "source": []
  },
  {
   "cell_type": "code",
   "execution_count": null,
   "metadata": {
    "collapsed": true
   },
   "outputs": [],
   "source": []
  },
  {
   "cell_type": "code",
   "execution_count": null,
   "metadata": {
    "collapsed": false
   },
   "outputs": [],
   "source": []
  },
  {
   "cell_type": "code",
   "execution_count": null,
   "metadata": {
    "collapsed": false
   },
   "outputs": [],
   "source": []
  },
  {
   "cell_type": "code",
   "execution_count": null,
   "metadata": {
    "collapsed": false
   },
   "outputs": [],
   "source": []
  },
  {
   "cell_type": "code",
   "execution_count": 25,
   "metadata": {
    "collapsed": false
   },
   "outputs": [],
   "source": [
    "#a = \"Spacy is a stupid program and it is super hard to use\"\n",
    "#b = unicode(a, encoding=\"utf-8\")\n",
    "#c = nlp(b)"
   ]
  },
  {
   "cell_type": "code",
   "execution_count": 40,
   "metadata": {
    "collapsed": false
   },
   "outputs": [],
   "source": [
    "def punc_space(token):\n",
    "    return (token.is_punct or token.is_space or token.is_stop)\n",
    "\n",
    "def lemmatized_sentence_corpus(texts):\n",
    "    new_text = list()\n",
    "    for token in c:\n",
    "        if punc_space(token):\n",
    "            continue\n",
    "        else:\n",
    "            new_text.append(token.lemma_)\n",
    "    a = u\" \".join(new_text)\n",
    "    return a"
   ]
  },
  {
   "cell_type": "code",
   "execution_count": 41,
   "metadata": {
    "collapsed": false
   },
   "outputs": [],
   "source": [
    "new = lemmatized_sentence_corpus(c)"
   ]
  },
  {
   "cell_type": "code",
   "execution_count": 49,
   "metadata": {
    "collapsed": false
   },
   "outputs": [],
   "source": [
    "d = nlp(new)"
   ]
  },
  {
   "cell_type": "code",
   "execution_count": null,
   "metadata": {
    "collapsed": false
   },
   "outputs": [],
   "source": []
  },
  {
   "cell_type": "code",
   "execution_count": null,
   "metadata": {
    "collapsed": false
   },
   "outputs": [],
   "source": []
  },
  {
   "cell_type": "code",
   "execution_count": null,
   "metadata": {
    "collapsed": false
   },
   "outputs": [],
   "source": []
  },
  {
   "cell_type": "code",
   "execution_count": null,
   "metadata": {
    "collapsed": false
   },
   "outputs": [],
   "source": []
  },
  {
   "cell_type": "code",
   "execution_count": 153,
   "metadata": {
    "collapsed": false
   },
   "outputs": [],
   "source": [
    "def starts_with(token):\n",
    "    if \"$\" in token:\n",
    "        print True\n",
    "        return True\n",
    "    else: \n",
    "        print False\n",
    "        return False"
   ]
  },
  {
   "cell_type": "code",
   "execution_count": 152,
   "metadata": {
    "collapsed": false
   },
   "outputs": [],
   "source": [
    "sentence = \" I love 3 apples for $80.\"\n",
    "b = unicode(sentence, encoding = \"utf-8\")\n",
    "new = nlp(b)"
   ]
  },
  {
   "cell_type": "code",
   "execution_count": 158,
   "metadata": {
    "collapsed": false
   },
   "outputs": [
    {
     "name": "stdout",
     "output_type": "stream",
     "text": [
      "  False False\n",
      "I False True\n",
      "love False False\n",
      "3 True False\n",
      "apples False False\n",
      "for False False\n",
      "$ False False\n",
      "80 True False\n",
      ". False False\n"
     ]
    }
   ],
   "source": [
    "for token in new:\n",
    "    print token, token.is_digit, token.is_title"
   ]
  },
  {
   "cell_type": "code",
   "execution_count": null,
   "metadata": {
    "collapsed": false
   },
   "outputs": [],
   "source": []
  },
  {
   "cell_type": "code",
   "execution_count": 149,
   "metadata": {
    "collapsed": false
   },
   "outputs": [
    {
     "name": "stdout",
     "output_type": "stream",
     "text": [
      "I True\n",
      "hated False\n",
      "Austin False\n",
      "and True\n",
      "the True\n",
      "apple False\n",
      "! False\n"
     ]
    }
   ],
   "source": [
    "#used\n",
    "for token in c:\n",
    "    print token, token.is_stop\n",
    "\n",
    "for token in c:\n",
    "    print token, token.is_space\n",
    "    \n",
    "for token in c:\n",
    "    print token, token.is_punct"
   ]
  },
  {
   "cell_type": "code",
   "execution_count": 99,
   "metadata": {
    "collapsed": true
   },
   "outputs": [],
   "source": [
    "def punct_space(token):\n",
    "    \"\"\"\n",
    "    helper function to eliminate tokens\n",
    "    that are pure punctuation or whitespace\n",
    "    \"\"\"\n",
    "    return token.is_punct or token.is_space\n",
    "\n",
    "def line_review(filename):\n",
    "    \"\"\"\n",
    "    generator function to read in reviews from the file\n",
    "    and un-escape the original line breaks in the text\n",
    "    \"\"\"\n",
    "    for review in f:\n",
    "        yield review.replace('\\\\n', '\\n')\n",
    "            \n",
    "def lemmatized_sentence_corpus(filename):\n",
    "    \"\"\"\n",
    "    generator function to use spaCy to parse reviews,\n",
    "    lemmatize the text, and yield sentences\n",
    "    \"\"\"\n",
    "    for parsed_review in nlp.pipe(line_review(filename),\n",
    "                                  batch_size=10000, n_threads=4):\n",
    "        \n",
    "        for sent in parsed_review.sents:\n",
    "            yield u' '.join([token.lemma_ for token in sent\n",
    "                             if not punct_space(token)])"
   ]
  },
  {
   "cell_type": "code",
   "execution_count": 98,
   "metadata": {
    "collapsed": false
   },
   "outputs": [
    {
     "ename": "NameError",
     "evalue": "global name 'STOPLIST' is not defined",
     "output_type": "error",
     "traceback": [
      "\u001b[0;31m---------------------------------------------------------------------------\u001b[0m",
      "\u001b[0;31mNameError\u001b[0m                                 Traceback (most recent call last)",
      "\u001b[0;32m<ipython-input-98-ff4ae88dfb6d>\u001b[0m in \u001b[0;36m<module>\u001b[0;34m()\u001b[0m\n\u001b[0;32m----> 1\u001b[0;31m \u001b[0mtokenizeText\u001b[0m\u001b[0;34m(\u001b[0m\u001b[0mc\u001b[0m\u001b[0;34m)\u001b[0m\u001b[0;34m\u001b[0m\u001b[0m\n\u001b[0m",
      "\u001b[0;32m<ipython-input-97-dd6b736347cf>\u001b[0m in \u001b[0;36mtokenizeText\u001b[0;34m(sample)\u001b[0m\n\u001b[1;32m      4\u001b[0m         \u001b[0mlemmas\u001b[0m\u001b[0;34m.\u001b[0m\u001b[0mappend\u001b[0m\u001b[0;34m(\u001b[0m\u001b[0mtok\u001b[0m\u001b[0;34m.\u001b[0m\u001b[0mlemma_\u001b[0m\u001b[0;34m.\u001b[0m\u001b[0mlower\u001b[0m\u001b[0;34m(\u001b[0m\u001b[0;34m)\u001b[0m\u001b[0;34m.\u001b[0m\u001b[0mstrip\u001b[0m\u001b[0;34m(\u001b[0m\u001b[0;34m)\u001b[0m \u001b[0;32mif\u001b[0m \u001b[0mtok\u001b[0m\u001b[0;34m.\u001b[0m\u001b[0mlemma_\u001b[0m \u001b[0;34m!=\u001b[0m \u001b[0;34m\"-PRON-\"\u001b[0m \u001b[0;32melse\u001b[0m \u001b[0mtok\u001b[0m\u001b[0;34m.\u001b[0m\u001b[0mlower_\u001b[0m\u001b[0;34m)\u001b[0m\u001b[0;34m\u001b[0m\u001b[0m\n\u001b[1;32m      5\u001b[0m     \u001b[0mtokens\u001b[0m \u001b[0;34m=\u001b[0m \u001b[0mlemmas\u001b[0m\u001b[0;34m\u001b[0m\u001b[0m\n\u001b[0;32m----> 6\u001b[0;31m     \u001b[0mtokens\u001b[0m \u001b[0;34m=\u001b[0m \u001b[0;34m[\u001b[0m\u001b[0mtok\u001b[0m \u001b[0;32mfor\u001b[0m \u001b[0mtok\u001b[0m \u001b[0;32min\u001b[0m \u001b[0mtokens\u001b[0m \u001b[0;32mif\u001b[0m \u001b[0mtok\u001b[0m \u001b[0;32mnot\u001b[0m \u001b[0;32min\u001b[0m \u001b[0mSTOPLIST\u001b[0m\u001b[0;34m]\u001b[0m\u001b[0;34m\u001b[0m\u001b[0m\n\u001b[0m\u001b[1;32m      7\u001b[0m     \u001b[0mtokens\u001b[0m \u001b[0;34m=\u001b[0m \u001b[0;34m[\u001b[0m\u001b[0mtok\u001b[0m \u001b[0;32mfor\u001b[0m \u001b[0mtok\u001b[0m \u001b[0;32min\u001b[0m \u001b[0mtokens\u001b[0m \u001b[0;32mif\u001b[0m \u001b[0mtok\u001b[0m \u001b[0;32mnot\u001b[0m \u001b[0;32min\u001b[0m \u001b[0mSYMBOLS\u001b[0m\u001b[0;34m]\u001b[0m\u001b[0;34m\u001b[0m\u001b[0m\n\u001b[1;32m      8\u001b[0m     \u001b[0;32mwhile\u001b[0m \u001b[0;34m\"\"\u001b[0m \u001b[0;32min\u001b[0m \u001b[0mtokens\u001b[0m\u001b[0;34m:\u001b[0m\u001b[0;34m\u001b[0m\u001b[0m\n",
      "\u001b[0;31mNameError\u001b[0m: global name 'STOPLIST' is not defined"
     ]
    }
   ],
   "source": []
  },
  {
   "cell_type": "code",
   "execution_count": null,
   "metadata": {
    "collapsed": true
   },
   "outputs": [],
   "source": []
  },
  {
   "cell_type": "code",
   "execution_count": null,
   "metadata": {
    "collapsed": true
   },
   "outputs": [],
   "source": []
  },
  {
   "cell_type": "code",
   "execution_count": null,
   "metadata": {
    "collapsed": true
   },
   "outputs": [],
   "source": []
  },
  {
   "cell_type": "code",
   "execution_count": null,
   "metadata": {
    "collapsed": true
   },
   "outputs": [],
   "source": []
  },
  {
   "cell_type": "code",
   "execution_count": null,
   "metadata": {
    "collapsed": true
   },
   "outputs": [],
   "source": []
  },
  {
   "cell_type": "code",
   "execution_count": 71,
   "metadata": {
    "collapsed": false
   },
   "outputs": [],
   "source": [
    "df['full_text_spacy'] = df['full_text'].apply(lambda x: unicode(x,encoding=\"utf-8\") )"
   ]
  },
  {
   "cell_type": "code",
   "execution_count": 72,
   "metadata": {
    "collapsed": false
   },
   "outputs": [],
   "source": [
    "df['full_text_spacy'] = df['full_text_spacy'].apply(lambda x: nlp(x))"
   ]
  },
  {
   "cell_type": "code",
   "execution_count": 55,
   "metadata": {
    "collapsed": false
   },
   "outputs": [],
   "source": [
    "from gensim.models import Phrases\n",
    "from gensim.models.word2vec import LineSentence"
   ]
  },
  {
   "cell_type": "code",
   "execution_count": 58,
   "metadata": {
    "collapsed": true
   },
   "outputs": [],
   "source": []
  },
  {
   "cell_type": "code",
   "execution_count": null,
   "metadata": {
    "collapsed": true
   },
   "outputs": [],
   "source": []
  },
  {
   "cell_type": "code",
   "execution_count": null,
   "metadata": {
    "collapsed": false
   },
   "outputs": [],
   "source": []
  },
  {
   "cell_type": "code",
   "execution_count": 35,
   "metadata": {
    "collapsed": false
   },
   "outputs": [],
   "source": [
    "def punct_space(token):\n",
    "    \"\"\"\n",
    "    helper function to eliminate tokens\n",
    "    that are pure punctuation or whitespace\n",
    "    \"\"\"\n",
    "    return token.is_punct or token.is_space\n",
    "\n",
    "def line_review(filename):\n",
    "    \"\"\"\n",
    "    generator function to read in reviews from the file\n",
    "    and un-escape the original line breaks in the text\n",
    "    \"\"\"\n",
    "    with codecs.open(filename, encoding='utf_8') as f:\n",
    "        for review in f:\n",
    "            yield review.replace('\\\\n', '\\n')\n",
    "            \n",
    "def lemmatized_sentence_corpus(filename):\n",
    "    \"\"\"\n",
    "    generator function to use spaCy to parse reviews,\n",
    "    lemmatize the text, and yield sentences\n",
    "    \"\"\"\n",
    "    for parsed_review in nlp.pipe(line_review(filename),\n",
    "                                  batch_size=10000, n_threads=4):\n",
    "        \n",
    "        for sent in parsed_review.sents:\n",
    "            yield u' '.join([token.lemma_ for token in sent\n",
    "                             if not punct_space(token)])"
   ]
  },
  {
   "cell_type": "code",
   "execution_count": null,
   "metadata": {
    "collapsed": true
   },
   "outputs": [],
   "source": [
    "import os\n",
    "trigram_reviews_filepath = os.path.join(intermediate_directory,\n",
    "                                        'trigram_transformed_reviews_all.txt')"
   ]
  },
  {
   "cell_type": "code",
   "execution_count": null,
   "metadata": {
    "collapsed": true
   },
   "outputs": [],
   "source": [
    "%%time\n",
    "\n",
    "# this is a bit time consuming - make the if statement True\n",
    "# if you want to execute data prep yourself.\n",
    "if 1 == 1:\n",
    "\n",
    "    with codecs.open(trigram_reviews_filepath, 'w', encoding='utf_8') as f:\n",
    "        \n",
    "        for parsed_review in nlp.pipe(line_review(file_path_name),\n",
    "                                      batch_size=10000, n_threads=4):\n",
    "            \n",
    "            # lemmatize the text, removing punctuation and whitespace\n",
    "            unigram_review = [token.lemma_ for token in parsed_review\n",
    "                              if not punct_space(token)]\n",
    "            \n",
    "            # apply the first-order and second-order phrase models\n",
    "            bigram_review = bigram_model[unigram_review]\n",
    "            trigram_review = trigram_model[bigram_review]\n",
    "            \n",
    "            # remove any remaining stopwords\n",
    "            trigram_review = [term for term in trigram_review\n",
    "                              if term not in spacy.en.language_data.STOP_WORDS]\n",
    "            \n",
    "            # write the transformed review as a line in the new file\n",
    "            trigram_review = u' '.join(trigram_review)\n",
    "            f.write(trigram_review + '\\n')"
   ]
  },
  {
   "cell_type": "code",
   "execution_count": null,
   "metadata": {
    "collapsed": true
   },
   "outputs": [],
   "source": [
    "a = df[\"full_text\"][0]\n",
    "unicode_text = unicode(a, encoding = \"utf-8\")\n",
    "nospace = re.sub(\"\\n\",\" \", unicode_text)\n",
    "parsed_review = nlp(nospace)\n",
    "lemmatized = list()\n",
    "for sentence in parsed_review.sents:\n",
    "    for token in sentence:\n",
    "        if not punct_space(token):\n",
    "            lemmatized.append(token.lemma_)\n",
    "lemmatized = filter(lambda x: not re.findall(\"htm\",x),lemmatized)\n",
    "lemmatized = filter(lambda x: len(x)>4, lemmatized)\n",
    "lemmatized = filter(lambda x: not re.findall(\"\\x95\", x), lemmatized)\n",
    "lemmatized = filter(lambda x: not re.findall(\"\\x97\", x), lemmatized)\n",
    "lemmatized = filter(lambda x: not re.findall(\"\\$\", x), lemmatized)\n",
    "lemmatized = filter(lambda x:(x != \"filer\") and (x != \"contents\") and (x != \"table\") and (x != \"report\") and\n",
    "                    (x != \"10-k.\") and (x != \"12b-2\") and (x != \"document\") and (x != \"financial\"), lemmatized)\n",
    "lemmatized"
   ]
  },
  {
   "cell_type": "code",
   "execution_count": null,
   "metadata": {
    "collapsed": true
   },
   "outputs": [],
   "source": []
  },
  {
   "cell_type": "code",
   "execution_count": null,
   "metadata": {
    "collapsed": true
   },
   "outputs": [],
   "source": []
  },
  {
   "cell_type": "code",
   "execution_count": null,
   "metadata": {
    "collapsed": true
   },
   "outputs": [],
   "source": []
  }
 ],
 "metadata": {
  "anaconda-cloud": {},
  "kernelspec": {
   "display_name": "Python [conda root]",
   "language": "python",
   "name": "conda-root-py"
  },
  "language_info": {
   "codemirror_mode": {
    "name": "ipython",
    "version": 2
   },
   "file_extension": ".py",
   "mimetype": "text/x-python",
   "name": "python",
   "nbconvert_exporter": "python",
   "pygments_lexer": "ipython2",
   "version": "2.7.12"
  }
 },
 "nbformat": 4,
 "nbformat_minor": 2
}
