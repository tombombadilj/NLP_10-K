{
 "cells": [
  {
   "cell_type": "markdown",
   "metadata": {},
   "source": [
    "These functions will help you extract the entire report and place them into a pandas dataframe - please remember to download the conversion table (dow 30 to cik #):\n",
    "1) getting_crawler(year_number, qtr): this function will download the index file as provdied by sec.gov. Please indicate the year as well the quarter you would like to extract the data from. For more information, visit https://www.sec.gov/edgar/searchedgar/accessing-edgar-data.htm\n",
    "\n",
    "2) milestone_search(file_name): milestone_search looks for where the listing begins in the index file.\n",
    "\n",
    "3) convert_to_pandas(file_name, data_start): convert_to_pandas function converts index file to a pandas data frame\n",
    "\n",
    "4) search_company_name(data, company_name, report_type): allows you to find the url for the report as well as the the specified companies. Please note that the function currently only take CIK# for accuracy. Many larger companies have multiple reporting sub-companies, i.e., J P Morgan.\n",
    "\n",
    "5) getting_data(url_list, year_number, qtr, report_type): Will download the entire webpage of the report as a file and put it into a pandas dataframe. For missing values, it will automatically assigned np.NaN\n",
    "\n",
    "6) adding_company_name(data): will add company name and other inforamtion back to the current dataframe\n",
    "\n",
    "7) putting_together(year_number,qtr, company_name, report_type): goes through the entire process and only return the data_frame with the full data.\n",
    "\n",
    "8) the functions now support saving and reading in pickle files!\n",
    "\n",
    "See below listing for the options for company_name"
   ]
  },
  {
   "cell_type": "code",
   "execution_count": 2,
   "metadata": {
    "collapsed": false
   },
   "outputs": [],
   "source": [
    "import urllib\n",
    "import pandas as pd\n",
    "import struct\n",
    "import numpy as np\n",
    "from bs4 import BeautifulSoup\n",
    "import requests\n",
    "import regex as re\n",
    "import pickle"
   ]
  },
  {
   "cell_type": "code",
   "execution_count": 3,
   "metadata": {
    "collapsed": false
   },
   "outputs": [],
   "source": [
    "company_table = pd.read_csv(\"cik_list.csv\")"
   ]
  },
  {
   "cell_type": "code",
   "execution_count": 5,
   "metadata": {
    "collapsed": false
   },
   "outputs": [
    {
     "data": {
      "text/html": [
       "<div>\n",
       "<style>\n",
       "    .dataframe thead tr:only-child th {\n",
       "        text-align: right;\n",
       "    }\n",
       "\n",
       "    .dataframe thead th {\n",
       "        text-align: left;\n",
       "    }\n",
       "\n",
       "    .dataframe tbody tr th {\n",
       "        vertical-align: top;\n",
       "    }\n",
       "</style>\n",
       "<table border=\"1\" class=\"dataframe\">\n",
       "  <thead>\n",
       "    <tr style=\"text-align: right;\">\n",
       "      <th></th>\n",
       "      <th>Company</th>\n",
       "      <th>Name</th>\n",
       "      <th>CIK #</th>\n",
       "    </tr>\n",
       "  </thead>\n",
       "  <tbody>\n",
       "    <tr>\n",
       "      <th>0</th>\n",
       "      <td>AAPL</td>\n",
       "      <td>Apple Inc.</td>\n",
       "      <td>320193</td>\n",
       "    </tr>\n",
       "    <tr>\n",
       "      <th>1</th>\n",
       "      <td>AXP</td>\n",
       "      <td>American Expression Co.</td>\n",
       "      <td>4962</td>\n",
       "    </tr>\n",
       "    <tr>\n",
       "      <th>2</th>\n",
       "      <td>BA</td>\n",
       "      <td>Boeing Co.</td>\n",
       "      <td>12927</td>\n",
       "    </tr>\n",
       "  </tbody>\n",
       "</table>\n",
       "</div>"
      ],
      "text/plain": [
       "  Company                     Name   CIK #\n",
       "0    AAPL               Apple Inc.  320193\n",
       "1     AXP  American Expression Co.    4962\n",
       "2      BA               Boeing Co.   12927"
      ]
     },
     "execution_count": 5,
     "metadata": {},
     "output_type": "execute_result"
    }
   ],
   "source": [
    "company_table.head(3)"
   ]
  },
  {
   "cell_type": "code",
   "execution_count": 77,
   "metadata": {
    "collapsed": false
   },
   "outputs": [],
   "source": [
    "cik_lookup = pd.read_table(\"cik_look_up.txt\",names = [\"company\"])"
   ]
  },
  {
   "cell_type": "code",
   "execution_count": 78,
   "metadata": {
    "collapsed": false
   },
   "outputs": [
    {
     "data": {
      "text/html": [
       "<div>\n",
       "<style>\n",
       "    .dataframe thead tr:only-child th {\n",
       "        text-align: right;\n",
       "    }\n",
       "\n",
       "    .dataframe thead th {\n",
       "        text-align: left;\n",
       "    }\n",
       "\n",
       "    .dataframe tbody tr th {\n",
       "        vertical-align: top;\n",
       "    }\n",
       "</style>\n",
       "<table border=\"1\" class=\"dataframe\">\n",
       "  <thead>\n",
       "    <tr style=\"text-align: right;\">\n",
       "      <th></th>\n",
       "      <th>company</th>\n",
       "    </tr>\n",
       "  </thead>\n",
       "  <tbody>\n",
       "    <tr>\n",
       "      <th>0</th>\n",
       "      <td>!J INC:0001438823:</td>\n",
       "    </tr>\n",
       "    <tr>\n",
       "      <th>1</th>\n",
       "      <td>#1 A LIFESAFER HOLDINGS, INC.:0001509607:</td>\n",
       "    </tr>\n",
       "    <tr>\n",
       "      <th>2</th>\n",
       "      <td>#1 ARIZONA DISCOUNT PROPERTIES LLC:0001457512:</td>\n",
       "    </tr>\n",
       "    <tr>\n",
       "      <th>3</th>\n",
       "      <td>#1 PAINTBALL CORP:0001433777:</td>\n",
       "    </tr>\n",
       "    <tr>\n",
       "      <th>4</th>\n",
       "      <td>$ LLC:0001427189:</td>\n",
       "    </tr>\n",
       "  </tbody>\n",
       "</table>\n",
       "</div>"
      ],
      "text/plain": [
       "                                          company\n",
       "0                              !J INC:0001438823:\n",
       "1       #1 A LIFESAFER HOLDINGS, INC.:0001509607:\n",
       "2  #1 ARIZONA DISCOUNT PROPERTIES LLC:0001457512:\n",
       "3                   #1 PAINTBALL CORP:0001433777:\n",
       "4                               $ LLC:0001427189:"
      ]
     },
     "execution_count": 78,
     "metadata": {},
     "output_type": "execute_result"
    }
   ],
   "source": [
    "cik_lookup.head(5)"
   ]
  },
  {
   "cell_type": "code",
   "execution_count": 79,
   "metadata": {
    "collapsed": true
   },
   "outputs": [],
   "source": [
    "def clean_up(pattern, x):\n",
    "    if not re.match(pattern, x):\n",
    "        return np.NaN\n",
    "    else:\n",
    "        return re.match(pattern, x).group(1).lower()"
   ]
  },
  {
   "cell_type": "code",
   "execution_count": 80,
   "metadata": {
    "collapsed": false
   },
   "outputs": [],
   "source": [
    "cik_lookup.loc[:,\"Name\"] = cik_lookup[\"company\"].apply(lambda x: clean_up(\"(.+):\\d+:\",x))"
   ]
  },
  {
   "cell_type": "code",
   "execution_count": 81,
   "metadata": {
    "collapsed": true
   },
   "outputs": [],
   "source": [
    "cik_lookup.loc[:,\"cik #\"] = cik_lookup[\"company\"].apply(lambda x: clean_up(\".+:(\\d+):\",x))"
   ]
  },
  {
   "cell_type": "code",
   "execution_count": 82,
   "metadata": {
    "collapsed": false
   },
   "outputs": [
    {
     "data": {
      "text/html": [
       "<div>\n",
       "<style>\n",
       "    .dataframe thead tr:only-child th {\n",
       "        text-align: right;\n",
       "    }\n",
       "\n",
       "    .dataframe thead th {\n",
       "        text-align: left;\n",
       "    }\n",
       "\n",
       "    .dataframe tbody tr th {\n",
       "        vertical-align: top;\n",
       "    }\n",
       "</style>\n",
       "<table border=\"1\" class=\"dataframe\">\n",
       "  <thead>\n",
       "    <tr style=\"text-align: right;\">\n",
       "      <th></th>\n",
       "      <th>company</th>\n",
       "      <th>Name</th>\n",
       "      <th>cik #</th>\n",
       "    </tr>\n",
       "  </thead>\n",
       "  <tbody>\n",
       "    <tr>\n",
       "      <th>0</th>\n",
       "      <td>!J INC:0001438823:</td>\n",
       "      <td>!j inc</td>\n",
       "      <td>0001438823</td>\n",
       "    </tr>\n",
       "    <tr>\n",
       "      <th>1</th>\n",
       "      <td>#1 A LIFESAFER HOLDINGS, INC.:0001509607:</td>\n",
       "      <td>#1 a lifesafer holdings, inc.</td>\n",
       "      <td>0001509607</td>\n",
       "    </tr>\n",
       "    <tr>\n",
       "      <th>2</th>\n",
       "      <td>#1 ARIZONA DISCOUNT PROPERTIES LLC:0001457512:</td>\n",
       "      <td>#1 arizona discount properties llc</td>\n",
       "      <td>0001457512</td>\n",
       "    </tr>\n",
       "  </tbody>\n",
       "</table>\n",
       "</div>"
      ],
      "text/plain": [
       "                                          company  \\\n",
       "0                              !J INC:0001438823:   \n",
       "1       #1 A LIFESAFER HOLDINGS, INC.:0001509607:   \n",
       "2  #1 ARIZONA DISCOUNT PROPERTIES LLC:0001457512:   \n",
       "\n",
       "                                 Name       cik #  \n",
       "0                              !j inc  0001438823  \n",
       "1       #1 a lifesafer holdings, inc.  0001509607  \n",
       "2  #1 arizona discount properties llc  0001457512  "
      ]
     },
     "execution_count": 82,
     "metadata": {},
     "output_type": "execute_result"
    }
   ],
   "source": [
    "cik_lookup.head(3)"
   ]
  },
  {
   "cell_type": "code",
   "execution_count": 83,
   "metadata": {
    "collapsed": true
   },
   "outputs": [],
   "source": [
    "def stripping_0(x):\n",
    "    if not x:\n",
    "        return np.NaN\n",
    "    else:\n",
    "        return str(x).strip(\"0\")"
   ]
  },
  {
   "cell_type": "code",
   "execution_count": 84,
   "metadata": {
    "collapsed": false
   },
   "outputs": [],
   "source": [
    "cik_lookup[\"CIK #\"] = cik_lookup[\"cik #\"].apply(lambda x: stripping_0(x))"
   ]
  },
  {
   "cell_type": "code",
   "execution_count": 85,
   "metadata": {
    "collapsed": false
   },
   "outputs": [
    {
     "data": {
      "text/html": [
       "<div>\n",
       "<style>\n",
       "    .dataframe thead tr:only-child th {\n",
       "        text-align: right;\n",
       "    }\n",
       "\n",
       "    .dataframe thead th {\n",
       "        text-align: left;\n",
       "    }\n",
       "\n",
       "    .dataframe tbody tr th {\n",
       "        vertical-align: top;\n",
       "    }\n",
       "</style>\n",
       "<table border=\"1\" class=\"dataframe\">\n",
       "  <thead>\n",
       "    <tr style=\"text-align: right;\">\n",
       "      <th></th>\n",
       "      <th>company</th>\n",
       "      <th>Name</th>\n",
       "      <th>cik #</th>\n",
       "      <th>CIK #</th>\n",
       "    </tr>\n",
       "  </thead>\n",
       "  <tbody>\n",
       "    <tr>\n",
       "      <th>0</th>\n",
       "      <td>!J INC:0001438823:</td>\n",
       "      <td>!j inc</td>\n",
       "      <td>0001438823</td>\n",
       "      <td>1438823</td>\n",
       "    </tr>\n",
       "    <tr>\n",
       "      <th>1</th>\n",
       "      <td>#1 A LIFESAFER HOLDINGS, INC.:0001509607:</td>\n",
       "      <td>#1 a lifesafer holdings, inc.</td>\n",
       "      <td>0001509607</td>\n",
       "      <td>1509607</td>\n",
       "    </tr>\n",
       "    <tr>\n",
       "      <th>2</th>\n",
       "      <td>#1 ARIZONA DISCOUNT PROPERTIES LLC:0001457512:</td>\n",
       "      <td>#1 arizona discount properties llc</td>\n",
       "      <td>0001457512</td>\n",
       "      <td>1457512</td>\n",
       "    </tr>\n",
       "    <tr>\n",
       "      <th>3</th>\n",
       "      <td>#1 PAINTBALL CORP:0001433777:</td>\n",
       "      <td>#1 paintball corp</td>\n",
       "      <td>0001433777</td>\n",
       "      <td>1433777</td>\n",
       "    </tr>\n",
       "    <tr>\n",
       "      <th>4</th>\n",
       "      <td>$ LLC:0001427189:</td>\n",
       "      <td>$ llc</td>\n",
       "      <td>0001427189</td>\n",
       "      <td>1427189</td>\n",
       "    </tr>\n",
       "  </tbody>\n",
       "</table>\n",
       "</div>"
      ],
      "text/plain": [
       "                                          company  \\\n",
       "0                              !J INC:0001438823:   \n",
       "1       #1 A LIFESAFER HOLDINGS, INC.:0001509607:   \n",
       "2  #1 ARIZONA DISCOUNT PROPERTIES LLC:0001457512:   \n",
       "3                   #1 PAINTBALL CORP:0001433777:   \n",
       "4                               $ LLC:0001427189:   \n",
       "\n",
       "                                 Name       cik #    CIK #  \n",
       "0                              !j inc  0001438823  1438823  \n",
       "1       #1 a lifesafer holdings, inc.  0001509607  1509607  \n",
       "2  #1 arizona discount properties llc  0001457512  1457512  \n",
       "3                   #1 paintball corp  0001433777  1433777  \n",
       "4                               $ llc  0001427189  1427189  "
      ]
     },
     "execution_count": 85,
     "metadata": {},
     "output_type": "execute_result"
    }
   ],
   "source": [
    "cik_lookup.head(5)"
   ]
  },
  {
   "cell_type": "code",
   "execution_count": 86,
   "metadata": {
    "collapsed": false
   },
   "outputs": [
    {
     "data": {
      "text/plain": [
       "(661046, 4)"
      ]
     },
     "execution_count": 86,
     "metadata": {},
     "output_type": "execute_result"
    }
   ],
   "source": [
    "cik_lookup.shape"
   ]
  },
  {
   "cell_type": "code",
   "execution_count": 87,
   "metadata": {
    "collapsed": false
   },
   "outputs": [],
   "source": [
    "cik_nm = cik_lookup.dropna().reset_index(drop=True)"
   ]
  },
  {
   "cell_type": "code",
   "execution_count": 88,
   "metadata": {
    "collapsed": false
   },
   "outputs": [
    {
     "data": {
      "text/plain": [
       "661042"
      ]
     },
     "execution_count": 88,
     "metadata": {},
     "output_type": "execute_result"
    }
   ],
   "source": [
    "cik_nm.shape[0]"
   ]
  },
  {
   "cell_type": "code",
   "execution_count": 89,
   "metadata": {
    "collapsed": false
   },
   "outputs": [],
   "source": [
    "cik_nm.to_csv(\"cik_nm.csv\",index=False)\n",
    "#cik_nm.to_pickle(\"cik_nm.txt\")"
   ]
  },
  {
   "cell_type": "code",
   "execution_count": 90,
   "metadata": {
    "collapsed": true
   },
   "outputs": [],
   "source": [
    "def getting_crawler(year_number,qtr):\n",
    "    base_url = \"https://www.sec.gov/Archives/edgar/full-index/\"\n",
    "    year = str(year_number) + \"/\"\n",
    "    if qtr == 1:\n",
    "        QTR = \"QTR1/\"\n",
    "    if qtr == 2:\n",
    "        QTR = \"QTR2/\"\n",
    "    if qtr == 3:\n",
    "        QTR = \"QTR3/\"\n",
    "    if qtr == 4:\n",
    "        QTR = \"QTR4/\"\n",
    "    download_file = \"crawler.idx\"\n",
    "    full = base_url + year + QTR + download_file\n",
    "    file_name = str(year_number) + \"_QTR\" + str(qtr) + \"_crawler.idx\"\n",
    "    testfile = urllib.URLopener()\n",
    "    testfile.retrieve(full, file_name)\n",
    "    return file_name"
   ]
  },
  {
   "cell_type": "code",
   "execution_count": 91,
   "metadata": {
    "collapsed": true
   },
   "outputs": [],
   "source": [
    "def milestone_search(file_name):\n",
    "    with open(file_name) as myFile:\n",
    "        for num, line in enumerate(myFile, 0):\n",
    "            if (\"CIK\" in line):\n",
    "                if (\"Form Type\" in line):\n",
    "                    #print 'found at line:', num\n",
    "                    line_start = num\n",
    "            if \"------------------\" in line:\n",
    "                #print \"found ----- at line:\", num\n",
    "                data_start = num+1\n",
    "                #print \"data starts at:\", data_start\n",
    "    return data_start"
   ]
  },
  {
   "cell_type": "code",
   "execution_count": 92,
   "metadata": {
    "collapsed": true
   },
   "outputs": [],
   "source": [
    "def convert_to_pandas(file_name, data_start):\n",
    "    company_name = list()\n",
    "    report_type = list()\n",
    "    CIK = list()\n",
    "    date = list()\n",
    "    url = list()\n",
    "    with open(file_name) as myfile:\n",
    "        testing = myfile.readlines()[data_start:]\n",
    "        for record in testing:\n",
    "            record_split = map(lambda x: x.strip(), filter(lambda x: x!=\"\" and x !=\"\\n\", record.split(\"  \")))\n",
    "            company_name.append(record_split[0])\n",
    "            report_type.append(record_split[1])\n",
    "            CIK.append(record_split[2])\n",
    "            date.append(record_split[3])\n",
    "            url.append(record_split[4])\n",
    "    data_dict = {\"company\":company_name,\n",
    "                 \"report\":report_type,\n",
    "                 \"CIK\":CIK,\n",
    "                 \"date\":date,\n",
    "                 \"url\":url}\n",
    "    df = pd.DataFrame.from_dict(data_dict)\n",
    "    df[\"company_l\"] = df[\"company\"].str.lower()\n",
    "    return df"
   ]
  },
  {
   "cell_type": "code",
   "execution_count": 160,
   "metadata": {
    "collapsed": true
   },
   "outputs": [],
   "source": [
    "def search_company_name(data, company_name, report_type):\n",
    "    data_report = data[data[\"report\"] == report_type]\n",
    "    company_table = pd.read_csv(company_name)\n",
    "    company_table = company_table[[\"Name\",\"CIK #\"]]\n",
    "    company_table[\"CIK #\"] = company_table[\"CIK #\"].astype(str)\n",
    "    result = pd.merge(data_report, company_table, how ='inner', left_on = \"CIK\", right_on = \"CIK #\")\n",
    "    result = result[[\"Name\", \"CIK #\", \"company\", \"report\", \"date\", \"url\"]].reset_index(drop=True)\n",
    "    return result"
   ]
  },
  {
   "cell_type": "code",
   "execution_count": 161,
   "metadata": {
    "collapsed": true
   },
   "outputs": [],
   "source": [
    "def getting_data(company_list, year_number, qtr, report_type):\n",
    "    for i in range(0, company_list.shape[0]):\n",
    "        url_address = company_list.loc[i,\"url\"]\n",
    "        text = requests.get(url_address).text\n",
    "        text = BeautifulSoup(text, \"html.parser\")\n",
    "        target = text.find(\"table\",{\"class\":\"tableFile\"})\n",
    "        link = target.find_all(\"tr\")[1].find_all(\"a\")[0][\"href\"]\n",
    "        final_link = \"https://www.sec.gov\"+link\n",
    "        text_report = requests.get(final_link).text\n",
    "        text_report = BeautifulSoup(text_report, \"html.parser\")\n",
    "        content = text_report.text\n",
    "        content = content.encode(encoding='UTF-8')\n",
    "        company_list.loc[i,\"full_text\"] = content\n",
    "    company_list[\"year\"] = year_number\n",
    "    company_list[\"quarter\"] = qtr\n",
    "    company_list[\"report_type\"] = report_type\n",
    "    return company_list"
   ]
  },
  {
   "cell_type": "code",
   "execution_count": 162,
   "metadata": {
    "collapsed": true
   },
   "outputs": [],
   "source": [
    "def putting_together(year_number, qtr, company_name, report_type):\n",
    "    file_path = getting_crawler(year_number,qtr)\n",
    "    data_start_num = milestone_search(file_path)\n",
    "    data_frame = convert_to_pandas(file_path, data_start_num)\n",
    "    results = search_company_name(data_frame, company_name, report_type)\n",
    "    final_data = getting_data(results, year_number, qtr, report_type)\n",
    "    return final_data"
   ]
  },
  {
   "cell_type": "markdown",
   "metadata": {},
   "source": [
    "Saving the final_dataset to a pickle file, and reading in a pickle file"
   ]
  },
  {
   "cell_type": "code",
   "execution_count": 163,
   "metadata": {
    "collapsed": true
   },
   "outputs": [],
   "source": [
    "def save_as_pickle(path_to_save, final_data):\n",
    "    final_data.to_pickle(path_to_save)"
   ]
  },
  {
   "cell_type": "code",
   "execution_count": 164,
   "metadata": {
    "collapsed": true
   },
   "outputs": [],
   "source": [
    "def read_data(path_to_open):\n",
    "    infile = open(path_to_open,\"rb\")\n",
    "    newdata = pickle.load(infile)\n",
    "    infile.close()\n",
    "    return newdata"
   ]
  },
  {
   "cell_type": "markdown",
   "metadata": {},
   "source": [
    "Demonstration - extracting the latest document for all 30 companies"
   ]
  },
  {
   "cell_type": "code",
   "execution_count": 165,
   "metadata": {
    "collapsed": false
   },
   "outputs": [],
   "source": [
    "data_2017_qrt1 = putting_together(2017, 1, \"cik_list.csv\",\"10-K\")"
   ]
  },
  {
   "cell_type": "code",
   "execution_count": 166,
   "metadata": {
    "collapsed": false
   },
   "outputs": [
    {
     "data": {
      "text/html": [
       "<div>\n",
       "<style>\n",
       "    .dataframe thead tr:only-child th {\n",
       "        text-align: right;\n",
       "    }\n",
       "\n",
       "    .dataframe thead th {\n",
       "        text-align: left;\n",
       "    }\n",
       "\n",
       "    .dataframe tbody tr th {\n",
       "        vertical-align: top;\n",
       "    }\n",
       "</style>\n",
       "<table border=\"1\" class=\"dataframe\">\n",
       "  <thead>\n",
       "    <tr style=\"text-align: right;\">\n",
       "      <th></th>\n",
       "      <th>Name</th>\n",
       "      <th>CIK #</th>\n",
       "      <th>company</th>\n",
       "      <th>report</th>\n",
       "      <th>date</th>\n",
       "      <th>url</th>\n",
       "      <th>full_text</th>\n",
       "      <th>year</th>\n",
       "      <th>quarter</th>\n",
       "      <th>report_type</th>\n",
       "    </tr>\n",
       "  </thead>\n",
       "  <tbody>\n",
       "    <tr>\n",
       "      <th>0</th>\n",
       "      <td>3 M Co.</td>\n",
       "      <td>66740</td>\n",
       "      <td>3M CO</td>\n",
       "      <td>10-K</td>\n",
       "      <td>2017-02-09</td>\n",
       "      <td>https://www.sec.gov/Archives/edgar/data/66740/...</td>\n",
       "      <td>\\n10-K\\n1\\nmmm-20161231x10k.htm\\n10-K\\n\\n\\n\\n\\...</td>\n",
       "      <td>2017</td>\n",
       "      <td>1</td>\n",
       "      <td>10-K</td>\n",
       "    </tr>\n",
       "    <tr>\n",
       "      <th>1</th>\n",
       "      <td>American Expression Co.</td>\n",
       "      <td>4962</td>\n",
       "      <td>AMERICAN EXPRESS CO</td>\n",
       "      <td>10-K</td>\n",
       "      <td>2017-02-17</td>\n",
       "      <td>https://www.sec.gov/Archives/edgar/data/4962/0...</td>\n",
       "      <td>\\n10-K\\n1\\nd321397d10k.htm\\nFORM 10-K\\n\\n\\nFor...</td>\n",
       "      <td>2017</td>\n",
       "      <td>1</td>\n",
       "      <td>10-K</td>\n",
       "    </tr>\n",
       "    <tr>\n",
       "      <th>2</th>\n",
       "      <td>American International Group</td>\n",
       "      <td>5272</td>\n",
       "      <td>AMERICAN INTERNATIONAL GROUP INC</td>\n",
       "      <td>10-K</td>\n",
       "      <td>2017-02-23</td>\n",
       "      <td>https://www.sec.gov/Archives/edgar/data/5272/0...</td>\n",
       "      <td>\\n10-K\\n1\\nmaindocument001.htm\\n10-K\\n\\n\\n\\n\\n...</td>\n",
       "      <td>2017</td>\n",
       "      <td>1</td>\n",
       "      <td>10-K</td>\n",
       "    </tr>\n",
       "    <tr>\n",
       "      <th>3</th>\n",
       "      <td>Bank of America</td>\n",
       "      <td>70858</td>\n",
       "      <td>BANK OF AMERICA CORP /DE/</td>\n",
       "      <td>10-K</td>\n",
       "      <td>2017-02-23</td>\n",
       "      <td>https://www.sec.gov/Archives/edgar/data/70858/...</td>\n",
       "      <td>\\n10-K\\n1\\nbac-1231201610xk.htm\\n10-K\\n\\n\\n\\n\\...</td>\n",
       "      <td>2017</td>\n",
       "      <td>1</td>\n",
       "      <td>10-K</td>\n",
       "    </tr>\n",
       "    <tr>\n",
       "      <th>4</th>\n",
       "      <td>Boeing Co.</td>\n",
       "      <td>12927</td>\n",
       "      <td>BOEING CO</td>\n",
       "      <td>10-K</td>\n",
       "      <td>2017-02-08</td>\n",
       "      <td>https://www.sec.gov/Archives/edgar/data/12927/...</td>\n",
       "      <td>\\n10-K\\n1\\na201612dec3110k.htm\\n10-K\\n\\n\\n\\n\\n...</td>\n",
       "      <td>2017</td>\n",
       "      <td>1</td>\n",
       "      <td>10-K</td>\n",
       "    </tr>\n",
       "    <tr>\n",
       "      <th>5</th>\n",
       "      <td>Caterpillar Inc.</td>\n",
       "      <td>18230</td>\n",
       "      <td>CATERPILLAR INC</td>\n",
       "      <td>10-K</td>\n",
       "      <td>2017-02-15</td>\n",
       "      <td>https://www.sec.gov/Archives/edgar/data/18230/...</td>\n",
       "      <td>\\n10-K\\n1\\ncat_10-kx12312016.htm\\n10-K\\n\\n\\n\\n...</td>\n",
       "      <td>2017</td>\n",
       "      <td>1</td>\n",
       "      <td>10-K</td>\n",
       "    </tr>\n",
       "    <tr>\n",
       "      <th>6</th>\n",
       "      <td>Chevron Corp</td>\n",
       "      <td>93410</td>\n",
       "      <td>CHEVRON CORP</td>\n",
       "      <td>10-K</td>\n",
       "      <td>2017-02-23</td>\n",
       "      <td>https://www.sec.gov/Archives/edgar/data/93410/...</td>\n",
       "      <td>\\n10-K\\n1\\ncvx-123116x10kdoc.htm\\n10-K\\n\\n\\n\\n...</td>\n",
       "      <td>2017</td>\n",
       "      <td>1</td>\n",
       "      <td>10-K</td>\n",
       "    </tr>\n",
       "    <tr>\n",
       "      <th>7</th>\n",
       "      <td>Citi</td>\n",
       "      <td>831001</td>\n",
       "      <td>CITIGROUP INC</td>\n",
       "      <td>10-K</td>\n",
       "      <td>2017-02-24</td>\n",
       "      <td>https://www.sec.gov/Archives/edgar/data/831001...</td>\n",
       "      <td>\\n10-K\\n1\\nc-12312016x10k.htm\\n10-K\\n\\n\\n\\n\\n\\...</td>\n",
       "      <td>2017</td>\n",
       "      <td>1</td>\n",
       "      <td>10-K</td>\n",
       "    </tr>\n",
       "    <tr>\n",
       "      <th>8</th>\n",
       "      <td>Coca-Cola Co.</td>\n",
       "      <td>21344</td>\n",
       "      <td>COCA COLA CO</td>\n",
       "      <td>10-K</td>\n",
       "      <td>2017-02-24</td>\n",
       "      <td>https://www.sec.gov/Archives/edgar/data/21344/...</td>\n",
       "      <td>\\n10-K\\n1\\na2016123110-k.htm\\n10-K\\n\\n\\n\\n\\n\\n...</td>\n",
       "      <td>2017</td>\n",
       "      <td>1</td>\n",
       "      <td>10-K</td>\n",
       "    </tr>\n",
       "    <tr>\n",
       "      <th>9</th>\n",
       "      <td>Dupont E I De Numours and Co.</td>\n",
       "      <td>30554</td>\n",
       "      <td>DUPONT E I DE NEMOURS &amp; CO</td>\n",
       "      <td>10-K</td>\n",
       "      <td>2017-02-02</td>\n",
       "      <td>https://www.sec.gov/Archives/edgar/data/30554/...</td>\n",
       "      <td>\\n10-K\\n1\\ndd-12312016x10k.htm\\n10-K\\n\\n\\n\\n\\n...</td>\n",
       "      <td>2017</td>\n",
       "      <td>1</td>\n",
       "      <td>10-K</td>\n",
       "    </tr>\n",
       "    <tr>\n",
       "      <th>10</th>\n",
       "      <td>Exxon Mobil Co.</td>\n",
       "      <td>34088</td>\n",
       "      <td>EXXON MOBIL CORP</td>\n",
       "      <td>10-K</td>\n",
       "      <td>2017-02-22</td>\n",
       "      <td>https://www.sec.gov/Archives/edgar/data/34088/...</td>\n",
       "      <td>\\n10-K\\n1\\nxom10k2016.htm\\nFORM 10-K\\n\\n\\n\\n\\n...</td>\n",
       "      <td>2017</td>\n",
       "      <td>1</td>\n",
       "      <td>10-K</td>\n",
       "    </tr>\n",
       "    <tr>\n",
       "      <th>11</th>\n",
       "      <td>General Electric Co.</td>\n",
       "      <td>40545</td>\n",
       "      <td>GENERAL ELECTRIC CO</td>\n",
       "      <td>10-K</td>\n",
       "      <td>2017-02-24</td>\n",
       "      <td>https://www.sec.gov/Archives/edgar/data/40545/...</td>\n",
       "      <td>\\n10-K\\n1\\nge10k2016.htm\\n\\n\\n\\n\\n\\n\\n\\n\\n\\n\\n...</td>\n",
       "      <td>2017</td>\n",
       "      <td>1</td>\n",
       "      <td>10-K</td>\n",
       "    </tr>\n",
       "    <tr>\n",
       "      <th>12</th>\n",
       "      <td>Goldman Sachs Group Inc.</td>\n",
       "      <td>886982</td>\n",
       "      <td>GOLDMAN SACHS GROUP INC</td>\n",
       "      <td>10-K</td>\n",
       "      <td>2017-02-27</td>\n",
       "      <td>https://www.sec.gov/Archives/edgar/data/886982...</td>\n",
       "      <td>\\n10-K\\n1\\nd308759d10k.htm\\nFORM 10-K\\n\\n\\nFor...</td>\n",
       "      <td>2017</td>\n",
       "      <td>1</td>\n",
       "      <td>10-K</td>\n",
       "    </tr>\n",
       "    <tr>\n",
       "      <th>13</th>\n",
       "      <td>Home Deport Inc.</td>\n",
       "      <td>354950</td>\n",
       "      <td>HOME DEPOT INC</td>\n",
       "      <td>10-K</td>\n",
       "      <td>2017-03-23</td>\n",
       "      <td>https://www.sec.gov/Archives/edgar/data/354950...</td>\n",
       "      <td>\\n10-K\\n1\\nhd-01292017x10xk.htm\\n10-K\\n\\n\\n\\n\\...</td>\n",
       "      <td>2017</td>\n",
       "      <td>1</td>\n",
       "      <td>10-K</td>\n",
       "    </tr>\n",
       "    <tr>\n",
       "      <th>14</th>\n",
       "      <td>Intel Co.</td>\n",
       "      <td>50863</td>\n",
       "      <td>INTEL CORP</td>\n",
       "      <td>10-K</td>\n",
       "      <td>2017-02-17</td>\n",
       "      <td>https://www.sec.gov/Archives/edgar/data/50863/...</td>\n",
       "      <td>\\n10-K\\n1\\na10kdocument12312016q4.htm\\n10-K\\n\\...</td>\n",
       "      <td>2017</td>\n",
       "      <td>1</td>\n",
       "      <td>10-K</td>\n",
       "    </tr>\n",
       "    <tr>\n",
       "      <th>15</th>\n",
       "      <td>International Business Machines Co.</td>\n",
       "      <td>51143</td>\n",
       "      <td>INTERNATIONAL BUSINESS MACHINES CORP</td>\n",
       "      <td>10-K</td>\n",
       "      <td>2017-02-28</td>\n",
       "      <td>https://www.sec.gov/Archives/edgar/data/51143/...</td>\n",
       "      <td>\\n10-K\\n1\\na2230222z10-k.htm\\n10-K\\n\\n\\n\\n\\n\\n...</td>\n",
       "      <td>2017</td>\n",
       "      <td>1</td>\n",
       "      <td>10-K</td>\n",
       "    </tr>\n",
       "    <tr>\n",
       "      <th>16</th>\n",
       "      <td>Johnson &amp; Johnson</td>\n",
       "      <td>200406</td>\n",
       "      <td>JOHNSON &amp; JOHNSON</td>\n",
       "      <td>10-K</td>\n",
       "      <td>2017-02-27</td>\n",
       "      <td>https://www.sec.gov/Archives/edgar/data/200406...</td>\n",
       "      <td>\\n10-K\\n1\\nform10-k20170101.htm\\n10-K\\n\\n\\n\\n\\...</td>\n",
       "      <td>2017</td>\n",
       "      <td>1</td>\n",
       "      <td>10-K</td>\n",
       "    </tr>\n",
       "    <tr>\n",
       "      <th>17</th>\n",
       "      <td>J P Morgan Chase &amp; Co.</td>\n",
       "      <td>19617</td>\n",
       "      <td>JPMORGAN CHASE &amp; CO</td>\n",
       "      <td>10-K</td>\n",
       "      <td>2017-02-28</td>\n",
       "      <td>https://www.sec.gov/Archives/edgar/data/19617/...</td>\n",
       "      <td>\\n10-K\\n1\\ncorp10k2016.htm\\nFORM 10-K\\n\\n\\n\\n\\...</td>\n",
       "      <td>2017</td>\n",
       "      <td>1</td>\n",
       "      <td>10-K</td>\n",
       "    </tr>\n",
       "    <tr>\n",
       "      <th>18</th>\n",
       "      <td>Mcdonald's Co.</td>\n",
       "      <td>63908</td>\n",
       "      <td>MCDONALDS CORP</td>\n",
       "      <td>10-K</td>\n",
       "      <td>2017-03-01</td>\n",
       "      <td>https://www.sec.gov/Archives/edgar/data/63908/...</td>\n",
       "      <td>\\n10-K\\n1\\nmcd-12312016x10k.htm\\nFORM 10-K\\n\\n...</td>\n",
       "      <td>2017</td>\n",
       "      <td>1</td>\n",
       "      <td>10-K</td>\n",
       "    </tr>\n",
       "    <tr>\n",
       "      <th>19</th>\n",
       "      <td>Merck &amp; Co.</td>\n",
       "      <td>310158</td>\n",
       "      <td>Merck &amp; Co., Inc.</td>\n",
       "      <td>10-K</td>\n",
       "      <td>2017-02-28</td>\n",
       "      <td>https://www.sec.gov/Archives/edgar/data/310158...</td>\n",
       "      <td>\\n10-K\\n1\\nmrk1231201610k.htm\\n2016 FORM 10-K\\...</td>\n",
       "      <td>2017</td>\n",
       "      <td>1</td>\n",
       "      <td>10-K</td>\n",
       "    </tr>\n",
       "    <tr>\n",
       "      <th>20</th>\n",
       "      <td>Pfizer Inc.</td>\n",
       "      <td>78003</td>\n",
       "      <td>PFIZER INC</td>\n",
       "      <td>10-K</td>\n",
       "      <td>2017-02-23</td>\n",
       "      <td>https://www.sec.gov/Archives/edgar/data/78003/...</td>\n",
       "      <td>\\n10-K\\n1\\npfe-12312016x10kshell.htm\\nFORM 10-...</td>\n",
       "      <td>2017</td>\n",
       "      <td>1</td>\n",
       "      <td>10-K</td>\n",
       "    </tr>\n",
       "    <tr>\n",
       "      <th>21</th>\n",
       "      <td>Travelers Companies Inc.</td>\n",
       "      <td>86312</td>\n",
       "      <td>TRAVELERS COMPANIES, INC.</td>\n",
       "      <td>10-K</td>\n",
       "      <td>2017-02-16</td>\n",
       "      <td>https://www.sec.gov/Archives/edgar/data/86312/...</td>\n",
       "      <td>\\n10-K\\n1\\na2230860z10-k.htm\\n10-K\\n\\n\\n\\n\\n\\n...</td>\n",
       "      <td>2017</td>\n",
       "      <td>1</td>\n",
       "      <td>10-K</td>\n",
       "    </tr>\n",
       "    <tr>\n",
       "      <th>22</th>\n",
       "      <td>United Technologies Co.</td>\n",
       "      <td>101829</td>\n",
       "      <td>UNITED TECHNOLOGIES CORP /DE/</td>\n",
       "      <td>10-K</td>\n",
       "      <td>2017-02-09</td>\n",
       "      <td>https://www.sec.gov/Archives/edgar/data/101829...</td>\n",
       "      <td>\\n10-K\\n1\\na2016-12x31form10xk.htm\\n10-K\\n\\n\\n...</td>\n",
       "      <td>2017</td>\n",
       "      <td>1</td>\n",
       "      <td>10-K</td>\n",
       "    </tr>\n",
       "    <tr>\n",
       "      <th>23</th>\n",
       "      <td>United Health Group Inc.</td>\n",
       "      <td>731766</td>\n",
       "      <td>UNITEDHEALTH GROUP INC</td>\n",
       "      <td>10-K</td>\n",
       "      <td>2017-02-08</td>\n",
       "      <td>https://www.sec.gov/Archives/edgar/data/731766...</td>\n",
       "      <td>\\n10-K\\n1\\nunh2016123110-k.htm\\n10-K\\n\\n\\n\\n\\n...</td>\n",
       "      <td>2017</td>\n",
       "      <td>1</td>\n",
       "      <td>10-K</td>\n",
       "    </tr>\n",
       "    <tr>\n",
       "      <th>24</th>\n",
       "      <td>Verizon Communications Inc.</td>\n",
       "      <td>732712</td>\n",
       "      <td>VERIZON COMMUNICATIONS INC</td>\n",
       "      <td>10-K</td>\n",
       "      <td>2017-02-21</td>\n",
       "      <td>https://www.sec.gov/Archives/edgar/data/732712...</td>\n",
       "      <td>\\n10-K\\n1\\nd296602d10k.htm\\n10-K\\n\\n\\n10-K\\n\\n...</td>\n",
       "      <td>2017</td>\n",
       "      <td>1</td>\n",
       "      <td>10-K</td>\n",
       "    </tr>\n",
       "    <tr>\n",
       "      <th>25</th>\n",
       "      <td>Wal-Mart</td>\n",
       "      <td>104169</td>\n",
       "      <td>WAL MART STORES INC</td>\n",
       "      <td>10-K</td>\n",
       "      <td>2017-03-31</td>\n",
       "      <td>https://www.sec.gov/Archives/edgar/data/104169...</td>\n",
       "      <td>\\n10-K\\n1\\nwmtform10-kx1312017.htm\\nFORM 10-K\\...</td>\n",
       "      <td>2017</td>\n",
       "      <td>1</td>\n",
       "      <td>10-K</td>\n",
       "    </tr>\n",
       "    <tr>\n",
       "      <th>26</th>\n",
       "      <td>Wells Fargo</td>\n",
       "      <td>72971</td>\n",
       "      <td>WELLS FARGO &amp; COMPANY/MN</td>\n",
       "      <td>10-K</td>\n",
       "      <td>2017-03-01</td>\n",
       "      <td>https://www.sec.gov/Archives/edgar/data/72971/...</td>\n",
       "      <td>\\n10-K\\n1\\nwfc-12312016x10k.htm\\n10-K\\n\\n\\n\\n\\...</td>\n",
       "      <td>2017</td>\n",
       "      <td>1</td>\n",
       "      <td>10-K</td>\n",
       "    </tr>\n",
       "  </tbody>\n",
       "</table>\n",
       "</div>"
      ],
      "text/plain": [
       "                                   Name   CIK #  \\\n",
       "0                               3 M Co.   66740   \n",
       "1               American Expression Co.    4962   \n",
       "2          American International Group    5272   \n",
       "3                       Bank of America   70858   \n",
       "4                            Boeing Co.   12927   \n",
       "5                      Caterpillar Inc.   18230   \n",
       "6                          Chevron Corp   93410   \n",
       "7                                  Citi  831001   \n",
       "8                         Coca-Cola Co.   21344   \n",
       "9         Dupont E I De Numours and Co.   30554   \n",
       "10                      Exxon Mobil Co.   34088   \n",
       "11                 General Electric Co.   40545   \n",
       "12             Goldman Sachs Group Inc.  886982   \n",
       "13                     Home Deport Inc.  354950   \n",
       "14                            Intel Co.   50863   \n",
       "15  International Business Machines Co.   51143   \n",
       "16                    Johnson & Johnson  200406   \n",
       "17               J P Morgan Chase & Co.   19617   \n",
       "18                       Mcdonald's Co.   63908   \n",
       "19                          Merck & Co.  310158   \n",
       "20                          Pfizer Inc.   78003   \n",
       "21             Travelers Companies Inc.   86312   \n",
       "22              United Technologies Co.  101829   \n",
       "23             United Health Group Inc.  731766   \n",
       "24          Verizon Communications Inc.  732712   \n",
       "25                             Wal-Mart  104169   \n",
       "26                          Wells Fargo   72971   \n",
       "\n",
       "                                 company report        date  \\\n",
       "0                                  3M CO   10-K  2017-02-09   \n",
       "1                    AMERICAN EXPRESS CO   10-K  2017-02-17   \n",
       "2       AMERICAN INTERNATIONAL GROUP INC   10-K  2017-02-23   \n",
       "3              BANK OF AMERICA CORP /DE/   10-K  2017-02-23   \n",
       "4                              BOEING CO   10-K  2017-02-08   \n",
       "5                        CATERPILLAR INC   10-K  2017-02-15   \n",
       "6                           CHEVRON CORP   10-K  2017-02-23   \n",
       "7                          CITIGROUP INC   10-K  2017-02-24   \n",
       "8                           COCA COLA CO   10-K  2017-02-24   \n",
       "9             DUPONT E I DE NEMOURS & CO   10-K  2017-02-02   \n",
       "10                      EXXON MOBIL CORP   10-K  2017-02-22   \n",
       "11                   GENERAL ELECTRIC CO   10-K  2017-02-24   \n",
       "12               GOLDMAN SACHS GROUP INC   10-K  2017-02-27   \n",
       "13                        HOME DEPOT INC   10-K  2017-03-23   \n",
       "14                            INTEL CORP   10-K  2017-02-17   \n",
       "15  INTERNATIONAL BUSINESS MACHINES CORP   10-K  2017-02-28   \n",
       "16                     JOHNSON & JOHNSON   10-K  2017-02-27   \n",
       "17                   JPMORGAN CHASE & CO   10-K  2017-02-28   \n",
       "18                        MCDONALDS CORP   10-K  2017-03-01   \n",
       "19                     Merck & Co., Inc.   10-K  2017-02-28   \n",
       "20                            PFIZER INC   10-K  2017-02-23   \n",
       "21             TRAVELERS COMPANIES, INC.   10-K  2017-02-16   \n",
       "22         UNITED TECHNOLOGIES CORP /DE/   10-K  2017-02-09   \n",
       "23                UNITEDHEALTH GROUP INC   10-K  2017-02-08   \n",
       "24            VERIZON COMMUNICATIONS INC   10-K  2017-02-21   \n",
       "25                   WAL MART STORES INC   10-K  2017-03-31   \n",
       "26              WELLS FARGO & COMPANY/MN   10-K  2017-03-01   \n",
       "\n",
       "                                                  url  \\\n",
       "0   https://www.sec.gov/Archives/edgar/data/66740/...   \n",
       "1   https://www.sec.gov/Archives/edgar/data/4962/0...   \n",
       "2   https://www.sec.gov/Archives/edgar/data/5272/0...   \n",
       "3   https://www.sec.gov/Archives/edgar/data/70858/...   \n",
       "4   https://www.sec.gov/Archives/edgar/data/12927/...   \n",
       "5   https://www.sec.gov/Archives/edgar/data/18230/...   \n",
       "6   https://www.sec.gov/Archives/edgar/data/93410/...   \n",
       "7   https://www.sec.gov/Archives/edgar/data/831001...   \n",
       "8   https://www.sec.gov/Archives/edgar/data/21344/...   \n",
       "9   https://www.sec.gov/Archives/edgar/data/30554/...   \n",
       "10  https://www.sec.gov/Archives/edgar/data/34088/...   \n",
       "11  https://www.sec.gov/Archives/edgar/data/40545/...   \n",
       "12  https://www.sec.gov/Archives/edgar/data/886982...   \n",
       "13  https://www.sec.gov/Archives/edgar/data/354950...   \n",
       "14  https://www.sec.gov/Archives/edgar/data/50863/...   \n",
       "15  https://www.sec.gov/Archives/edgar/data/51143/...   \n",
       "16  https://www.sec.gov/Archives/edgar/data/200406...   \n",
       "17  https://www.sec.gov/Archives/edgar/data/19617/...   \n",
       "18  https://www.sec.gov/Archives/edgar/data/63908/...   \n",
       "19  https://www.sec.gov/Archives/edgar/data/310158...   \n",
       "20  https://www.sec.gov/Archives/edgar/data/78003/...   \n",
       "21  https://www.sec.gov/Archives/edgar/data/86312/...   \n",
       "22  https://www.sec.gov/Archives/edgar/data/101829...   \n",
       "23  https://www.sec.gov/Archives/edgar/data/731766...   \n",
       "24  https://www.sec.gov/Archives/edgar/data/732712...   \n",
       "25  https://www.sec.gov/Archives/edgar/data/104169...   \n",
       "26  https://www.sec.gov/Archives/edgar/data/72971/...   \n",
       "\n",
       "                                            full_text  year  quarter  \\\n",
       "0   \\n10-K\\n1\\nmmm-20161231x10k.htm\\n10-K\\n\\n\\n\\n\\...  2017        1   \n",
       "1   \\n10-K\\n1\\nd321397d10k.htm\\nFORM 10-K\\n\\n\\nFor...  2017        1   \n",
       "2   \\n10-K\\n1\\nmaindocument001.htm\\n10-K\\n\\n\\n\\n\\n...  2017        1   \n",
       "3   \\n10-K\\n1\\nbac-1231201610xk.htm\\n10-K\\n\\n\\n\\n\\...  2017        1   \n",
       "4   \\n10-K\\n1\\na201612dec3110k.htm\\n10-K\\n\\n\\n\\n\\n...  2017        1   \n",
       "5   \\n10-K\\n1\\ncat_10-kx12312016.htm\\n10-K\\n\\n\\n\\n...  2017        1   \n",
       "6   \\n10-K\\n1\\ncvx-123116x10kdoc.htm\\n10-K\\n\\n\\n\\n...  2017        1   \n",
       "7   \\n10-K\\n1\\nc-12312016x10k.htm\\n10-K\\n\\n\\n\\n\\n\\...  2017        1   \n",
       "8   \\n10-K\\n1\\na2016123110-k.htm\\n10-K\\n\\n\\n\\n\\n\\n...  2017        1   \n",
       "9   \\n10-K\\n1\\ndd-12312016x10k.htm\\n10-K\\n\\n\\n\\n\\n...  2017        1   \n",
       "10  \\n10-K\\n1\\nxom10k2016.htm\\nFORM 10-K\\n\\n\\n\\n\\n...  2017        1   \n",
       "11  \\n10-K\\n1\\nge10k2016.htm\\n\\n\\n\\n\\n\\n\\n\\n\\n\\n\\n...  2017        1   \n",
       "12  \\n10-K\\n1\\nd308759d10k.htm\\nFORM 10-K\\n\\n\\nFor...  2017        1   \n",
       "13  \\n10-K\\n1\\nhd-01292017x10xk.htm\\n10-K\\n\\n\\n\\n\\...  2017        1   \n",
       "14  \\n10-K\\n1\\na10kdocument12312016q4.htm\\n10-K\\n\\...  2017        1   \n",
       "15  \\n10-K\\n1\\na2230222z10-k.htm\\n10-K\\n\\n\\n\\n\\n\\n...  2017        1   \n",
       "16  \\n10-K\\n1\\nform10-k20170101.htm\\n10-K\\n\\n\\n\\n\\...  2017        1   \n",
       "17  \\n10-K\\n1\\ncorp10k2016.htm\\nFORM 10-K\\n\\n\\n\\n\\...  2017        1   \n",
       "18  \\n10-K\\n1\\nmcd-12312016x10k.htm\\nFORM 10-K\\n\\n...  2017        1   \n",
       "19  \\n10-K\\n1\\nmrk1231201610k.htm\\n2016 FORM 10-K\\...  2017        1   \n",
       "20  \\n10-K\\n1\\npfe-12312016x10kshell.htm\\nFORM 10-...  2017        1   \n",
       "21  \\n10-K\\n1\\na2230860z10-k.htm\\n10-K\\n\\n\\n\\n\\n\\n...  2017        1   \n",
       "22  \\n10-K\\n1\\na2016-12x31form10xk.htm\\n10-K\\n\\n\\n...  2017        1   \n",
       "23  \\n10-K\\n1\\nunh2016123110-k.htm\\n10-K\\n\\n\\n\\n\\n...  2017        1   \n",
       "24  \\n10-K\\n1\\nd296602d10k.htm\\n10-K\\n\\n\\n10-K\\n\\n...  2017        1   \n",
       "25  \\n10-K\\n1\\nwmtform10-kx1312017.htm\\nFORM 10-K\\...  2017        1   \n",
       "26  \\n10-K\\n1\\nwfc-12312016x10k.htm\\n10-K\\n\\n\\n\\n\\...  2017        1   \n",
       "\n",
       "   report_type  \n",
       "0         10-K  \n",
       "1         10-K  \n",
       "2         10-K  \n",
       "3         10-K  \n",
       "4         10-K  \n",
       "5         10-K  \n",
       "6         10-K  \n",
       "7         10-K  \n",
       "8         10-K  \n",
       "9         10-K  \n",
       "10        10-K  \n",
       "11        10-K  \n",
       "12        10-K  \n",
       "13        10-K  \n",
       "14        10-K  \n",
       "15        10-K  \n",
       "16        10-K  \n",
       "17        10-K  \n",
       "18        10-K  \n",
       "19        10-K  \n",
       "20        10-K  \n",
       "21        10-K  \n",
       "22        10-K  \n",
       "23        10-K  \n",
       "24        10-K  \n",
       "25        10-K  \n",
       "26        10-K  "
      ]
     },
     "execution_count": 166,
     "metadata": {},
     "output_type": "execute_result"
    }
   ],
   "source": [
    "data_2017_qrt1"
   ]
  },
  {
   "cell_type": "code",
   "execution_count": null,
   "metadata": {
    "collapsed": true
   },
   "outputs": [],
   "source": []
  },
  {
   "cell_type": "code",
   "execution_count": null,
   "metadata": {
    "collapsed": false
   },
   "outputs": [],
   "source": []
  },
  {
   "cell_type": "code",
   "execution_count": null,
   "metadata": {
    "collapsed": true
   },
   "outputs": [],
   "source": []
  },
  {
   "cell_type": "code",
   "execution_count": null,
   "metadata": {
    "collapsed": true
   },
   "outputs": [],
   "source": []
  },
  {
   "cell_type": "code",
   "execution_count": null,
   "metadata": {
    "collapsed": true
   },
   "outputs": [],
   "source": []
  },
  {
   "cell_type": "code",
   "execution_count": null,
   "metadata": {
    "collapsed": true
   },
   "outputs": [],
   "source": []
  },
  {
   "cell_type": "code",
   "execution_count": null,
   "metadata": {
    "collapsed": true
   },
   "outputs": [],
   "source": []
  },
  {
   "cell_type": "code",
   "execution_count": null,
   "metadata": {
    "collapsed": false
   },
   "outputs": [],
   "source": []
  },
  {
   "cell_type": "code",
   "execution_count": null,
   "metadata": {
    "collapsed": false
   },
   "outputs": [],
   "source": []
  },
  {
   "cell_type": "code",
   "execution_count": null,
   "metadata": {
    "collapsed": false
   },
   "outputs": [],
   "source": []
  },
  {
   "cell_type": "code",
   "execution_count": null,
   "metadata": {
    "collapsed": false
   },
   "outputs": [],
   "source": []
  },
  {
   "cell_type": "code",
   "execution_count": null,
   "metadata": {
    "collapsed": false
   },
   "outputs": [],
   "source": []
  },
  {
   "cell_type": "code",
   "execution_count": null,
   "metadata": {
    "collapsed": true
   },
   "outputs": [],
   "source": []
  },
  {
   "cell_type": "code",
   "execution_count": null,
   "metadata": {
    "collapsed": true
   },
   "outputs": [],
   "source": []
  },
  {
   "cell_type": "code",
   "execution_count": null,
   "metadata": {
    "collapsed": true
   },
   "outputs": [],
   "source": [
    "# old code\n",
    "#def search_company_name(data, company_name, report_type):\n",
    "    company_list = dict()\n",
    "    url_list = list()\n",
    "    date_list = list()\n",
    "    data_report = data[data[\"report\"] == report_type]\n",
    "    for company in map(lambda x: str(x), company_name):\n",
    "        data_company = data_report[data_report[\"CIK\"]==(company)]\n",
    "        url_company = list(data_company[\"url\"])\n",
    "        file_date = list(data_company[\"date\"])\n",
    "        if not url_company:\n",
    "            url_list.append(np.NaN)\n",
    "        else:\n",
    "            url_list.append(url_company[0])\n",
    "        if not file_date:\n",
    "            date_list.append(np.NaN)\n",
    "        else:\n",
    "            date_list.append(file_date[0])\n",
    "    company_list[\"url\"] = url_list\n",
    "    company_list[\"date\"] = date_list\n",
    "    return company_list"
   ]
  },
  {
   "cell_type": "code",
   "execution_count": null,
   "metadata": {
    "collapsed": true
   },
   "outputs": [],
   "source": [
    "# old code\n",
    "#def getting_data(company_list, year_number, qtr, report_type, company_name):\n",
    "    full_text_list = list()\n",
    "    url_list = company_list[\"url\"]\n",
    "    for report in url_list:\n",
    "        if pd.isnull(report):\n",
    "            full_text = np.NaN\n",
    "            full_text_list.append(full_text)\n",
    "            #print \"not found\"\n",
    "        else:\n",
    "            text = requests.get(report).text\n",
    "            text = BeautifulSoup(text, \"html.parser\")\n",
    "            target = text.find(\"table\",{\"class\":\"tableFile\"})\n",
    "            link = target.find_all(\"tr\")[1].find_all(\"a\")[0][\"href\"]\n",
    "            final_link = \"https://www.sec.gov\"+link\n",
    "            text_report = requests.get(final_link).text\n",
    "            text_report = BeautifulSoup(text_report, \"html.parser\")\n",
    "            content = text_report.text\n",
    "            content = content.encode(encoding='UTF-8')\n",
    "            full_text_list.append(content)\n",
    "            #print\"found it\"\n",
    "    #print len(names)\n",
    "    #print len(full_text_list)\n",
    "    data_text = {\"CIK\":company_name,\"full_text\":full_text_list,\"url\":company_list[\"url\"], \"file_date\":company_list[\"date\"]}\n",
    "    df_text = pd.DataFrame.from_dict(data_text)\n",
    "    df_text[\"year\"] = year_number\n",
    "    df_text[\"quarter\"] = qtr\n",
    "    df_text[\"report_type\"] = report_type\n",
    "    return df_text"
   ]
  },
  {
   "cell_type": "code",
   "execution_count": null,
   "metadata": {
    "collapsed": true
   },
   "outputs": [],
   "source": []
  },
  {
   "cell_type": "code",
   "execution_count": null,
   "metadata": {
    "collapsed": true
   },
   "outputs": [],
   "source": []
  },
  {
   "cell_type": "code",
   "execution_count": null,
   "metadata": {
    "collapsed": true
   },
   "outputs": [],
   "source": []
  },
  {
   "cell_type": "code",
   "execution_count": null,
   "metadata": {
    "collapsed": true
   },
   "outputs": [],
   "source": []
  },
  {
   "cell_type": "code",
   "execution_count": null,
   "metadata": {
    "collapsed": true
   },
   "outputs": [],
   "source": []
  }
 ],
 "metadata": {
  "anaconda-cloud": {},
  "kernelspec": {
   "display_name": "Python [conda root]",
   "language": "python",
   "name": "conda-root-py"
  },
  "language_info": {
   "codemirror_mode": {
    "name": "ipython",
    "version": 2
   },
   "file_extension": ".py",
   "mimetype": "text/x-python",
   "name": "python",
   "nbconvert_exporter": "python",
   "pygments_lexer": "ipython2",
   "version": "2.7.12"
  }
 },
 "nbformat": 4,
 "nbformat_minor": 2
}
